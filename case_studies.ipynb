{
 "cells": [
  {
   "cell_type": "markdown",
   "metadata": {},
   "source": [
    "# DNA Translation with Python"
   ]
  },
  {
   "cell_type": "markdown",
   "metadata": {},
   "source": []
  },
  {
   "cell_type": "code",
   "execution_count": 1,
   "metadata": {},
   "outputs": [
    {
     "data": {
      "text/plain": [
       "'MSTHDTSLKTTEEVAFQIILLCQFGVGTFANVFLFVYNFSPISTGSKQRPRQVILRHMAVANALTLFLTIFPNNMMTFAPIIPQTDLKCKLEFFTRLVARSTNLCSTCVLSIHQFVTLVPVNSGKGILRASVTNMASYSCYSCWFFSVLNNIYIPIKVTGPQLTDNNNNSKSKLFCSTSDFSVGIVFLRFAHDATFMSIMVWTSVSMVLLLHRHCQRMQYIFTLNQDPRGQAETTATHTILMLVVTFVGFYLLSLICIIFYTYFIYSHHSLRHCNDILVSGFPTISPLLLTFRDPKGPCSVFFNC_'"
      ]
     },
     "execution_count": 1,
     "metadata": {},
     "output_type": "execute_result"
    }
   ],
   "source": [
    "# four dna sequence are translated to one amino acid using the table\n",
    "# get the dna to be translated\n",
    "from DNA.dna import table\n",
    "\n",
    "with open(\"./dna.txt\", mode=\"r\") as file:\n",
    "    seq = file.read().replace(\"\\n\", \"\").replace(\"\\r\", \"\")\n",
    "\n",
    "def translate_dna(seq):\n",
    "    protein = ''\n",
    "    if len(seq) % 3 == 0:\n",
    "        for i in range(0, len(seq), 3):\n",
    "            DNA = seq[i: i+3]\n",
    "            amino = table[DNA]\n",
    "            protein += amino\n",
    "    return protein\n",
    "translate_dna(seq[20:938])\n"
   ]
  },
  {
   "cell_type": "code",
   "execution_count": 2,
   "metadata": {},
   "outputs": [
    {
     "data": {
      "text/plain": [
       "'GGTCAGAAAAAGCCCTCTCCATGTCTACTCACGATACATCCCTGAAAACCACTGAGGAAGTGGCTTTTCAGATCATCTTGCTTTGCCAGTTTGGGGTTGGGACTTTTGCCAATGTATTTCTCTTTGTCTATAATTTCTCTCCAATCTCGACTGGTTCTAAACAGAGGCCCAGACAAGTGATTTTAAGACACATGGCTGTGGCCAATGCCTTAACTCTCTTCCTCACTATATTTCCAAACAACATGATGACTTTTGCTCCAATTATTCCTCAAACTGACCTCAAATGTAAATTAGAATTCTTCACTCGCCTCGTGGCAAGAAGCACAAACTTGTGTTCAACTTGTGTTCTGAGTATCCATCAGTTTGTCACACTTGTTCCTGTTAATTCAGGTAAAGGAATACTCAGAGCAAGTGTCACAAACATGGCAAGTTATTCTTGTTACAGTTGTTGGTTCTTCAGTGTCTTAAATAACATCTACATTCCAATTAAGGTCACTGGTCCACAGTTAACAGACAATAACAATAACTCTAAAAGCAAGTTGTTCTGTTCCACTTCTGATTTCAGTGTAGGCATTGTCTTCTTGAGGTTTGCCCATGATGCCACATTCATGAGCATCATGGTCTGGACCAGTGTCTCCATGGTACTTCTCCTCCATAGACATTGTCAGAGAATGCAGTACATATTCACTCTCAATCAGGACCCCAGGGGCCAAGCAGAGACCACAGCAACCCATACTATCCTGATGCTGGTAGTCACATTTGTTGGCTTTTATCTTCTAAGTCTTATTTGTATCATCTTTTACACCTATTTTATATATTCTCATCATTCCCTGAGGCATTGCAATGACATTTTGGTTTCGGGTTTCCCTACAATTTCTCCTTTACTGTTGACCTTCAGAGACCCTAAGGGTCCTTGTTCTGTGTTCTTCAACTGTTGAAAGCCAGAGTCACTAAAAATGCCAAACACAGAAGACAGCTTTGCTAATACCATTAAATACTTTATTCCATAAATATGTTTTTAAAAGCTTGTATGAACAAGGTATGGTGCTCACTGCTATACTTATAAAAGAGTAAGGTTATAATCACTTGTTGATATGAAAAGATTTCTGGTTGGAATCTGATTGAAACAGTGAGTTATTCACCACCCTCCATTCTCT'"
      ]
     },
     "execution_count": 2,
     "metadata": {},
     "output_type": "execute_result"
    }
   ],
   "source": [
    "seq"
   ]
  },
  {
   "cell_type": "code",
   "execution_count": 19,
   "metadata": {},
   "outputs": [
    {
     "data": {
      "text/plain": [
       "'I'"
      ]
     },
     "execution_count": 19,
     "metadata": {},
     "output_type": "execute_result"
    }
   ],
   "source": [
    "# translate_dna(\"ATA\")"
   ]
  },
  {
   "cell_type": "code",
   "execution_count": 5,
   "metadata": {},
   "outputs": [
    {
     "data": {
      "text/plain": [
       "[['gold', 13, 20000], ['laptop', 7, 1700]]"
      ]
     },
     "execution_count": 5,
     "metadata": {},
     "output_type": "execute_result"
    }
   ],
   "source": [
    "# Greedy algorithms#\n",
    "items = [[\"gold\", 13, 20000], [\"phone\", 2, 1000], [\"laptop\", 7, 1700], [\"stereo\", 17, 600], [\"airpod\", 1, 800]]\n",
    "bag = []\n",
    "available = 20\n",
    "def get_most_expensive(items):\n",
    "    most_expensive = None\n",
    "    cost = float(\"-inf\")\n",
    "    \n",
    "    for item in items:\n",
    "        if item[2] > cost and item[1] <= available:\n",
    "            most_expensive = item\n",
    "            cost = item[2]\n",
    "    \n",
    "    return most_expensive\n",
    "\n",
    "def fill_bag():\n",
    "    most_expensive = get_most_expensive(items)\n",
    "    global available\n",
    "    while most_expensive:\n",
    "        take = items.pop(items.index(most_expensive))\n",
    "        bag.append(take)\n",
    "        available -= take[1]\n",
    "        most_expensive = get_most_expensive(items)\n",
    "        \n",
    "        \n",
    "        \n",
    "    return bag\n",
    "\n",
    "fill_bag()\n",
    "    "
   ]
  },
  {
   "cell_type": "code",
   "execution_count": 1,
   "metadata": {},
   "outputs": [
    {
     "name": "stdout",
     "output_type": "stream",
     "text": [
      "[{'name': 'Gold', 'weight': 13, 'worth': 10000}, {'name': 'laptop', 'weight': 7, 'worth': 3000}]\n"
     ]
    }
   ],
   "source": [
    "# Greedy algorithms without functions\n",
    "available = 20\n",
    "items = [\n",
    "    {\n",
    "      \"name\" : \"diamond\",\n",
    "      \"weight\": 23,\n",
    "      \"worth\": 30000\n",
    "    },{\n",
    "        \"name\": \"Gold\",\n",
    "        \"weight\": 13,\n",
    "        \"worth\": 10000\n",
    "    },{\n",
    "        \"name\": \"phone\",\n",
    "        \"weight\": 2,\n",
    "        \"worth\": 1500\n",
    "    },{\n",
    "        \"name\": \"laptop\",\n",
    "        \"weight\": 7,\n",
    "        \"worth\": 3000\n",
    "    },{\n",
    "        \"name\": \"TV\",\n",
    "        \"weight\": 8,\n",
    "        \"worth\": 2000\n",
    "    },{\n",
    "        \"name\": \"stereo\",\n",
    "        \"weight\": 6,\n",
    "        \"worth\": 1500\n",
    "    }, {\"name\": \"stereo\", \"weight\": 2, \"worth\": 500 },  {\"name\": \"syringe\", \"weight\": 0.5, \"worth\": 50 }, {\"name\": \"money\", \"weight\": 1, \"worth\": 1000 }\n",
    "]; collected = []\n",
    "\n",
    "while available > 0:\n",
    "    best_item = None\n",
    "    worth = 0\n",
    "    for item in items:\n",
    "        if item[\"worth\"] > worth and item not in collected and item[\"weight\"] <= available:\n",
    "            best_item = item\n",
    "            worth = item[\"worth\"]\n",
    "    if best_item is None:\n",
    "        available = 0\n",
    "    else:\n",
    "        collected.append(best_item)\n",
    "        available -= best_item[\"weight\"]\n",
    "        \n",
    "        \n",
    "print(collected)\n",
    "    \n",
    "        "
   ]
  },
  {
   "cell_type": "markdown",
   "metadata": {},
   "source": [
    "# Language Processing"
   ]
  },
  {
   "cell_type": "markdown",
   "metadata": {},
   "source": [
    "## In this case study, we will examine the properties of individual books in a book collection.\n",
    "* We will look at attributes such as book lengths, number of unique words. \n",
    "* Then how these attribbutes **cluster** by language of the author **or** authorship"
   ]
  },
  {
   "cell_type": "code",
   "execution_count": null,
   "metadata": {},
   "outputs": [],
   "source": []
  },
  {
   "cell_type": "code",
   "execution_count": 5,
   "metadata": {},
   "outputs": [
    {
     "data": {
      "text/plain": [
       "True"
      ]
     },
     "execution_count": 5,
     "metadata": {},
     "output_type": "execute_result"
    }
   ],
   "source": [
    "# Counting words \n",
    "from collections import Counter\n",
    "sentence = \"Hello world!. Hello world is used to introduce people to the world of programming. It is usually the first thing a programmer writes\"\n",
    "\n",
    "def count_words(sentence):\n",
    "    \"\"\"Counts the occurence of each word in a string. Removes extra characers like ! , . and converts all characters to lower case\"\"\"\n",
    "    words = sentence.lower()\n",
    "    common_punctuations = [\"!\", \",\", \".\", \"?\", '\"', \";\", \":\"]\n",
    "    \n",
    "    for char in common_punctuations:\n",
    "        words = words.replace(char, \"\")\n",
    "    \n",
    "    word_count = {}\n",
    "    for word in words.split(\" \"):\n",
    "        if word in word_count:\n",
    "            word_count[word] += 1\n",
    "        else:\n",
    "            word_count[word] = 1\n",
    "    return word_count\n",
    "\n",
    "def count_words_fast(sentence):\n",
    "    \"\"\"Counts the occurence of each word in a string. Removes extra characers like ! , . and converts all characters to lower case.\n",
    "        Uses the Counter tool from collections to do the counting\n",
    "    \"\"\"\n",
    "    words = sentence.lower()\n",
    "    common_punctuations = [\"!\", \",\", \".\", \"?\", '\"', \";\", \":\"]\n",
    "    \n",
    "    for char in common_punctuations:\n",
    "        words = words.replace(char, \"\")\n",
    "    \n",
    "    word_count = Counter(words.split(\" \"))\n",
    "    return word_count\n",
    "\n",
    "\n",
    "count_words_fast(sentence) == count_words(sentence)"
   ]
  },
  {
   "cell_type": "markdown",
   "metadata": {},
   "source": [
    "## Learn how to read in a book from a file\n"
   ]
  },
  {
   "cell_type": "code",
   "execution_count": 3,
   "metadata": {},
   "outputs": [],
   "source": [
    "def read_book(title_path):\n",
    "    \"\"\"\n",
    "        Takes in a book path as argument and returns the content of the book as a string\n",
    "    \"\"\"\n",
    "    with open(title_path, \"r\", encoding=\"utf8\") as current_file:\n",
    "        text = current_file.read()\n",
    "        text = text.replace(\"\\n\", \"\").replace(\"\\r\", \"\")\n",
    "    \n",
    "    return text"
   ]
  },
  {
   "cell_type": "code",
   "execution_count": 37,
   "metadata": {},
   "outputs": [
    {
     "data": {
      "text/plain": [
       "\"What's in a name? That which we call a rose    By any other name would smell as sweet.    So Romeo would, were he not Romeo call'd,    Retain that dear perfection which he owes    Without that title. Romeo, doff thy name;    And for that name, which is no part of thee,    Take all myself.  Rom. I take thee at thy word.    Call me but love, and I'll be new baptiz'd;    Henceforth I never will be Romeo.  Jul. What man art thou that, thus bescreen'd in night,    So stumblest on my counsel?  Rom. By a name    I know not how to tell thee who I am.    My name, dear saint, is hateful to myself,    Because it is an enemy to thee.    Had I it written, I would tear the word.  Jul. My ears have yet not drunk a hundred words    Of that tongue's utterance, yet I know the sound.    Art thou not Romeo, and a Montague?  Rom. Neither, fair saint, if either thee dislike.  Jul. How cam'st thou hither, tell me, and wherefore?    The orchard walls are high and hard to climb,    And the place death, conside\""
      ]
     },
     "execution_count": 37,
     "metadata": {},
     "output_type": "execute_result"
    }
   ],
   "source": [
    "story = read_book('''./Books_EngFr/Books_EngFr/English/shakespeare/Romeo and Juliet.txt''')\n",
    "len(story)\n",
    "\n",
    "# Printing a substring from the sample text\n",
    "idx = story.find(\"What's in a name\")\n",
    "sample_text = story[idx: idx + 1000]\n",
    "sample_text"
   ]
  },
  {
   "cell_type": "code",
   "execution_count": 29,
   "metadata": {},
   "outputs": [
    {
     "ename": "SyntaxError",
     "evalue": "(unicode error) 'unicodeescape' codec can't decode bytes in position 2-3: truncated \\UXXXXXXXX escape (<ipython-input-29-25f4b5b3aefe>, line 1)",
     "output_type": "error",
     "traceback": [
      "\u001b[1;36m  File \u001b[1;32m\"<ipython-input-29-25f4b5b3aefe>\"\u001b[1;36m, line \u001b[1;32m1\u001b[0m\n\u001b[1;33m    'C:\\Users\\USER\\Desktop\\PyForRx\\PythonForRx\\Books_EngFr\\Books_EngFr\\English\\shakespeare'.replace('\\\\', '/')\u001b[0m\n\u001b[1;37m                                                                                           ^\u001b[0m\n\u001b[1;31mSyntaxError\u001b[0m\u001b[1;31m:\u001b[0m (unicode error) 'unicodeescape' codec can't decode bytes in position 2-3: truncated \\UXXXXXXXX escape\n"
     ]
    }
   ],
   "source": []
  },
  {
   "cell_type": "code",
   "execution_count": 2,
   "metadata": {},
   "outputs": [],
   "source": [
    "# Computing word frequency statistics\n",
    "## We want to define a function that counts the number of unique words and also gives the total number of words given a text\n",
    "def word_stats(word_count: dict) -> tuple:\n",
    "    \"\"\"\n",
    "        Given a dictionary of words and their frequencies(How often they occur),\n",
    "        Returns the total number of unique words in the dictionary as well as the total number of words\n",
    "    \"\"\"\n",
    "    unique_words = len(word_count)\n",
    "    total_words = sum(word_count.values())\n",
    "    \n",
    "    return (unique_words, total_words)\n",
    "\n"
   ]
  },
  {
   "cell_type": "code",
   "execution_count": 46,
   "metadata": {},
   "outputs": [
    {
     "name": "stdout",
     "output_type": "stream",
     "text": [
      "English version of Romeo and Juliet: unique words -> 4777, total words -> 40776\n"
     ]
    }
   ],
   "source": [
    "# Word_stats in English version of the book Romeo and Juliet\n",
    "story = read_book('''./Books_EngFr/Books_EngFr/English/shakespeare/Romeo and Juliet.txt''')\n",
    "\n",
    "# Call count_words on story to create dictionary of words and their frequencies\n",
    "word_dictionary = count_words(story)\n",
    "\n",
    "unique_words, total_words = word_stats(word_dictionary)\n",
    "print(f\"English version of Romeo and Juliet: unique words -> {unique_words}, total words -> {total_words}\")"
   ]
  },
  {
   "cell_type": "code",
   "execution_count": 45,
   "metadata": {},
   "outputs": [
    {
     "name": "stdout",
     "output_type": "stream",
     "text": [
      "German version of Romeo and Juliet: unique words -> 7344, total words -> 20311\n"
     ]
    }
   ],
   "source": [
    "# Word_stats in German version of the book Romeo and Juliet\n",
    "story = read_book('''./Books_GerPort/German/shakespeare/Romeo und Julia.txt''')\n",
    "\n",
    "# Call count_words on story to create dictionary of words and their frequencies\n",
    "word_dictionary = count_words(story)\n",
    "\n",
    "unique_words, total_words = word_stats(word_dictionary)\n",
    "print(f\"German version of Romeo and Juliet: unique words -> {unique_words}, total words -> {total_words}\")"
   ]
  },
  {
   "cell_type": "markdown",
   "metadata": {},
   "source": [
    "## Reading multiple files and storing their data in a Pandas DataFrame\n",
    "\n",
    "* To create a pandas dataframe with empty rows and columns at first, we can start by doing \n",
    "*   -> table = pd.DataFrame(columns=(\"first\", \"second\"))\n",
    "* You can then populate the table in this manner\n",
    "    -> row = 1\n",
    "*   -> table.loc[row] = \"sam\", \"Atuma\"\n"
   ]
  },
  {
   "cell_type": "code",
   "execution_count": 60,
   "metadata": {},
   "outputs": [
    {
     "name": "stdout",
     "output_type": "stream",
     "text": [
      "der freigeist.txt\n",
      "der junge gelehrte.txt\n",
      "die juden.txt\n",
      "emilia galotti.txt\n",
      "hamburgische dramaturgie.txt\n",
      "minna von barnhelm.txt\n",
      "miss sara sampson.txt\n",
      "philotas.txt\n",
      "Das MN¦âdchen aus der Feenwelt.txt\n",
      "Der Alpenki¦énig und der Menschenfeind.txt\n",
      "Der Barometermacher auf der Zauberinsel.txt\n",
      "Der Diamant des Geisterki¦énigs.txt\n",
      "Der Verschwender.txt\n",
      "Die gefesselte Phantasie.txt\n",
      "Die unheilbringende Krone.txt\n",
      "Moisasurs Zauberfluch.txt\n",
      "Der Neffe als Onkel.txt\n",
      "Der Parasit, oder die Kunst, sein GlA¦èck zu machen.txt\n",
      "die braut von messina.txt\n",
      "Die Huldigung der KA¦ènste.txt\n",
      "Die Jungfrau von Orleans.txt\n",
      "Die Piccolomini.txt\n",
      "Die Verschwi¦érung des Fiesco zu Genua.txt\n",
      "Kabale und Liebe.txt\n",
      "Turandot, Prinzessin von China.txt\n",
      "Wallensteins Lager.txt\n",
      "Wallensteins Tod.txt\n",
      "Der Kaufmann von Venedig.txt\n",
      "Ein Sommernachtstraum.txt\n",
      "Hamlet.txt\n",
      "Macbeth.txt\n",
      "Othello.txt\n",
      "Richard III.txt\n",
      "Romeo und Julia.txt\n",
      "A Filha do Arcediago.txt\n",
      "A Neta do Arcediago.txt\n",
      "A Queda d'um Anjo.txt\n",
      "Agulha em Palheiro.txt\n",
      "Amor de Perdic¦ºa¦âo.txt\n",
      "Amor de Salvac¦ºa¦âo.txt\n",
      "Annos de Prosa.txt\n",
      "Carlota Angela.txt\n",
      "Estrellas Funestas.txt\n",
      "Estrellas Prop-¦cias.txt\n",
      "Lagrimas Abena¦üoadas.txt\n",
      "Livro de Consolac¦ºa¦âo.txt\n",
      "O Olho de Vidro.txt\n",
      "O que fazem mulheres.txt\n",
      "O Regicida.txt\n",
      "Scenas Contemporaneas.txt\n",
      "A Morgadinha dos Cannaviaes.txt\n",
      "Os fidalgos da Casa Mourisca.txt\n",
      "Uma fam-¦lia ingleza.txt\n",
      "A Cidade e as Serras.txt\n",
      "A corresponda¦Çncia de Fradique Mendes.txt\n",
      "A Illustre Casa de Ramires.txt\n",
      "A Rel-¦quia.txt\n",
      "Cartas de Inglaterra.txt\n",
      "O crime do padre Amaro.txt\n",
      "O Mandarim.txt\n",
      "O Primo Bazilio.txt\n",
      "Os Maias.txt\n",
      "Hamlet.txt\n"
     ]
    }
   ],
   "source": [
    "import os\n",
    "# Reading multiple files and storing their data on a table\n",
    "\n",
    "# reading the file\n",
    "languages = './Books_GerPort'\n",
    "\n",
    "\n",
    "for language in os.listdir(languages):\n",
    "    for author in os.listdir(languages + \"/\" + language):\n",
    "        for book in os.listdir(languages + \"/\" + language + \"/\" + author):\n",
    "            print(book)\n",
    "\n"
   ]
  },
  {
   "cell_type": "code",
   "execution_count": 37,
   "metadata": {},
   "outputs": [
    {
     "name": "stdout",
     "output_type": "stream",
     "text": [
      "der freigeist.txt\n",
      "der junge gelehrte.txt\n",
      "die juden.txt\n",
      "emilia galotti.txt\n",
      "hamburgische dramaturgie.txt\n",
      "minna von barnhelm.txt\n",
      "miss sara sampson.txt\n",
      "philotas.txt\n",
      "Das MN¦âdchen aus der Feenwelt.txt\n",
      "Der Alpenki¦énig und der Menschenfeind.txt\n",
      "Der Barometermacher auf der Zauberinsel.txt\n",
      "Der Diamant des Geisterki¦énigs.txt\n",
      "Der Verschwender.txt\n",
      "Die gefesselte Phantasie.txt\n",
      "Die unheilbringende Krone.txt\n",
      "Moisasurs Zauberfluch.txt\n",
      "Der Neffe als Onkel.txt\n",
      "Der Parasit, oder die Kunst, sein GlA¦èck zu machen.txt\n",
      "die braut von messina.txt\n",
      "Die Huldigung der KA¦ènste.txt\n",
      "Die Jungfrau von Orleans.txt\n",
      "Die Piccolomini.txt\n",
      "Die Verschwi¦érung des Fiesco zu Genua.txt\n",
      "Kabale und Liebe.txt\n",
      "Turandot, Prinzessin von China.txt\n",
      "Wallensteins Lager.txt\n",
      "Wallensteins Tod.txt\n",
      "Der Kaufmann von Venedig.txt\n",
      "Ein Sommernachtstraum.txt\n",
      "Hamlet.txt\n",
      "Macbeth.txt\n",
      "Othello.txt\n",
      "Richard III.txt\n",
      "Romeo und Julia.txt\n",
      "A Filha do Arcediago.txt\n",
      "A Neta do Arcediago.txt\n",
      "A Queda d'um Anjo.txt\n",
      "Agulha em Palheiro.txt\n",
      "Amor de Perdic¦ºa¦âo.txt\n",
      "Amor de Salvac¦ºa¦âo.txt\n",
      "Annos de Prosa.txt\n",
      "Carlota Angela.txt\n",
      "Estrellas Funestas.txt\n",
      "Estrellas Prop-¦cias.txt\n",
      "Lagrimas Abena¦üoadas.txt\n",
      "Livro de Consolac¦ºa¦âo.txt\n",
      "O Olho de Vidro.txt\n",
      "O que fazem mulheres.txt\n",
      "O Regicida.txt\n",
      "Scenas Contemporaneas.txt\n",
      "A Morgadinha dos Cannaviaes.txt\n",
      "Os fidalgos da Casa Mourisca.txt\n",
      "Uma fam-¦lia ingleza.txt\n",
      "A Cidade e as Serras.txt\n",
      "A corresponda¦Çncia de Fradique Mendes.txt\n",
      "A Illustre Casa de Ramires.txt\n",
      "A Rel-¦quia.txt\n",
      "Cartas de Inglaterra.txt\n",
      "O crime do padre Amaro.txt\n",
      "O Mandarim.txt\n",
      "O Primo Bazilio.txt\n",
      "Os Maias.txt\n",
      "Hamlet.txt\n",
      "A Midsummer Night's Dream.txt\n",
      "Hamlet.txt\n",
      "Macbeth.txt\n",
      "Othello.txt\n",
      "Richard III.txt\n",
      "Romeo and Juliet.txt\n",
      "The Merchant of Venice.txt\n",
      "L'a¦èle de sable.txt\n",
      "L'enfer et le paradis de l'autre monde.txt\n",
      "La capitaine.txt\n",
      "La fille des indiens rouges.txt\n",
      "La fille du pirate.txt\n",
      "Le chasseur noir.txt\n",
      "Les derniers Iroquois.txt\n",
      "+Æuvres comple¦Çtes de Guy de Maupassant.txt\n",
      "Boule de Suif.txt\n",
      "Claire de Lune.txt\n",
      "Contes de la Becasse.txt\n",
      "L'inutile beautC¦º.txt\n",
      "La Main Gauche.txt\n",
      "La Maison Tellier.txt\n",
      "La petite roque.txt\n",
      "Le Horla.txt\n",
      "Ceci n'est pas un conte.txt\n",
      "Entretien d'un pa¦êre avec ses enfants.txt\n",
      "L'oiseau blanc.txt\n",
      "Les deux amis de Bourbonne.txt\n",
      "Regrets sur ma vieille robe de chambre.txt\n",
      "cora.txt\n",
      "Jacques le fataliste et son maa¦ètre.txt\n",
      "L' Orco.txt\n",
      "La Coupe; Lupo Liverani; Le Toast; Garnier; Le Contrebandier; La Ra¦Çverie O¦ê Paris.txt\n",
      "La Marquise.txt\n",
      "Le Piccinino.txt\n",
      "Le poa¦éme de Myrza.txt\n",
      "Mattea.txt\n",
      "Metella.txt\n",
      "Oeuvres illustrC¦ºes de George Sand.txt\n",
      "Pauline.txt\n"
     ]
    }
   ],
   "source": [
    "import pandas as pd\n",
    "import os\n",
    "# Reading multiple files and storing their data on a table\n",
    "languages = './Books_GerPort'\n",
    "\n",
    "# holding important data on the table\n",
    "row = 1\n",
    "table = pd.DataFrame(columns=(\"author\", \"title\", \"language\", \"unique_words\", \"total_words\"))\n",
    "for language in os.listdir(languages):\n",
    "    for author in os.listdir(languages + \"/\" + language):\n",
    "        for book in os.listdir(languages + \"/\" + language + \"/\" + author):\n",
    "            book_text = read_book(languages + \"/\" + language + \"/\" + author + \"/\" + book)\n",
    "            unique_words, total_words = word_stats(count_words(book_text))\n",
    "            table.loc[row] = author, book.replace(\".txt\", \"\"), language, unique_words, total_words\n",
    "            row += 1\n",
    "            print(book)\n",
    "            \n",
    "\n",
    "languages = './Books_EngFr'\n",
    "\n",
    "# holding important data on the table\n",
    "row = row + 1\n",
    "for language in os.listdir(languages):\n",
    "    for author in os.listdir(languages + \"/\" + language):\n",
    "        for book in os.listdir(languages + \"/\" + language + \"/\" + author):\n",
    "            book_text = read_book(languages + \"/\" + language + \"/\" + author + \"/\" + book)\n",
    "            unique_words, total_words = word_stats(count_words(book_text))\n",
    "            table.loc[row] = author, book.replace(\".txt\", \"\"), language, unique_words, total_words\n",
    "            row += 1\n",
    "            print(book)\n",
    "            "
   ]
  },
  {
   "cell_type": "code",
   "execution_count": null,
   "metadata": {},
   "outputs": [],
   "source": [
    "\n"
   ]
  },
  {
   "cell_type": "code",
   "execution_count": 41,
   "metadata": {},
   "outputs": [
    {
     "data": {
      "text/html": [
       "<div>\n",
       "<style scoped>\n",
       "    .dataframe tbody tr th:only-of-type {\n",
       "        vertical-align: middle;\n",
       "    }\n",
       "\n",
       "    .dataframe tbody tr th {\n",
       "        vertical-align: top;\n",
       "    }\n",
       "\n",
       "    .dataframe thead th {\n",
       "        text-align: right;\n",
       "    }\n",
       "</style>\n",
       "<table border=\"1\" class=\"dataframe\">\n",
       "  <thead>\n",
       "    <tr style=\"text-align: right;\">\n",
       "      <th></th>\n",
       "      <th>author</th>\n",
       "      <th>title</th>\n",
       "      <th>language</th>\n",
       "      <th>unique_words</th>\n",
       "      <th>total_words</th>\n",
       "    </tr>\n",
       "  </thead>\n",
       "  <tbody>\n",
       "    <tr>\n",
       "      <th>1</th>\n",
       "      <td>lessing</td>\n",
       "      <td>der freigeist</td>\n",
       "      <td>German</td>\n",
       "      <td>6057</td>\n",
       "      <td>23660</td>\n",
       "    </tr>\n",
       "    <tr>\n",
       "      <th>2</th>\n",
       "      <td>lessing</td>\n",
       "      <td>der junge gelehrte</td>\n",
       "      <td>German</td>\n",
       "      <td>6797</td>\n",
       "      <td>28155</td>\n",
       "    </tr>\n",
       "    <tr>\n",
       "      <th>3</th>\n",
       "      <td>lessing</td>\n",
       "      <td>die juden</td>\n",
       "      <td>German</td>\n",
       "      <td>3755</td>\n",
       "      <td>12143</td>\n",
       "    </tr>\n",
       "    <tr>\n",
       "      <th>4</th>\n",
       "      <td>lessing</td>\n",
       "      <td>emilia galotti</td>\n",
       "      <td>German</td>\n",
       "      <td>6354</td>\n",
       "      <td>20484</td>\n",
       "    </tr>\n",
       "    <tr>\n",
       "      <th>5</th>\n",
       "      <td>lessing</td>\n",
       "      <td>hamburgische dramaturgie</td>\n",
       "      <td>German</td>\n",
       "      <td>28649</td>\n",
       "      <td>143699</td>\n",
       "    </tr>\n",
       "    <tr>\n",
       "      <th>6</th>\n",
       "      <td>lessing</td>\n",
       "      <td>minna von barnhelm</td>\n",
       "      <td>German</td>\n",
       "      <td>7078</td>\n",
       "      <td>23863</td>\n",
       "    </tr>\n",
       "    <tr>\n",
       "      <th>7</th>\n",
       "      <td>lessing</td>\n",
       "      <td>miss sara sampson</td>\n",
       "      <td>German</td>\n",
       "      <td>6924</td>\n",
       "      <td>28148</td>\n",
       "    </tr>\n",
       "    <tr>\n",
       "      <th>8</th>\n",
       "      <td>lessing</td>\n",
       "      <td>philotas</td>\n",
       "      <td>German</td>\n",
       "      <td>3156</td>\n",
       "      <td>9535</td>\n",
       "    </tr>\n",
       "    <tr>\n",
       "      <th>9</th>\n",
       "      <td>raimund</td>\n",
       "      <td>Das MN¦âdchen aus der Feenwelt</td>\n",
       "      <td>German</td>\n",
       "      <td>6286</td>\n",
       "      <td>21040</td>\n",
       "    </tr>\n",
       "    <tr>\n",
       "      <th>10</th>\n",
       "      <td>raimund</td>\n",
       "      <td>Der Alpenki¦énig und der Menschenfeind</td>\n",
       "      <td>German</td>\n",
       "      <td>6838</td>\n",
       "      <td>21802</td>\n",
       "    </tr>\n",
       "    <tr>\n",
       "      <th>11</th>\n",
       "      <td>raimund</td>\n",
       "      <td>Der Barometermacher auf der Zauberinsel</td>\n",
       "      <td>German</td>\n",
       "      <td>5187</td>\n",
       "      <td>16032</td>\n",
       "    </tr>\n",
       "    <tr>\n",
       "      <th>12</th>\n",
       "      <td>raimund</td>\n",
       "      <td>Der Diamant des Geisterki¦énigs</td>\n",
       "      <td>German</td>\n",
       "      <td>5781</td>\n",
       "      <td>18855</td>\n",
       "    </tr>\n",
       "    <tr>\n",
       "      <th>13</th>\n",
       "      <td>raimund</td>\n",
       "      <td>Der Verschwender</td>\n",
       "      <td>German</td>\n",
       "      <td>7183</td>\n",
       "      <td>25106</td>\n",
       "    </tr>\n",
       "    <tr>\n",
       "      <th>14</th>\n",
       "      <td>raimund</td>\n",
       "      <td>Die gefesselte Phantasie</td>\n",
       "      <td>German</td>\n",
       "      <td>5699</td>\n",
       "      <td>16651</td>\n",
       "    </tr>\n",
       "    <tr>\n",
       "      <th>15</th>\n",
       "      <td>raimund</td>\n",
       "      <td>Die unheilbringende Krone</td>\n",
       "      <td>German</td>\n",
       "      <td>7479</td>\n",
       "      <td>24701</td>\n",
       "    </tr>\n",
       "    <tr>\n",
       "      <th>16</th>\n",
       "      <td>raimund</td>\n",
       "      <td>Moisasurs Zauberfluch</td>\n",
       "      <td>German</td>\n",
       "      <td>5694</td>\n",
       "      <td>17912</td>\n",
       "    </tr>\n",
       "    <tr>\n",
       "      <th>17</th>\n",
       "      <td>schiller</td>\n",
       "      <td>Der Neffe als Onkel</td>\n",
       "      <td>German</td>\n",
       "      <td>4243</td>\n",
       "      <td>14349</td>\n",
       "    </tr>\n",
       "    <tr>\n",
       "      <th>18</th>\n",
       "      <td>schiller</td>\n",
       "      <td>Der Parasit, oder die Kunst, sein GlA¦èck zu m...</td>\n",
       "      <td>German</td>\n",
       "      <td>5935</td>\n",
       "      <td>20450</td>\n",
       "    </tr>\n",
       "    <tr>\n",
       "      <th>19</th>\n",
       "      <td>schiller</td>\n",
       "      <td>die braut von messina</td>\n",
       "      <td>German</td>\n",
       "      <td>6393</td>\n",
       "      <td>26482</td>\n",
       "    </tr>\n",
       "    <tr>\n",
       "      <th>20</th>\n",
       "      <td>schiller</td>\n",
       "      <td>Die Huldigung der KA¦ènste</td>\n",
       "      <td>German</td>\n",
       "      <td>1728</td>\n",
       "      <td>3919</td>\n",
       "    </tr>\n",
       "    <tr>\n",
       "      <th>21</th>\n",
       "      <td>schiller</td>\n",
       "      <td>Die Jungfrau von Orleans</td>\n",
       "      <td>German</td>\n",
       "      <td>8587</td>\n",
       "      <td>24181</td>\n",
       "    </tr>\n",
       "    <tr>\n",
       "      <th>22</th>\n",
       "      <td>schiller</td>\n",
       "      <td>Die Piccolomini</td>\n",
       "      <td>German</td>\n",
       "      <td>6526</td>\n",
       "      <td>35456</td>\n",
       "    </tr>\n",
       "    <tr>\n",
       "      <th>23</th>\n",
       "      <td>schiller</td>\n",
       "      <td>Die Verschwi¦érung des Fiesco zu Genua</td>\n",
       "      <td>German</td>\n",
       "      <td>10019</td>\n",
       "      <td>31128</td>\n",
       "    </tr>\n",
       "    <tr>\n",
       "      <th>24</th>\n",
       "      <td>schiller</td>\n",
       "      <td>Kabale und Liebe</td>\n",
       "      <td>German</td>\n",
       "      <td>9632</td>\n",
       "      <td>30929</td>\n",
       "    </tr>\n",
       "    <tr>\n",
       "      <th>25</th>\n",
       "      <td>schiller</td>\n",
       "      <td>Turandot, Prinzessin von China</td>\n",
       "      <td>German</td>\n",
       "      <td>7335</td>\n",
       "      <td>21441</td>\n",
       "    </tr>\n",
       "    <tr>\n",
       "      <th>26</th>\n",
       "      <td>schiller</td>\n",
       "      <td>Wallensteins Lager</td>\n",
       "      <td>German</td>\n",
       "      <td>4260</td>\n",
       "      <td>15443</td>\n",
       "    </tr>\n",
       "    <tr>\n",
       "      <th>27</th>\n",
       "      <td>schiller</td>\n",
       "      <td>Wallensteins Tod</td>\n",
       "      <td>German</td>\n",
       "      <td>8295</td>\n",
       "      <td>50725</td>\n",
       "    </tr>\n",
       "    <tr>\n",
       "      <th>28</th>\n",
       "      <td>shakespeare</td>\n",
       "      <td>Der Kaufmann von Venedig</td>\n",
       "      <td>German</td>\n",
       "      <td>7020</td>\n",
       "      <td>20600</td>\n",
       "    </tr>\n",
       "    <tr>\n",
       "      <th>29</th>\n",
       "      <td>shakespeare</td>\n",
       "      <td>Ein Sommernachtstraum</td>\n",
       "      <td>German</td>\n",
       "      <td>6330</td>\n",
       "      <td>16648</td>\n",
       "    </tr>\n",
       "    <tr>\n",
       "      <th>30</th>\n",
       "      <td>shakespeare</td>\n",
       "      <td>Hamlet</td>\n",
       "      <td>German</td>\n",
       "      <td>9493</td>\n",
       "      <td>31635</td>\n",
       "    </tr>\n",
       "    <tr>\n",
       "      <th>31</th>\n",
       "      <td>shakespeare</td>\n",
       "      <td>Macbeth</td>\n",
       "      <td>German</td>\n",
       "      <td>6655</td>\n",
       "      <td>19311</td>\n",
       "    </tr>\n",
       "    <tr>\n",
       "      <th>32</th>\n",
       "      <td>shakespeare</td>\n",
       "      <td>Othello</td>\n",
       "      <td>German</td>\n",
       "      <td>6706</td>\n",
       "      <td>16568</td>\n",
       "    </tr>\n",
       "    <tr>\n",
       "      <th>33</th>\n",
       "      <td>shakespeare</td>\n",
       "      <td>Richard III</td>\n",
       "      <td>German</td>\n",
       "      <td>9113</td>\n",
       "      <td>25888</td>\n",
       "    </tr>\n",
       "    <tr>\n",
       "      <th>34</th>\n",
       "      <td>shakespeare</td>\n",
       "      <td>Romeo und Julia</td>\n",
       "      <td>German</td>\n",
       "      <td>7344</td>\n",
       "      <td>20311</td>\n",
       "    </tr>\n",
       "  </tbody>\n",
       "</table>\n",
       "</div>"
      ],
      "text/plain": [
       "         author                                              title language  \\\n",
       "1       lessing                                      der freigeist   German   \n",
       "2       lessing                                 der junge gelehrte   German   \n",
       "3       lessing                                          die juden   German   \n",
       "4       lessing                                     emilia galotti   German   \n",
       "5       lessing                           hamburgische dramaturgie   German   \n",
       "6       lessing                                 minna von barnhelm   German   \n",
       "7       lessing                                  miss sara sampson   German   \n",
       "8       lessing                                           philotas   German   \n",
       "9       raimund                     Das MN¦âdchen aus der Feenwelt   German   \n",
       "10      raimund             Der Alpenki¦énig und der Menschenfeind   German   \n",
       "11      raimund            Der Barometermacher auf der Zauberinsel   German   \n",
       "12      raimund                    Der Diamant des Geisterki¦énigs   German   \n",
       "13      raimund                                   Der Verschwender   German   \n",
       "14      raimund                           Die gefesselte Phantasie   German   \n",
       "15      raimund                          Die unheilbringende Krone   German   \n",
       "16      raimund                              Moisasurs Zauberfluch   German   \n",
       "17     schiller                                Der Neffe als Onkel   German   \n",
       "18     schiller  Der Parasit, oder die Kunst, sein GlA¦èck zu m...   German   \n",
       "19     schiller                              die braut von messina   German   \n",
       "20     schiller                         Die Huldigung der KA¦ènste   German   \n",
       "21     schiller                           Die Jungfrau von Orleans   German   \n",
       "22     schiller                                    Die Piccolomini   German   \n",
       "23     schiller             Die Verschwi¦érung des Fiesco zu Genua   German   \n",
       "24     schiller                                   Kabale und Liebe   German   \n",
       "25     schiller                     Turandot, Prinzessin von China   German   \n",
       "26     schiller                                 Wallensteins Lager   German   \n",
       "27     schiller                                   Wallensteins Tod   German   \n",
       "28  shakespeare                           Der Kaufmann von Venedig   German   \n",
       "29  shakespeare                              Ein Sommernachtstraum   German   \n",
       "30  shakespeare                                             Hamlet   German   \n",
       "31  shakespeare                                            Macbeth   German   \n",
       "32  shakespeare                                            Othello   German   \n",
       "33  shakespeare                                        Richard III   German   \n",
       "34  shakespeare                                    Romeo und Julia   German   \n",
       "\n",
       "   unique_words total_words  \n",
       "1          6057       23660  \n",
       "2          6797       28155  \n",
       "3          3755       12143  \n",
       "4          6354       20484  \n",
       "5         28649      143699  \n",
       "6          7078       23863  \n",
       "7          6924       28148  \n",
       "8          3156        9535  \n",
       "9          6286       21040  \n",
       "10         6838       21802  \n",
       "11         5187       16032  \n",
       "12         5781       18855  \n",
       "13         7183       25106  \n",
       "14         5699       16651  \n",
       "15         7479       24701  \n",
       "16         5694       17912  \n",
       "17         4243       14349  \n",
       "18         5935       20450  \n",
       "19         6393       26482  \n",
       "20         1728        3919  \n",
       "21         8587       24181  \n",
       "22         6526       35456  \n",
       "23        10019       31128  \n",
       "24         9632       30929  \n",
       "25         7335       21441  \n",
       "26         4260       15443  \n",
       "27         8295       50725  \n",
       "28         7020       20600  \n",
       "29         6330       16648  \n",
       "30         9493       31635  \n",
       "31         6655       19311  \n",
       "32         6706       16568  \n",
       "33         9113       25888  \n",
       "34         7344       20311  "
      ]
     },
     "execution_count": 41,
     "metadata": {},
     "output_type": "execute_result"
    }
   ],
   "source": [
    "table[table[\"language\"] == 'French']  # Looking at elements for which language is French\n",
    "table[table[\"language\"] == 'Portuguese']  # Looking at elements for which language is French\n",
    "table[table[\"language\"] == 'English'] # Accessing tables with language eual to English\n",
    "table[table[\"language\"] == \"German\"]\n"
   ]
  },
  {
   "cell_type": "code",
   "execution_count": 49,
   "metadata": {},
   "outputs": [
    {
     "data": {
      "text/plain": [
       "Text(0, 0.5, 'Number of Unique words')"
      ]
     },
     "execution_count": 49,
     "metadata": {},
     "output_type": "execute_result"
    },
    {
     "data": {
      "image/png": "[encoded data removed]",
      "text/plain": [
       "<Figure size 720x720 with 1 Axes>"
      ]
     },
     "metadata": {
      "needs_background": "light"
     },
     "output_type": "display_data"
    }
   ],
   "source": [
    "# Plotting a graph of these data\n",
    "# We used athe loglog plot to try to make the plot a straight line\n",
    "import matplotlib.pyplot as plt\n",
    "\n",
    "plt.figure(figsize= (10, 10))\n",
    "\n",
    "English = table[table.language == \"English\"]\n",
    "plt.loglog(English.total_words, English.unique_words, \"o\", color=\"crimson\", label=\"English\")\n",
    "\n",
    "French = table[table.language == \"French\"]\n",
    "plt.loglog(French.total_words, French.unique_words, \"o\", color=\"forestgreen\", label=\"French\")\n",
    "\n",
    "Portuguese = table[table.language == 'Portuguese']\n",
    "plt.loglog(Portuguese.total_words, Portuguese.unique_words, \"o\", color=\"brown\", label=\"Portuguese\")\n",
    "\n",
    "German = table[table.language == 'German']\n",
    "plt.loglog(German.total_words, German.unique_words, \"o\", color=\"blueviolet\", label=\"German\")\n",
    "\n",
    "plt.legend()\n",
    "plt.xlabel(\"Book length in number of words\")\n",
    "plt.ylabel(\"Number of Unique words\")"
   ]
  },
  {
   "cell_type": "code",
   "execution_count": null,
   "metadata": {},
   "outputs": [],
   "source": [
    "# End of Language Processing"
   ]
  },
  {
   "cell_type": "markdown",
   "metadata": {},
   "source": [
    "## Case Study 3\n",
    "## knn classification\n",
    "\n",
    "<p>Statistical learning refers to a collection of mathematical and computational tools used to understand data</p>\n",
    "<p>Statistical tools can be divided into supervised and unsupervised learning</p>\n",
    "\n",
    "\n",
    "<h3>Supervised Learning</h3>\n",
    "<p>In supervised learning, the goal is to predict an output based on one or more inputs</p>\n",
    "<p>The inputs are mostly called predictors or independent variables</p>\n",
    "<p>The output or outputs are often called response variables or dependent variables</p>\n",
    "<p>If the problem is quantitative e.g say a number that measures height, it is called a regression problem</p>\n",
    "<p>If the problem is qualitative e.g say a yes or no, or rich or poor, it is called a classification problem</p>\n"
   ]
  },
  {
   "cell_type": "markdown",
   "metadata": {},
   "source": [
    "<h3></h3>"
   ]
  },
  {
   "cell_type": "markdown",
   "metadata": {},
   "source": [
    "<h3>This case study deals with one such case of classification called knn classification.</h3>\n",
    "<p>The goal is to set up a classifier such that when it is presented with an observation whose category is unknown</p>\n",
    "<li>It attempts to assign that observation a category based on  the observations for which it does know the true category</li>\n",
    "<p>It does this by </p>\n",
    "<li>first identifying those k points that are nearest to the point</li>\n",
    "<li>Then classifies the new data as belonging to the most common class among those k neighbors</li>\n",
    "\n",
    "<p>In this case study, we start by finding the distance between two points</p>\n",
    "<p>And we end with building our own knn classifier</p>\n"
   ]
  },
  {
   "cell_type": "markdown",
   "metadata": {},
   "source": []
  },
  {
   "cell_type": "code",
   "execution_count": 18,
   "metadata": {},
   "outputs": [],
   "source": [
    "import numpy as np\n",
    "import math\n",
    "\n",
    "def shortest_distance_list(f_coord: tuple, s_coord: tuple) -> float:\n",
    "    \"\"\"\n",
    "        Given two coorinate points x and y e.g [1, 1] and [4, 4] as tuple or array,\n",
    "        finds the distance between the coordinate points p1 and p2\n",
    "    \"\"\"   \n",
    "    x_diff = (f_coord[0] - s_coord[0]) ** 2\n",
    "    y_diff = (f_coord[1] - s_coord[1]) ** 2\n",
    "    return math.sqrt(y_diff + x_diff)\n",
    "        \n",
    "\n",
    "def shortest_distance(x, y):\n",
    "    \"\"\"\n",
    "        Given two coorinate points x and y e.g [1, 1] and [4, 4] as numpy arrays,\n",
    "        finds the distance between the coordinate points p1 and p2\n",
    "    \"\"\"    \n",
    "    diff = np.square(y - x)\n",
    "    \n",
    "    # sum through the result\n",
    "    coord_sum = np.sum(diff)\n",
    "    \n",
    "    shortest_dist = np.sqrt(coord_sum)\n",
    "    return shortest_dist"
   ]
  },
  {
   "cell_type": "code",
   "execution_count": 19,
   "metadata": {},
   "outputs": [
    {
     "data": {
      "text/plain": [
       "4.242640687119285"
      ]
     },
     "execution_count": 19,
     "metadata": {},
     "output_type": "execute_result"
    }
   ],
   "source": [
    "shortest_distance_list((1, 1), (4, 4))"
   ]
  },
  {
   "cell_type": "markdown",
   "metadata": {},
   "source": [
    "### Next, we create a vote_count that given a list of anything, returns the most frequently occuring item on the list"
   ]
  },
  {
   "cell_type": "code",
   "execution_count": 20,
   "metadata": {},
   "outputs": [],
   "source": [
    "import random\n",
    "def vote_count(votes):\n",
    "    counts = {}\n",
    "    for vote in votes:\n",
    "        if vote in counts:\n",
    "            counts[vote] += 1\n",
    "        else:\n",
    "            counts[vote] = 1\n",
    "    highest_count = None\n",
    "    count = 0\n",
    "    for vote in counts:\n",
    "        if counts[vote] > count:\n",
    "            highest_count = vote\n",
    "            count = counts[vote]\n",
    "    return highest_count\n",
    "\n",
    "# second approach\n",
    "\n",
    "def vote_count(votes):\n",
    "    \"\"\"\n",
    "        Returns the most frequently occuring item at random from a set of equally frequent occuring items\n",
    "    \"\"\"\n",
    "    counts = {}\n",
    "    for vote in votes:\n",
    "        if vote in counts:\n",
    "            counts[vote] += 1\n",
    "        else:\n",
    "            counts[vote] = 1\n",
    "    highest_count_val = max(counts.values())\n",
    "    \n",
    "    majority_vote = []\n",
    "    for vote, count in counts.items():\n",
    "        if count == highest_count_val:\n",
    "            majority_vote.append(vote)\n",
    "            \n",
    "    return random.choice(majority_vote)\n",
    "\n",
    "# Alternative approach using scipy.stats\n",
    "import scipy.stats as ss\n",
    "def vote_count_stats(votes):\n",
    "    highest_vote, count = ss.mstats.mode(votes)\n",
    "    return highest_vote[0]"
   ]
  },
  {
   "cell_type": "markdown",
   "metadata": {},
   "source": [
    "## np.argsort(array)\n",
    "np.argsort takes an array and returns the indices of the sorted array standing in for the actual item on the array\n"
   ]
  },
  {
   "cell_type": "code",
   "execution_count": 21,
   "metadata": {},
   "outputs": [
    {
     "data": {
      "text/plain": [
       "6"
      ]
     },
     "execution_count": 21,
     "metadata": {},
     "output_type": "execute_result"
    }
   ],
   "source": [
    "vote_count([1, 3, 4, 4, 5, 1, 8, 8, 6, 6, 4, 3, 6, 1, 5, 7, 6, 9, 11, 8, 1, 8])"
   ]
  },
  {
   "cell_type": "code",
   "execution_count": 22,
   "metadata": {},
   "outputs": [
    {
     "data": {
      "text/plain": [
       "array([[2, 2],\n",
       "       [3, 2],\n",
       "       [2, 1],\n",
       "       [2, 3]])"
      ]
     },
     "execution_count": 22,
     "metadata": {},
     "output_type": "execute_result"
    }
   ],
   "source": [
    "import numpy as np\n",
    "\n",
    "points = np.array([ [1, 1], [1, 2], [1, 3], [2, 1], [2, 2], [2, 3], [3, 1], [3, 2], [3, 3]])\n",
    "p = np.array([2.5, 2])\n",
    "import matplotlib.pyplot as plt\n",
    "\n",
    "def find_nearest_neighbors(p: np.array, points: np.array, k: int=5) -> np.array:\n",
    "    \"\"\"Find the k-nearest neighbors of point p and return their indices\"\"\"\n",
    "    distances = []\n",
    "    # Loop through all points\n",
    "    for point in points:\n",
    "        # For each point, compute the distance between point p and this point\n",
    "        dist = shortest_distance(p, point)\n",
    "        distances.append(dist)\n",
    "    \n",
    "    # Sort these points based on their index and return the first k indices\n",
    "    ind = np.argsort(distances)\n",
    "    return ind[:k]\n",
    "\n",
    "find_nearest_neighbors(p, points, 4)\n",
    "ind = find_nearest_neighbors(p, points, 4)\n",
    "points[ind]"
   ]
  },
  {
   "cell_type": "code",
   "execution_count": 23,
   "metadata": {},
   "outputs": [
    {
     "data": {
      "text/plain": [
       "[<matplotlib.lines.Line2D at 0x1c72aeac340>]"
      ]
     },
     "execution_count": 23,
     "metadata": {},
     "output_type": "execute_result"
    },
    {
     "data": {
      "image/png": "[encoded data removed]",
      "text/plain": [
       "<Figure size 432x288 with 1 Axes>"
      ]
     },
     "metadata": {
      "needs_background": "light"
     },
     "output_type": "display_data"
    }
   ],
   "source": [
    "plt.plot(points[ : , 0], points[ : , 1], \"bo\")\n",
    "plt.plot(p[0], p[1], \"ro\")\n"
   ]
  },
  {
   "cell_type": "code",
   "execution_count": 24,
   "metadata": {},
   "outputs": [],
   "source": [
    "# Lets create a function to predict the class of our new point p\n",
    "# To predict the class of our new point, the training data needs to have a classification themselves\n",
    "# So, our knn_predict function will take an additional parameter which is the classification of the training data\n",
    "\n",
    "def knn_predict(p, points, classification, k=5):\n",
    "    # find the k nearest neighbors to this point\n",
    "    k_nearest_ind = find_nearest_neighbors(p, points, k)\n",
    "    \n",
    "    # find the classfication of these points\n",
    "    class_of_nearest_neighbors = classification[k_nearest_ind]\n",
    "    \n",
    "    # Return the class with the majority as the claass of the new point\n",
    "    majority_class = vote_count(class_of_nearest_neighbors)\n",
    "    \n",
    "    return majority_class"
   ]
  },
  {
   "cell_type": "code",
   "execution_count": 35,
   "metadata": {},
   "outputs": [
    {
     "data": {
      "text/plain": [
       "(array([[-0.36132631, -0.32955707],\n",
       "        [ 0.0764582 ,  0.47000146],\n",
       "        [-0.68304206,  1.71732731],\n",
       "        [ 0.53173427,  0.6284144 ],\n",
       "        [-1.00039639,  0.72335919],\n",
       "        [ 0.5576024 , -0.49896946],\n",
       "        [-1.68319545, -0.82780823],\n",
       "        [-0.69049312, -2.02365507],\n",
       "        [ 1.88038681,  0.27833042],\n",
       "        [ 0.14657748,  1.23623386],\n",
       "        [ 3.00648028,  2.43103238],\n",
       "        [-0.28050865,  0.37725516],\n",
       "        [ 2.24831202,  0.56061981],\n",
       "        [ 0.84869658, -1.1632071 ],\n",
       "        [ 1.09665177,  2.35617769],\n",
       "        [ 0.43068051,  1.64514212]]),\n",
       " array([0, 0, 0, 0, 0, 0, 0, 0, 1, 1, 1, 1, 1, 1, 1, 1]))"
      ]
     },
     "execution_count": 35,
     "metadata": {},
     "output_type": "execute_result"
    }
   ],
   "source": [
    "# Generating Synthetic Data\n",
    "import scipy.stats as ss\n",
    "import numpy as np\n",
    "def generate_synth_data(n=50):\n",
    "    \"\"\"Create two set of points from Bivariate normal distribution\"\"\"\n",
    "    first_class = ss.norm(0, 1).rvs((n, 2))\n",
    "    second_class = ss.norm(1, 1).rvs((n, 2))\n",
    "    synth_data = np.concatenate((first_class, second_class), axis=0)\n",
    "    \n",
    "    outcome_class_0 = np.repeat(0, n)\n",
    "    outcome_class_1 = np.repeat(1, n)\n",
    "    classes = np.concatenate((outcome_class_0, outcome_class_1))\n",
    "    \n",
    "    return synth_data, classes\n",
    "generate_synth_data(8)\n"
   ]
  },
  {
   "cell_type": "code",
   "execution_count": 25,
   "metadata": {},
   "outputs": [
    {
     "data": {
      "text/plain": [
       "0"
      ]
     },
     "execution_count": 25,
     "metadata": {},
     "output_type": "execute_result"
    }
   ],
   "source": [
    "classification = np.array([0, 0, 0, 0, 1, 1, 1, 1, 1])\n",
    "knn_predict(np.array([2.5, 2.7]), points, classification, 2)\n",
    "knn_predict(np.array([1.0, 2.7]), points, classification, 2)"
   ]
  },
  {
   "cell_type": "markdown",
   "metadata": {},
   "source": [
    "## Making a Prediction Grid for our classifier\n",
    "* We want to make a prediction grid for our classifier that will classify all points in a given rectangular space\n",
    "* We'll start by making a meshgrid. Meshgrid consists of all points in plot.\n",
    "*  We will then loop over all the points and for each point, make a prediction of what it'd be classified as "
   ]
  },
  {
   "cell_type": "code",
   "execution_count": 26,
   "metadata": {},
   "outputs": [
    {
     "data": {
      "text/plain": [
       "array([ 0,  3,  6,  9, 12, 15])"
      ]
     },
     "execution_count": 26,
     "metadata": {},
     "output_type": "execute_result"
    }
   ],
   "source": [
    "import numpy as np\n",
    "\n",
    "# meshgrid tajes  \n",
    "x = [x for x in range(-4, 5)]\n",
    "y = [y for y in range(-5, 6)]\n",
    "x, y = np.meshgrid(x, y)\n",
    "\n",
    "# np.arange is very similar to the range object in Python \n",
    "np.arange(0, 18, 3)\n"
   ]
  },
  {
   "cell_type": "code",
   "execution_count": 27,
   "metadata": {},
   "outputs": [
    {
     "data": {
      "text/plain": [
       "array([[0., 0., 0., 0., 0., 0., 0., 0., 0., 1., 1., 1.],\n",
       "       [0., 0., 0., 0., 0., 0., 0., 0., 0., 1., 1., 1.],\n",
       "       [0., 0., 0., 0., 0., 0., 0., 0., 0., 1., 1., 1.],\n",
       "       [0., 0., 0., 0., 0., 0., 0., 0., 0., 1., 1., 1.],\n",
       "       [0., 0., 0., 0., 0., 0., 0., 0., 0., 1., 1., 1.],\n",
       "       [0., 0., 0., 0., 0., 0., 0., 0., 0., 1., 1., 1.],\n",
       "       [0., 0., 0., 0., 0., 0., 0., 0., 0., 1., 1., 1.],\n",
       "       [0., 0., 0., 0., 0., 0., 0., 0., 0., 1., 1., 1.],\n",
       "       [0., 0., 0., 0., 0., 0., 0., 0., 1., 1., 1., 1.],\n",
       "       [0., 0., 0., 0., 0., 0., 0., 0., 1., 1., 1., 1.],\n",
       "       [0., 0., 0., 0., 0., 0., 0., 1., 1., 1., 1., 1.],\n",
       "       [0., 0., 0., 0., 0., 0., 1., 1., 1., 1., 1., 1.]])"
      ]
     },
     "execution_count": 27,
     "metadata": {},
     "output_type": "execute_result"
    }
   ],
   "source": [
    "def make_prediction_grid(limits: tuple, h: int or float, k: int, points: np.array, classification: np.array) -> tuple:\n",
    "    x_min, x_max, y_min, y_max = limits\n",
    "    xs = np.arange(x_min, x_max, h)\n",
    "    ys = np.arange(y_min, y_max, h)\n",
    "    xx, yy = np.meshgrid(xs, ys)\n",
    "    \n",
    "    # Make an empty prediction grid\n",
    "    prediction_grid = np.zeros(xx.shape)\n",
    "    \n",
    "    # Loop through over all points and make a prediction for each point in the x and y coordinate\n",
    "    for i, x in enumerate(xs):\n",
    "        for j, y in enumerate(ys):\n",
    "            prediction_grid[j, i] = knn_predict(np.array([x, y]), points, classification, k)\n",
    "    \n",
    "    return xx, yy, prediction_grid\n",
    "\n",
    "points = np.array([ [1, 1], [1, 2], [1, 3], [2, 1], [2, 2], [2, 3], [3, 1], [3, 2], [3, 3]])\n",
    "classification = np.array([0, 0, 0, 0, 1, 1, 1, 1, 1])\n",
    "    \n",
    "x_points, y_points, prediction_grid = make_prediction_grid((0,3, 0, 3), 0.25, 5, points, classification)\n",
    "prediction_grid\n",
    "    "
   ]
  },
  {
   "cell_type": "markdown",
   "metadata": {},
   "source": []
  },
  {
   "cell_type": "code",
   "execution_count": 39,
   "metadata": {},
   "outputs": [
    {
     "data": {
      "image/png": "[encoded data removed]",
      "text/plain": [
       "<Figure size 720x720 with 1 Axes>"
      ]
     },
     "metadata": {},
     "output_type": "display_data"
    }
   ],
   "source": [
    "# Plotting the Prediction grid\n",
    "# Please, do not bother to cram \n",
    "# k control the smoothness of the fit. The larger the k, the smoother the fit\n",
    "import matplotlib.pyplot as plt\n",
    "\n",
    "predictors, outcomes = generate_synth_data(200)\n",
    "k = 40; limits = (-3, 4, -3, 4); h=0.1\n",
    "x_points, y_points, prediction_grid = make_prediction_grid(limits, h, k, predictors, outcomes)\n",
    "\n",
    "def plot_prediction_grid (xx, yy, prediction_grid):\n",
    "    \"\"\" Plot KNN predictions for every point on the grid.\"\"\"\n",
    "    from matplotlib.colors import ListedColormap\n",
    "    background_colormap = ListedColormap ([\"hotpink\",\"lightskyblue\", \"yellowgreen\"])\n",
    "    observation_colormap = ListedColormap ([\"red\",\"blue\",\"green\"])\n",
    "    plt.figure(figsize =(10,10))\n",
    "    plt.pcolormesh(xx, yy, prediction_grid, cmap = background_colormap, alpha = 0.5, shading=\"auto\")\n",
    "    plt.scatter(predictors[:,0], predictors [:,1], c = outcomes, cmap = observation_colormap, s = 50)\n",
    "    plt.xlabel('Variable 1'); plt.ylabel('Variable 2')\n",
    "    plt.xticks(()); plt.yticks(())\n",
    "    plt.xlim (np.min(xx), np.max(xx))\n",
    "    plt.ylim (np.min(yy), np.max(yy))\n",
    "    # plt.savefig(filename)\n",
    "\n",
    "plot_prediction_grid(x_points, y_points, prediction_grid)"
   ]
  },
  {
   "cell_type": "markdown",
   "metadata": {},
   "source": []
  },
  {
   "cell_type": "markdown",
   "metadata": {},
   "source": []
  },
  {
   "cell_type": "markdown",
   "metadata": {},
   "source": []
  },
  {
   "cell_type": "markdown",
   "metadata": {},
   "source": [
    "* It turn out that using a value for k that is too large or too small is not optimal, a phenomena known as bias-variance tradeoff.\n",
    "* Using a value of k = 5 in this case is a reasonable value"
   ]
  },
  {
   "cell_type": "markdown",
   "metadata": {},
   "source": []
  },
  {
   "cell_type": "code",
   "execution_count": 41,
   "metadata": {},
   "outputs": [
    {
     "data": {
      "image/png": "[encoded data removed]",
      "text/plain": [
       "<Figure size 720x720 with 1 Axes>"
      ]
     },
     "metadata": {},
     "output_type": "display_data"
    }
   ],
   "source": [
    "predictors, outcomes = generate_synth_data(60)\n",
    "k = 5; limits = (-3, 4, -3, 4); h=0.1\n",
    "x_points, y_points, prediction_grid = make_prediction_grid(limits, h, k, predictors, outcomes)\n",
    "plot_prediction_grid(x_points, y_points, prediction_grid)\n"
   ]
  },
  {
   "cell_type": "code",
   "execution_count": 42,
   "metadata": {},
   "outputs": [],
   "source": [
    "from sklearn import datasets\n"
   ]
  },
  {
   "cell_type": "markdown",
   "metadata": {},
   "source": []
  },
  {
   "cell_type": "code",
   "execution_count": 43,
   "metadata": {},
   "outputs": [
    {
     "data": {
      "text/plain": [
       "{'data': array([[5.1, 3.5, 1.4, 0.2],\n",
       "        [4.9, 3. , 1.4, 0.2],\n",
       "        [4.7, 3.2, 1.3, 0.2],\n",
       "        [4.6, 3.1, 1.5, 0.2],\n",
       "        [5. , 3.6, 1.4, 0.2],\n",
       "        [5.4, 3.9, 1.7, 0.4],\n",
       "        [4.6, 3.4, 1.4, 0.3],\n",
       "        [5. , 3.4, 1.5, 0.2],\n",
       "        [4.4, 2.9, 1.4, 0.2],\n",
       "        [4.9, 3.1, 1.5, 0.1],\n",
       "        [5.4, 3.7, 1.5, 0.2],\n",
       "        [4.8, 3.4, 1.6, 0.2],\n",
       "        [4.8, 3. , 1.4, 0.1],\n",
       "        [4.3, 3. , 1.1, 0.1],\n",
       "        [5.8, 4. , 1.2, 0.2],\n",
       "        [5.7, 4.4, 1.5, 0.4],\n",
       "        [5.4, 3.9, 1.3, 0.4],\n",
       "        [5.1, 3.5, 1.4, 0.3],\n",
       "        [5.7, 3.8, 1.7, 0.3],\n",
       "        [5.1, 3.8, 1.5, 0.3],\n",
       "        [5.4, 3.4, 1.7, 0.2],\n",
       "        [5.1, 3.7, 1.5, 0.4],\n",
       "        [4.6, 3.6, 1. , 0.2],\n",
       "        [5.1, 3.3, 1.7, 0.5],\n",
       "        [4.8, 3.4, 1.9, 0.2],\n",
       "        [5. , 3. , 1.6, 0.2],\n",
       "        [5. , 3.4, 1.6, 0.4],\n",
       "        [5.2, 3.5, 1.5, 0.2],\n",
       "        [5.2, 3.4, 1.4, 0.2],\n",
       "        [4.7, 3.2, 1.6, 0.2],\n",
       "        [4.8, 3.1, 1.6, 0.2],\n",
       "        [5.4, 3.4, 1.5, 0.4],\n",
       "        [5.2, 4.1, 1.5, 0.1],\n",
       "        [5.5, 4.2, 1.4, 0.2],\n",
       "        [4.9, 3.1, 1.5, 0.2],\n",
       "        [5. , 3.2, 1.2, 0.2],\n",
       "        [5.5, 3.5, 1.3, 0.2],\n",
       "        [4.9, 3.6, 1.4, 0.1],\n",
       "        [4.4, 3. , 1.3, 0.2],\n",
       "        [5.1, 3.4, 1.5, 0.2],\n",
       "        [5. , 3.5, 1.3, 0.3],\n",
       "        [4.5, 2.3, 1.3, 0.3],\n",
       "        [4.4, 3.2, 1.3, 0.2],\n",
       "        [5. , 3.5, 1.6, 0.6],\n",
       "        [5.1, 3.8, 1.9, 0.4],\n",
       "        [4.8, 3. , 1.4, 0.3],\n",
       "        [5.1, 3.8, 1.6, 0.2],\n",
       "        [4.6, 3.2, 1.4, 0.2],\n",
       "        [5.3, 3.7, 1.5, 0.2],\n",
       "        [5. , 3.3, 1.4, 0.2],\n",
       "        [7. , 3.2, 4.7, 1.4],\n",
       "        [6.4, 3.2, 4.5, 1.5],\n",
       "        [6.9, 3.1, 4.9, 1.5],\n",
       "        [5.5, 2.3, 4. , 1.3],\n",
       "        [6.5, 2.8, 4.6, 1.5],\n",
       "        [5.7, 2.8, 4.5, 1.3],\n",
       "        [6.3, 3.3, 4.7, 1.6],\n",
       "        [4.9, 2.4, 3.3, 1. ],\n",
       "        [6.6, 2.9, 4.6, 1.3],\n",
       "        [5.2, 2.7, 3.9, 1.4],\n",
       "        [5. , 2. , 3.5, 1. ],\n",
       "        [5.9, 3. , 4.2, 1.5],\n",
       "        [6. , 2.2, 4. , 1. ],\n",
       "        [6.1, 2.9, 4.7, 1.4],\n",
       "        [5.6, 2.9, 3.6, 1.3],\n",
       "        [6.7, 3.1, 4.4, 1.4],\n",
       "        [5.6, 3. , 4.5, 1.5],\n",
       "        [5.8, 2.7, 4.1, 1. ],\n",
       "        [6.2, 2.2, 4.5, 1.5],\n",
       "        [5.6, 2.5, 3.9, 1.1],\n",
       "        [5.9, 3.2, 4.8, 1.8],\n",
       "        [6.1, 2.8, 4. , 1.3],\n",
       "        [6.3, 2.5, 4.9, 1.5],\n",
       "        [6.1, 2.8, 4.7, 1.2],\n",
       "        [6.4, 2.9, 4.3, 1.3],\n",
       "        [6.6, 3. , 4.4, 1.4],\n",
       "        [6.8, 2.8, 4.8, 1.4],\n",
       "        [6.7, 3. , 5. , 1.7],\n",
       "        [6. , 2.9, 4.5, 1.5],\n",
       "        [5.7, 2.6, 3.5, 1. ],\n",
       "        [5.5, 2.4, 3.8, 1.1],\n",
       "        [5.5, 2.4, 3.7, 1. ],\n",
       "        [5.8, 2.7, 3.9, 1.2],\n",
       "        [6. , 2.7, 5.1, 1.6],\n",
       "        [5.4, 3. , 4.5, 1.5],\n",
       "        [6. , 3.4, 4.5, 1.6],\n",
       "        [6.7, 3.1, 4.7, 1.5],\n",
       "        [6.3, 2.3, 4.4, 1.3],\n",
       "        [5.6, 3. , 4.1, 1.3],\n",
       "        [5.5, 2.5, 4. , 1.3],\n",
       "        [5.5, 2.6, 4.4, 1.2],\n",
       "        [6.1, 3. , 4.6, 1.4],\n",
       "        [5.8, 2.6, 4. , 1.2],\n",
       "        [5. , 2.3, 3.3, 1. ],\n",
       "        [5.6, 2.7, 4.2, 1.3],\n",
       "        [5.7, 3. , 4.2, 1.2],\n",
       "        [5.7, 2.9, 4.2, 1.3],\n",
       "        [6.2, 2.9, 4.3, 1.3],\n",
       "        [5.1, 2.5, 3. , 1.1],\n",
       "        [5.7, 2.8, 4.1, 1.3],\n",
       "        [6.3, 3.3, 6. , 2.5],\n",
       "        [5.8, 2.7, 5.1, 1.9],\n",
       "        [7.1, 3. , 5.9, 2.1],\n",
       "        [6.3, 2.9, 5.6, 1.8],\n",
       "        [6.5, 3. , 5.8, 2.2],\n",
       "        [7.6, 3. , 6.6, 2.1],\n",
       "        [4.9, 2.5, 4.5, 1.7],\n",
       "        [7.3, 2.9, 6.3, 1.8],\n",
       "        [6.7, 2.5, 5.8, 1.8],\n",
       "        [7.2, 3.6, 6.1, 2.5],\n",
       "        [6.5, 3.2, 5.1, 2. ],\n",
       "        [6.4, 2.7, 5.3, 1.9],\n",
       "        [6.8, 3. , 5.5, 2.1],\n",
       "        [5.7, 2.5, 5. , 2. ],\n",
       "        [5.8, 2.8, 5.1, 2.4],\n",
       "        [6.4, 3.2, 5.3, 2.3],\n",
       "        [6.5, 3. , 5.5, 1.8],\n",
       "        [7.7, 3.8, 6.7, 2.2],\n",
       "        [7.7, 2.6, 6.9, 2.3],\n",
       "        [6. , 2.2, 5. , 1.5],\n",
       "        [6.9, 3.2, 5.7, 2.3],\n",
       "        [5.6, 2.8, 4.9, 2. ],\n",
       "        [7.7, 2.8, 6.7, 2. ],\n",
       "        [6.3, 2.7, 4.9, 1.8],\n",
       "        [6.7, 3.3, 5.7, 2.1],\n",
       "        [7.2, 3.2, 6. , 1.8],\n",
       "        [6.2, 2.8, 4.8, 1.8],\n",
       "        [6.1, 3. , 4.9, 1.8],\n",
       "        [6.4, 2.8, 5.6, 2.1],\n",
       "        [7.2, 3. , 5.8, 1.6],\n",
       "        [7.4, 2.8, 6.1, 1.9],\n",
       "        [7.9, 3.8, 6.4, 2. ],\n",
       "        [6.4, 2.8, 5.6, 2.2],\n",
       "        [6.3, 2.8, 5.1, 1.5],\n",
       "        [6.1, 2.6, 5.6, 1.4],\n",
       "        [7.7, 3. , 6.1, 2.3],\n",
       "        [6.3, 3.4, 5.6, 2.4],\n",
       "        [6.4, 3.1, 5.5, 1.8],\n",
       "        [6. , 3. , 4.8, 1.8],\n",
       "        [6.9, 3.1, 5.4, 2.1],\n",
       "        [6.7, 3.1, 5.6, 2.4],\n",
       "        [6.9, 3.1, 5.1, 2.3],\n",
       "        [5.8, 2.7, 5.1, 1.9],\n",
       "        [6.8, 3.2, 5.9, 2.3],\n",
       "        [6.7, 3.3, 5.7, 2.5],\n",
       "        [6.7, 3. , 5.2, 2.3],\n",
       "        [6.3, 2.5, 5. , 1.9],\n",
       "        [6.5, 3. , 5.2, 2. ],\n",
       "        [6.2, 3.4, 5.4, 2.3],\n",
       "        [5.9, 3. , 5.1, 1.8]]),\n",
       " 'target': array([0, 0, 0, 0, 0, 0, 0, 0, 0, 0, 0, 0, 0, 0, 0, 0, 0, 0, 0, 0, 0, 0,\n",
       "        0, 0, 0, 0, 0, 0, 0, 0, 0, 0, 0, 0, 0, 0, 0, 0, 0, 0, 0, 0, 0, 0,\n",
       "        0, 0, 0, 0, 0, 0, 1, 1, 1, 1, 1, 1, 1, 1, 1, 1, 1, 1, 1, 1, 1, 1,\n",
       "        1, 1, 1, 1, 1, 1, 1, 1, 1, 1, 1, 1, 1, 1, 1, 1, 1, 1, 1, 1, 1, 1,\n",
       "        1, 1, 1, 1, 1, 1, 1, 1, 1, 1, 1, 1, 2, 2, 2, 2, 2, 2, 2, 2, 2, 2,\n",
       "        2, 2, 2, 2, 2, 2, 2, 2, 2, 2, 2, 2, 2, 2, 2, 2, 2, 2, 2, 2, 2, 2,\n",
       "        2, 2, 2, 2, 2, 2, 2, 2, 2, 2, 2, 2, 2, 2, 2, 2, 2, 2]),\n",
       " 'frame': None,\n",
       " 'target_names': array(['setosa', 'versicolor', 'virginica'], dtype='<U10'),\n",
       " 'DESCR': '.. _iris_dataset:\\n\\nIris plants dataset\\n--------------------\\n\\n**Data Set Characteristics:**\\n\\n    :Number of Instances: 150 (50 in each of three classes)\\n    :Number of Attributes: 4 numeric, predictive attributes and the class\\n    :Attribute Information:\\n        - sepal length in cm\\n        - sepal width in cm\\n        - petal length in cm\\n        - petal width in cm\\n        - class:\\n                - Iris-Setosa\\n                - Iris-Versicolour\\n                - Iris-Virginica\\n                \\n    :Summary Statistics:\\n\\n    ============== ==== ==== ======= ===== ====================\\n                    Min  Max   Mean    SD   Class Correlation\\n    ============== ==== ==== ======= ===== ====================\\n    sepal length:   4.3  7.9   5.84   0.83    0.7826\\n    sepal width:    2.0  4.4   3.05   0.43   -0.4194\\n    petal length:   1.0  6.9   3.76   1.76    0.9490  (high!)\\n    petal width:    0.1  2.5   1.20   0.76    0.9565  (high!)\\n    ============== ==== ==== ======= ===== ====================\\n\\n    :Missing Attribute Values: None\\n    :Class Distribution: 33.3% for each of 3 classes.\\n    :Creator: R.A. Fisher\\n    :Donor: Michael Marshall (MARSHALL%PLU@io.arc.nasa.gov)\\n    :Date: July, 1988\\n\\nThe famous Iris database, first used by Sir R.A. Fisher. The dataset is taken\\nfrom Fisher\\'s paper. Note that it\\'s the same as in R, but not as in the UCI\\nMachine Learning Repository, which has two wrong data points.\\n\\nThis is perhaps the best known database to be found in the\\npattern recognition literature.  Fisher\\'s paper is a classic in the field and\\nis referenced frequently to this day.  (See Duda & Hart, for example.)  The\\ndata set contains 3 classes of 50 instances each, where each class refers to a\\ntype of iris plant.  One class is linearly separable from the other 2; the\\nlatter are NOT linearly separable from each other.\\n\\n.. topic:: References\\n\\n   - Fisher, R.A. \"The use of multiple measurements in taxonomic problems\"\\n     Annual Eugenics, 7, Part II, 179-188 (1936); also in \"Contributions to\\n     Mathematical Statistics\" (John Wiley, NY, 1950).\\n   - Duda, R.O., & Hart, P.E. (1973) Pattern Classification and Scene Analysis.\\n     (Q327.D83) John Wiley & Sons.  ISBN 0-471-22361-1.  See page 218.\\n   - Dasarathy, B.V. (1980) \"Nosing Around the Neighborhood: A New System\\n     Structure and Classification Rule for Recognition in Partially Exposed\\n     Environments\".  IEEE Transactions on Pattern Analysis and Machine\\n     Intelligence, Vol. PAMI-2, No. 1, 67-71.\\n   - Gates, G.W. (1972) \"The Reduced Nearest Neighbor Rule\".  IEEE Transactions\\n     on Information Theory, May 1972, 431-433.\\n   - See also: 1988 MLC Proceedings, 54-64.  Cheeseman et al\"s AUTOCLASS II\\n     conceptual clustering system finds 3 classes in the data.\\n   - Many, many more ...',\n",
       " 'feature_names': ['sepal length (cm)',\n",
       "  'sepal width (cm)',\n",
       "  'petal length (cm)',\n",
       "  'petal width (cm)'],\n",
       " 'filename': 'iris.csv',\n",
       " 'data_module': 'sklearn.datasets.data'}"
      ]
     },
     "execution_count": 43,
     "metadata": {},
     "output_type": "execute_result"
    }
   ],
   "source": [
    "iris = datasets.load_iris()\n",
    "iris\n"
   ]
  },
  {
   "cell_type": "code",
   "execution_count": 48,
   "metadata": {},
   "outputs": [],
   "source": [
    "predictors = iris[\"data\"]\n",
    "outcomes = iris[\"target\"]"
   ]
  },
  {
   "cell_type": "code",
   "execution_count": 49,
   "metadata": {},
   "outputs": [
    {
     "data": {
      "text/plain": [
       "[<matplotlib.lines.Line2D at 0x1c72de73850>]"
      ]
     },
     "execution_count": 49,
     "metadata": {},
     "output_type": "execute_result"
    },
    {
     "data": {
      "image/png": "[encoded data removed]",
      "text/plain": [
       "<Figure size 432x288 with 1 Axes>"
      ]
     },
     "metadata": {
      "needs_background": "light"
     },
     "output_type": "display_data"
    }
   ],
   "source": [
    "predictors = iris[\"data\"][ : , 0: 2]\n",
    "\n",
    "plt.plot(predictors[outcomes == 0][:, 0], predictors[outcomes == 0][:, 1], \"ro\")\n",
    "plt.plot(predictors[outcomes == 1][:, 0], predictors[outcomes == 1][:, 1], \"go\")\n",
    "plt.plot(predictors[outcomes == 2][:, 0], predictors[outcomes == 2][:, 1], \"bo\")\n"
   ]
  },
  {
   "cell_type": "code",
   "execution_count": 50,
   "metadata": {},
   "outputs": [
    {
     "data": {
      "image/png": "[encoded data removed]",
      "text/plain": [
       "<Figure size 720x720 with 1 Axes>"
      ]
     },
     "metadata": {},
     "output_type": "display_data"
    }
   ],
   "source": [
    "\n",
    "predictors = iris[\"data\"][ : , 0: 2]\n",
    "outcomes = iris[\"target\"]\n",
    "k = 5; limits = (4, 8, 1.5, 4.5); h=0.1\n",
    "x_points, y_points, prediction_grid = make_prediction_grid(limits, h, k, predictors, outcomes)\n",
    "plot_prediction_grid(x_points, y_points, prediction_grid)"
   ]
  },
  {
   "cell_type": "code",
   "execution_count": null,
   "metadata": {},
   "outputs": [],
   "source": []
  }
 ],
 "metadata": {
  "interpreter": {
   "hash": "ac59ebe37160ed0dfa835113d9b8498d9f09ceb179beaac4002f036b9467c963"
  },
  "kernelspec": {
   "display_name": "Python 3.9.4 64-bit",
   "name": "python3"
  },
  "language_info": {
   "codemirror_mode": {
    "name": "ipython",
    "version": 3
   },
   "file_extension": ".py",
   "mimetype": "text/x-python",
   "name": "python",
   "nbconvert_exporter": "python",
   "pygments_lexer": "ipython3",
   "version": "3.9.4"
  },
  "orig_nbformat": 4
 },
 "nbformat": 4,
 "nbformat_minor": 2
}
