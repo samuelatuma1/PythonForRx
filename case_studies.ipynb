{
 "cells": [
  {
   "cell_type": "markdown",
   "metadata": {},
   "source": [
    "# DNA Translation with Python"
   ]
  },
  {
   "cell_type": "markdown",
   "metadata": {},
   "source": []
  },
  {
   "cell_type": "code",
   "execution_count": 22,
   "metadata": {},
   "outputs": [
    {
     "data": {
      "text/plain": [
       "'MSTHDTSLKTTEEVAFQIILLCQFGVGTFANVFLFVYNFSPISTGSKQRPRQVILRHMAVANALTLFLTIFPNNMMTFAPIIPQTDLKCKLEFFTRLVARSTNLCSTCVLSIHQFVTLVPVNSGKGILRASVTNMASYSCYSCWFFSVLNNIYIPIKVTGPQLTDNNNNSKSKLFCSTSDFSVGIVFLRFAHDATFMSIMVWTSVSMVLLLHRHCQRMQYIFTLNQDPRGQAETTATHTILMLVVTFVGFYLLSLICIIFYTYFIYSHHSLRHCNDILVSGFPTISPLLLTFRDPKGPCSVFFNC_'"
      ]
     },
     "execution_count": 22,
     "metadata": {},
     "output_type": "execute_result"
    }
   ],
   "source": [
    "# four dna sequence are translated to one amino acid using the table\n",
    "# get the dna to be translated\n",
    "from DNA.dna import table\n",
    "\n",
    "with open(\"./dna.txt\", mode=\"r\") as file:\n",
    "    seq = file.read().replace(\"\\n\", \"\").replace(\"\\r\", \"\")\n",
    "\n",
    "def translate_dna(seq):\n",
    "    protein = ''\n",
    "    if len(seq) % 3 == 0:\n",
    "        for i in range(0, len(seq), 3):\n",
    "            DNA = seq[i: i+3]\n",
    "            amino = table[DNA]\n",
    "            protein += amino\n",
    "    return protein\n",
    "translate_dna(seq[20:938])\n"
   ]
  },
  {
   "cell_type": "code",
   "execution_count": 16,
   "metadata": {},
   "outputs": [
    {
     "data": {
      "text/plain": [
       "'GGTCAGAAAAAGCCCTCTCCATGTCTACTCACGATACATCCCTGAAAACCACTGAGGAAGTGGCTTTTCAGATCATCTTGCTTTGCCAGTTTGGGGTTGGGACTTTTGCCAATGTATTTCTCTTTGTCTATAATTTCTCTCCAATCTCGACTGGTTCTAAACAGAGGCCCAGACAAGTGATTTTAAGACACATGGCTGTGGCCAATGCCTTAACTCTCTTCCTCACTATATTTCCAAACAACATGATGACTTTTGCTCCAATTATTCCTCAAACTGACCTCAAATGTAAATTAGAATTCTTCACTCGCCTCGTGGCAAGAAGCACAAACTTGTGTTCAACTTGTGTTCTGAGTATCCATCAGTTTGTCACACTTGTTCCTGTTAATTCAGGTAAAGGAATACTCAGAGCAAGTGTCACAAACATGGCAAGTTATTCTTGTTACAGTTGTTGGTTCTTCAGTGTCTTAAATAACATCTACATTCCAATTAAGGTCACTGGTCCACAGTTAACAGACAATAACAATAACTCTAAAAGCAAGTTGTTCTGTTCCACTTCTGATTTCAGTGTAGGCATTGTCTTCTTGAGGTTTGCCCATGATGCCACATTCATGAGCATCATGGTCTGGACCAGTGTCTCCATGGTACTTCTCCTCCATAGACATTGTCAGAGAATGCAGTACATATTCACTCTCAATCAGGACCCCAGGGGCCAAGCAGAGACCACAGCAACCCATACTATCCTGATGCTGGTAGTCACATTTGTTGGCTTTTATCTTCTAAGTCTTATTTGTATCATCTTTTACACCTATTTTATATATTCTCATCATTCCCTGAGGCATTGCAATGACATTTTGGTTTCGGGTTTCCCTACAATTTCTCCTTTACTGTTGACCTTCAGAGACCCTAAGGGTCCTTGTTCTGTGTTCTTCAACTGTTGAAAGCCAGAGTCACTAAAAATGCCAAACACAGAAGACAGCTTTGCTAATACCATTAAATACTTTATTCCATAAATATGTTTTTAAAAGCTTGTATGAACAAGGTATGGTGCTCACTGCTATACTTATAAAAGAGTAAGGTTATAATCACTTGTTGATATGAAAAGATTTCTGGTTGGAATCTGATTGAAACAGTGAGTTATTCACCACCCTCCATTCTCT'"
      ]
     },
     "execution_count": 16,
     "metadata": {},
     "output_type": "execute_result"
    }
   ],
   "source": [
    "seq"
   ]
  },
  {
   "cell_type": "code",
   "execution_count": 19,
   "metadata": {},
   "outputs": [
    {
     "data": {
      "text/plain": [
       "'I'"
      ]
     },
     "execution_count": 19,
     "metadata": {},
     "output_type": "execute_result"
    }
   ],
   "source": [
    "# translate_dna(\"ATA\")"
   ]
  },
  {
   "cell_type": "code",
   "execution_count": 5,
   "metadata": {},
   "outputs": [
    {
     "data": {
      "text/plain": [
       "[['gold', 13, 20000], ['laptop', 7, 1700]]"
      ]
     },
     "execution_count": 5,
     "metadata": {},
     "output_type": "execute_result"
    }
   ],
   "source": [
    "# Greedy algorithms#\n",
    "items = [[\"gold\", 13, 20000], [\"phone\", 2, 1000], [\"laptop\", 7, 1700], [\"stereo\", 17, 600], [\"airpod\", 1, 800]]\n",
    "bag = []\n",
    "available = 20\n",
    "def get_most_expensive(items):\n",
    "    most_expensive = None\n",
    "    cost = float(\"-inf\")\n",
    "    \n",
    "    for item in items:\n",
    "        if item[2] > cost and item[1] <= available:\n",
    "            most_expensive = item\n",
    "            cost = item[2]\n",
    "    \n",
    "    return most_expensive\n",
    "\n",
    "def fill_bag():\n",
    "    most_expensive = get_most_expensive(items)\n",
    "    global available\n",
    "    while most_expensive:\n",
    "        take = items.pop(items.index(most_expensive))\n",
    "        bag.append(take)\n",
    "        available -= take[1]\n",
    "        most_expensive = get_most_expensive(items)\n",
    "        \n",
    "        \n",
    "        \n",
    "    return bag\n",
    "\n",
    "fill_bag()\n",
    "    "
   ]
  },
  {
   "cell_type": "code",
   "execution_count": 1,
   "metadata": {},
   "outputs": [
    {
     "name": "stdout",
     "output_type": "stream",
     "text": [
      "[{'name': 'Gold', 'weight': 13, 'worth': 10000}, {'name': 'laptop', 'weight': 7, 'worth': 3000}]\n"
     ]
    }
   ],
   "source": [
    "# Greedy algorithms without functions\n",
    "available = 20\n",
    "items = [\n",
    "    {\n",
    "      \"name\" : \"diamond\",\n",
    "      \"weight\": 23,\n",
    "      \"worth\": 30000\n",
    "    },{\n",
    "        \"name\": \"Gold\",\n",
    "        \"weight\": 13,\n",
    "        \"worth\": 10000\n",
    "    },{\n",
    "        \"name\": \"phone\",\n",
    "        \"weight\": 2,\n",
    "        \"worth\": 1500\n",
    "    },{\n",
    "        \"name\": \"laptop\",\n",
    "        \"weight\": 7,\n",
    "        \"worth\": 3000\n",
    "    },{\n",
    "        \"name\": \"TV\",\n",
    "        \"weight\": 8,\n",
    "        \"worth\": 2000\n",
    "    },{\n",
    "        \"name\": \"stereo\",\n",
    "        \"weight\": 6,\n",
    "        \"worth\": 1500\n",
    "    }, {\"name\": \"stereo\", \"weight\": 2, \"worth\": 500 },  {\"name\": \"syringe\", \"weight\": 0.5, \"worth\": 50 }, {\"name\": \"money\", \"weight\": 1, \"worth\": 1000 }\n",
    "]; collected = []\n",
    "\n",
    "while available > 0:\n",
    "    best_item = None\n",
    "    worth = 0\n",
    "    for item in items:\n",
    "        if item[\"worth\"] > worth and item not in collected and item[\"weight\"] <= available:\n",
    "            best_item = item\n",
    "            worth = item[\"worth\"]\n",
    "    if best_item is None:\n",
    "        available = 0\n",
    "    else:\n",
    "        collected.append(best_item)\n",
    "        available -= best_item[\"weight\"]\n",
    "        \n",
    "        \n",
    "print(collected)\n",
    "    \n",
    "        "
   ]
  },
  {
   "cell_type": "markdown",
   "metadata": {},
   "source": [
    "# Language Processing"
   ]
  },
  {
   "cell_type": "markdown",
   "metadata": {},
   "source": [
    "## In this case study, we will examine the properties of individual books in a book collection.\n",
    "* We will look at attributes such as book lengths, number of unique words. \n",
    "* Then how these attribbutes **cluster** by language of the author **or** authorship"
   ]
  },
  {
   "cell_type": "code",
   "execution_count": null,
   "metadata": {},
   "outputs": [],
   "source": []
  },
  {
   "cell_type": "code",
   "execution_count": 13,
   "metadata": {},
   "outputs": [
    {
     "data": {
      "text/plain": [
       "True"
      ]
     },
     "execution_count": 13,
     "metadata": {},
     "output_type": "execute_result"
    }
   ],
   "source": [
    "# Counting words \n",
    "from collections import Counter\n",
    "sentence = \"Hello world!. Hello world is used to introduce people to the world of programming. It is usually the first thing a programmer writes\"\n",
    "\n",
    "def count_words(sentence):\n",
    "    \"\"\"Counts the occurence of each word in a string. Removes extra characers like ! , . and converts all characters to lower case\"\"\"\n",
    "    words = sentence.lower()\n",
    "    common_punctuations = [\"!\", \",\", \".\", \"?\", '\"', \";\", \":\"]\n",
    "    \n",
    "    for char in common_punctuations:\n",
    "        words = words.replace(char, \"\")\n",
    "    \n",
    "    word_count = {}\n",
    "    for word in words.split(\" \"):\n",
    "        if word in word_count:\n",
    "            word_count[word] += 1\n",
    "        else:\n",
    "            word_count[word] = 1\n",
    "    return word_count\n",
    "\n",
    "def count_words_fast(sentence):\n",
    "    \"\"\"Counts the occurence of each word in a string. Removes extra characers like ! , . and converts all characters to lower case.\n",
    "        Uses the Counter tool from collections to do the counting\n",
    "    \"\"\"\n",
    "    words = sentence.lower()\n",
    "    common_punctuations = [\"!\", \",\", \".\", \"?\", '\"', \";\", \":\"]\n",
    "    \n",
    "    for char in common_punctuations:\n",
    "        words = words.replace(char, \"\")\n",
    "    \n",
    "    word_count = Counter(words.split(\" \"))\n",
    "    return word_count\n",
    "\n",
    "\n",
    "count_words_fast(sentence) == count_words(sentence)"
   ]
  },
  {
   "cell_type": "markdown",
   "metadata": {},
   "source": [
    "## Learn how to read in a book from a file\n"
   ]
  },
  {
   "cell_type": "code",
   "execution_count": 23,
   "metadata": {},
   "outputs": [],
   "source": [
    "def read_book(title_path):\n",
    "    \"\"\"\n",
    "        Takes in a book path as argument and returns the content of the book as a string\n",
    "    \"\"\"\n",
    "    with open(title_path, \"r\", encoding=\"utf8\") as current_file:\n",
    "        text = current_file.read()\n",
    "        text = text.replace(\"\\n\", \"\").replace(\"\\r\", \"\")\n",
    "    \n",
    "    return text"
   ]
  },
  {
   "cell_type": "code",
   "execution_count": 37,
   "metadata": {},
   "outputs": [
    {
     "data": {
      "text/plain": [
       "\"What's in a name? That which we call a rose    By any other name would smell as sweet.    So Romeo would, were he not Romeo call'd,    Retain that dear perfection which he owes    Without that title. Romeo, doff thy name;    And for that name, which is no part of thee,    Take all myself.  Rom. I take thee at thy word.    Call me but love, and I'll be new baptiz'd;    Henceforth I never will be Romeo.  Jul. What man art thou that, thus bescreen'd in night,    So stumblest on my counsel?  Rom. By a name    I know not how to tell thee who I am.    My name, dear saint, is hateful to myself,    Because it is an enemy to thee.    Had I it written, I would tear the word.  Jul. My ears have yet not drunk a hundred words    Of that tongue's utterance, yet I know the sound.    Art thou not Romeo, and a Montague?  Rom. Neither, fair saint, if either thee dislike.  Jul. How cam'st thou hither, tell me, and wherefore?    The orchard walls are high and hard to climb,    And the place death, conside\""
      ]
     },
     "execution_count": 37,
     "metadata": {},
     "output_type": "execute_result"
    }
   ],
   "source": [
    "story = read_book('''./Books_EngFr/Books_EngFr/English/shakespeare/Romeo and Juliet.txt''')\n",
    "len(story)\n",
    "\n",
    "# Printing a substring from the sample text\n",
    "idx = story.find(\"What's in a name\")\n",
    "sample_text = story[idx: idx + 1000]\n",
    "sample_text"
   ]
  },
  {
   "cell_type": "code",
   "execution_count": 29,
   "metadata": {},
   "outputs": [
    {
     "ename": "SyntaxError",
     "evalue": "(unicode error) 'unicodeescape' codec can't decode bytes in position 2-3: truncated \\UXXXXXXXX escape (<ipython-input-29-25f4b5b3aefe>, line 1)",
     "output_type": "error",
     "traceback": [
      "\u001b[1;36m  File \u001b[1;32m\"<ipython-input-29-25f4b5b3aefe>\"\u001b[1;36m, line \u001b[1;32m1\u001b[0m\n\u001b[1;33m    'C:\\Users\\USER\\Desktop\\PyForRx\\PythonForRx\\Books_EngFr\\Books_EngFr\\English\\shakespeare'.replace('\\\\', '/')\u001b[0m\n\u001b[1;37m                                                                                           ^\u001b[0m\n\u001b[1;31mSyntaxError\u001b[0m\u001b[1;31m:\u001b[0m (unicode error) 'unicodeescape' codec can't decode bytes in position 2-3: truncated \\UXXXXXXXX escape\n"
     ]
    }
   ],
   "source": []
  },
  {
   "cell_type": "code",
   "execution_count": 41,
   "metadata": {},
   "outputs": [],
   "source": [
    "# Computing word frequency statistics\n",
    "## We want to define a function that counts the number of unique words and also gives the total number of words given a text\n",
    "def word_stats(word_count: dict) -> tuple:\n",
    "    \"\"\"\n",
    "        Given a dictionary of words and their frequencies(How often they occur),\n",
    "        Returns the total number of unique words in the dictionary as well as the total number of words\n",
    "    \"\"\"\n",
    "    unique_words = len(word_count)\n",
    "    total_words = sum(word_count.values())\n",
    "    \n",
    "    return (unique_words, total_words)\n",
    "\n"
   ]
  },
  {
   "cell_type": "code",
   "execution_count": 42,
   "metadata": {},
   "outputs": [
    {
     "name": "stdout",
     "output_type": "stream",
     "text": [
      "unique words -> 4777, total words -> 40776\n"
     ]
    }
   ],
   "source": [
    "# Word_stats in English version of the book Romeo and Juliet\n",
    "story = read_book('''./Books_EngFr/Books_EngFr/English/shakespeare/Romeo and Juliet.txt''')\n",
    "\n",
    "# Call count_words on story to create dictionary of words and their frequencies\n",
    "word_dictionary = count_words(story)\n",
    "\n",
    "unique_words, total_words = word_stats(word_dictionary)\n",
    "print(f\"unique words -> {unique_words}, total words -> {total_words}\")"
   ]
  },
  {
   "cell_type": "code",
   "execution_count": 44,
   "metadata": {},
   "outputs": [
    {
     "name": "stdout",
     "output_type": "stream",
     "text": [
      "unique words -> 7344, total words -> 20311\n"
     ]
    }
   ],
   "source": [
    "# Word_stats in German version of the book Romeo and Juliet\n",
    "story = read_book('''./Books_GerPort/German/shakespeare/Romeo und Julia.txt''')\n",
    "\n",
    "# Call count_words on story to create dictionary of words and their frequencies\n",
    "word_dictionary = count_words(story)\n",
    "\n",
    "unique_words, total_words = word_stats(word_dictionary)\n",
    "print(f\"German version of Romeo and Juliet: unique words -> {unique_words}, total words -> {total_words}\")"
   ]
  },
  {
   "cell_type": "code",
   "execution_count": null,
   "metadata": {},
   "outputs": [],
   "source": []
  }
 ],
 "metadata": {
  "interpreter": {
   "hash": "ac59ebe37160ed0dfa835113d9b8498d9f09ceb179beaac4002f036b9467c963"
  },
  "kernelspec": {
   "display_name": "Python 3.9.4 64-bit",
   "name": "python3"
  },
  "language_info": {
   "codemirror_mode": {
    "name": "ipython",
    "version": 3
   },
   "file_extension": ".py",
   "mimetype": "text/x-python",
   "name": "python",
   "nbconvert_exporter": "python",
   "pygments_lexer": "ipython3",
   "version": "3.9.4"
  },
  "orig_nbformat": 4
 },
 "nbformat": 4,
 "nbformat_minor": 2
}
