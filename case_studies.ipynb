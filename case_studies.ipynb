{
 "cells": [
  {
   "cell_type": "markdown",
   "metadata": {},
   "source": [
    "# DNA Translation with Python"
   ]
  },
  {
   "cell_type": "markdown",
   "metadata": {},
   "source": []
  },
  {
   "cell_type": "code",
   "execution_count": 22,
   "metadata": {},
   "outputs": [
    {
     "data": {
      "text/plain": [
       "'MSTHDTSLKTTEEVAFQIILLCQFGVGTFANVFLFVYNFSPISTGSKQRPRQVILRHMAVANALTLFLTIFPNNMMTFAPIIPQTDLKCKLEFFTRLVARSTNLCSTCVLSIHQFVTLVPVNSGKGILRASVTNMASYSCYSCWFFSVLNNIYIPIKVTGPQLTDNNNNSKSKLFCSTSDFSVGIVFLRFAHDATFMSIMVWTSVSMVLLLHRHCQRMQYIFTLNQDPRGQAETTATHTILMLVVTFVGFYLLSLICIIFYTYFIYSHHSLRHCNDILVSGFPTISPLLLTFRDPKGPCSVFFNC_'"
      ]
     },
     "execution_count": 22,
     "metadata": {},
     "output_type": "execute_result"
    }
   ],
   "source": [
    "# four dna sequence are translated to one amino acid using the table\n",
    "# get the dna to be translated\n",
    "from DNA.dna import table\n",
    "\n",
    "with open(\"./dna.txt\", mode=\"r\") as file:\n",
    "    seq = file.read().replace(\"\\n\", \"\").replace(\"\\r\", \"\")\n",
    "\n",
    "def translate_dna(seq):\n",
    "    protein = ''\n",
    "    if len(seq) % 3 == 0:\n",
    "        for i in range(0, len(seq), 3):\n",
    "            DNA = seq[i: i+3]\n",
    "            amino = table[DNA]\n",
    "            protein += amino\n",
    "    return protein\n",
    "translate_dna(seq[20:938])\n"
   ]
  },
  {
   "cell_type": "code",
   "execution_count": 16,
   "metadata": {},
   "outputs": [
    {
     "data": {
      "text/plain": [
       "'GGTCAGAAAAAGCCCTCTCCATGTCTACTCACGATACATCCCTGAAAACCACTGAGGAAGTGGCTTTTCAGATCATCTTGCTTTGCCAGTTTGGGGTTGGGACTTTTGCCAATGTATTTCTCTTTGTCTATAATTTCTCTCCAATCTCGACTGGTTCTAAACAGAGGCCCAGACAAGTGATTTTAAGACACATGGCTGTGGCCAATGCCTTAACTCTCTTCCTCACTATATTTCCAAACAACATGATGACTTTTGCTCCAATTATTCCTCAAACTGACCTCAAATGTAAATTAGAATTCTTCACTCGCCTCGTGGCAAGAAGCACAAACTTGTGTTCAACTTGTGTTCTGAGTATCCATCAGTTTGTCACACTTGTTCCTGTTAATTCAGGTAAAGGAATACTCAGAGCAAGTGTCACAAACATGGCAAGTTATTCTTGTTACAGTTGTTGGTTCTTCAGTGTCTTAAATAACATCTACATTCCAATTAAGGTCACTGGTCCACAGTTAACAGACAATAACAATAACTCTAAAAGCAAGTTGTTCTGTTCCACTTCTGATTTCAGTGTAGGCATTGTCTTCTTGAGGTTTGCCCATGATGCCACATTCATGAGCATCATGGTCTGGACCAGTGTCTCCATGGTACTTCTCCTCCATAGACATTGTCAGAGAATGCAGTACATATTCACTCTCAATCAGGACCCCAGGGGCCAAGCAGAGACCACAGCAACCCATACTATCCTGATGCTGGTAGTCACATTTGTTGGCTTTTATCTTCTAAGTCTTATTTGTATCATCTTTTACACCTATTTTATATATTCTCATCATTCCCTGAGGCATTGCAATGACATTTTGGTTTCGGGTTTCCCTACAATTTCTCCTTTACTGTTGACCTTCAGAGACCCTAAGGGTCCTTGTTCTGTGTTCTTCAACTGTTGAAAGCCAGAGTCACTAAAAATGCCAAACACAGAAGACAGCTTTGCTAATACCATTAAATACTTTATTCCATAAATATGTTTTTAAAAGCTTGTATGAACAAGGTATGGTGCTCACTGCTATACTTATAAAAGAGTAAGGTTATAATCACTTGTTGATATGAAAAGATTTCTGGTTGGAATCTGATTGAAACAGTGAGTTATTCACCACCCTCCATTCTCT'"
      ]
     },
     "execution_count": 16,
     "metadata": {},
     "output_type": "execute_result"
    }
   ],
   "source": [
    "seq"
   ]
  },
  {
   "cell_type": "code",
   "execution_count": 19,
   "metadata": {},
   "outputs": [
    {
     "data": {
      "text/plain": [
       "'I'"
      ]
     },
     "execution_count": 19,
     "metadata": {},
     "output_type": "execute_result"
    }
   ],
   "source": [
    "# translate_dna(\"ATA\")"
   ]
  },
  {
   "cell_type": "code",
   "execution_count": 5,
   "metadata": {},
   "outputs": [
    {
     "data": {
      "text/plain": [
       "[['gold', 13, 20000], ['laptop', 7, 1700]]"
      ]
     },
     "execution_count": 5,
     "metadata": {},
     "output_type": "execute_result"
    }
   ],
   "source": [
    "# Greedy algorithms#\n",
    "items = [[\"gold\", 13, 20000], [\"phone\", 2, 1000], [\"laptop\", 7, 1700], [\"stereo\", 17, 600], [\"airpod\", 1, 800]]\n",
    "bag = []\n",
    "available = 20\n",
    "def get_most_expensive(items):\n",
    "    most_expensive = None\n",
    "    cost = float(\"-inf\")\n",
    "    \n",
    "    for item in items:\n",
    "        if item[2] > cost and item[1] <= available:\n",
    "            most_expensive = item\n",
    "            cost = item[2]\n",
    "    \n",
    "    return most_expensive\n",
    "\n",
    "def fill_bag():\n",
    "    most_expensive = get_most_expensive(items)\n",
    "    global available\n",
    "    while most_expensive:\n",
    "        take = items.pop(items.index(most_expensive))\n",
    "        bag.append(take)\n",
    "        available -= take[1]\n",
    "        most_expensive = get_most_expensive(items)\n",
    "        \n",
    "        \n",
    "        \n",
    "    return bag\n",
    "\n",
    "fill_bag()\n",
    "    "
   ]
  },
  {
   "cell_type": "code",
   "execution_count": 1,
   "metadata": {},
   "outputs": [
    {
     "name": "stdout",
     "output_type": "stream",
     "text": [
      "[{'name': 'Gold', 'weight': 13, 'worth': 10000}, {'name': 'laptop', 'weight': 7, 'worth': 3000}]\n"
     ]
    }
   ],
   "source": [
    "# Greedy algorithms without functions\n",
    "available = 20\n",
    "items = [\n",
    "    {\n",
    "      \"name\" : \"diamond\",\n",
    "      \"weight\": 23,\n",
    "      \"worth\": 30000\n",
    "    },{\n",
    "        \"name\": \"Gold\",\n",
    "        \"weight\": 13,\n",
    "        \"worth\": 10000\n",
    "    },{\n",
    "        \"name\": \"phone\",\n",
    "        \"weight\": 2,\n",
    "        \"worth\": 1500\n",
    "    },{\n",
    "        \"name\": \"laptop\",\n",
    "        \"weight\": 7,\n",
    "        \"worth\": 3000\n",
    "    },{\n",
    "        \"name\": \"TV\",\n",
    "        \"weight\": 8,\n",
    "        \"worth\": 2000\n",
    "    },{\n",
    "        \"name\": \"stereo\",\n",
    "        \"weight\": 6,\n",
    "        \"worth\": 1500\n",
    "    }, {\"name\": \"stereo\", \"weight\": 2, \"worth\": 500 },  {\"name\": \"syringe\", \"weight\": 0.5, \"worth\": 50 }, {\"name\": \"money\", \"weight\": 1, \"worth\": 1000 }\n",
    "]; collected = []\n",
    "\n",
    "while available > 0:\n",
    "    best_item = None\n",
    "    worth = 0\n",
    "    for item in items:\n",
    "        if item[\"worth\"] > worth and item not in collected and item[\"weight\"] <= available:\n",
    "            best_item = item\n",
    "            worth = item[\"worth\"]\n",
    "    if best_item is None:\n",
    "        available = 0\n",
    "    else:\n",
    "        collected.append(best_item)\n",
    "        available -= best_item[\"weight\"]\n",
    "        \n",
    "        \n",
    "print(collected)\n",
    "    \n",
    "        "
   ]
  },
  {
   "cell_type": "markdown",
   "metadata": {},
   "source": [
    "# Language Processing"
   ]
  },
  {
   "cell_type": "markdown",
   "metadata": {},
   "source": [
    "## In this case study, we will examine the properties of individual books in a book collection.\n",
    "* We will look at attributes such as book lengths, number of unique words. \n",
    "* Then how these attribbutes **cluster** by language of the author **or** authorship"
   ]
  },
  {
   "cell_type": "code",
   "execution_count": null,
   "metadata": {},
   "outputs": [],
   "source": []
  },
  {
   "cell_type": "code",
   "execution_count": 13,
   "metadata": {},
   "outputs": [
    {
     "data": {
      "text/plain": [
       "True"
      ]
     },
     "execution_count": 13,
     "metadata": {},
     "output_type": "execute_result"
    }
   ],
   "source": [
    "# Counting words \n",
    "from collections import Counter\n",
    "sentence = \"Hello world!. Hello world is used to introduce people to the world of programming. It is usually the first thing a programmer writes\"\n",
    "\n",
    "def count_words(sentence):\n",
    "    \"\"\"Counts the occurence of each word in a string. Removes extra characers like ! , . and converts all characters to lower case\"\"\"\n",
    "    words = sentence.lower()\n",
    "    common_punctuations = [\"!\", \",\", \".\", \"?\", '\"', \";\", \":\"]\n",
    "    \n",
    "    for char in common_punctuations:\n",
    "        words = words.replace(char, \"\")\n",
    "    \n",
    "    word_count = {}\n",
    "    for word in words.split(\" \"):\n",
    "        if word in word_count:\n",
    "            word_count[word] += 1\n",
    "        else:\n",
    "            word_count[word] = 1\n",
    "    return word_count\n",
    "\n",
    "def count_words_fast(sentence):\n",
    "    \"\"\"Counts the occurence of each word in a string. Removes extra characers like ! , . and converts all characters to lower case.\n",
    "        Uses the Counter tool from collections to do the counting\n",
    "    \"\"\"\n",
    "    words = sentence.lower()\n",
    "    common_punctuations = [\"!\", \",\", \".\", \"?\", '\"', \";\", \":\"]\n",
    "    \n",
    "    for char in common_punctuations:\n",
    "        words = words.replace(char, \"\")\n",
    "    \n",
    "    word_count = Counter(words.split(\" \"))\n",
    "    return word_count\n",
    "\n",
    "\n",
    "count_words_fast(sentence) == count_words(sentence)"
   ]
  },
  {
   "cell_type": "markdown",
   "metadata": {},
   "source": [
    "## Learn how to read in a book from a file\n"
   ]
  },
  {
   "cell_type": "code",
   "execution_count": 23,
   "metadata": {},
   "outputs": [],
   "source": [
    "def read_book(title_path):\n",
    "    \"\"\"\n",
    "        Takes in a book path as argument and returns the content of the book as a string\n",
    "    \"\"\"\n",
    "    with open(title_path, \"r\", encoding=\"utf8\") as current_file:\n",
    "        text = current_file.read()\n",
    "        text = text.replace(\"\\n\", \"\").replace(\"\\r\", \"\")\n",
    "    \n",
    "    return text"
   ]
  },
  {
   "cell_type": "code",
   "execution_count": 37,
   "metadata": {},
   "outputs": [
    {
     "data": {
      "text/plain": [
       "\"What's in a name? That which we call a rose    By any other name would smell as sweet.    So Romeo would, were he not Romeo call'd,    Retain that dear perfection which he owes    Without that title. Romeo, doff thy name;    And for that name, which is no part of thee,    Take all myself.  Rom. I take thee at thy word.    Call me but love, and I'll be new baptiz'd;    Henceforth I never will be Romeo.  Jul. What man art thou that, thus bescreen'd in night,    So stumblest on my counsel?  Rom. By a name    I know not how to tell thee who I am.    My name, dear saint, is hateful to myself,    Because it is an enemy to thee.    Had I it written, I would tear the word.  Jul. My ears have yet not drunk a hundred words    Of that tongue's utterance, yet I know the sound.    Art thou not Romeo, and a Montague?  Rom. Neither, fair saint, if either thee dislike.  Jul. How cam'st thou hither, tell me, and wherefore?    The orchard walls are high and hard to climb,    And the place death, conside\""
      ]
     },
     "execution_count": 37,
     "metadata": {},
     "output_type": "execute_result"
    }
   ],
   "source": [
    "story = read_book('''./Books_EngFr/Books_EngFr/English/shakespeare/Romeo and Juliet.txt''')\n",
    "len(story)\n",
    "\n",
    "# Printing a substring from the sample text\n",
    "idx = story.find(\"What's in a name\")\n",
    "sample_text = story[idx: idx + 1000]\n",
    "sample_text"
   ]
  },
  {
   "cell_type": "code",
   "execution_count": 29,
   "metadata": {},
   "outputs": [
    {
     "ename": "SyntaxError",
     "evalue": "(unicode error) 'unicodeescape' codec can't decode bytes in position 2-3: truncated \\UXXXXXXXX escape (<ipython-input-29-25f4b5b3aefe>, line 1)",
     "output_type": "error",
     "traceback": [
      "\u001b[1;36m  File \u001b[1;32m\"<ipython-input-29-25f4b5b3aefe>\"\u001b[1;36m, line \u001b[1;32m1\u001b[0m\n\u001b[1;33m    'C:\\Users\\USER\\Desktop\\PyForRx\\PythonForRx\\Books_EngFr\\Books_EngFr\\English\\shakespeare'.replace('\\\\', '/')\u001b[0m\n\u001b[1;37m                                                                                           ^\u001b[0m\n\u001b[1;31mSyntaxError\u001b[0m\u001b[1;31m:\u001b[0m (unicode error) 'unicodeescape' codec can't decode bytes in position 2-3: truncated \\UXXXXXXXX escape\n"
     ]
    }
   ],
   "source": []
  },
  {
   "cell_type": "code",
   "execution_count": 41,
   "metadata": {},
   "outputs": [],
   "source": [
    "# Computing word frequency statistics\n",
    "## We want to define a function that counts the number of unique words and also gives the total number of words given a text\n",
    "def word_stats(word_count: dict) -> tuple:\n",
    "    \"\"\"\n",
    "        Given a dictionary of words and their frequencies(How often they occur),\n",
    "        Returns the total number of unique words in the dictionary as well as the total number of words\n",
    "    \"\"\"\n",
    "    unique_words = len(word_count)\n",
    "    total_words = sum(word_count.values())\n",
    "    \n",
    "    return (unique_words, total_words)\n",
    "\n"
   ]
  },
  {
   "cell_type": "code",
   "execution_count": 46,
   "metadata": {},
   "outputs": [
    {
     "name": "stdout",
     "output_type": "stream",
     "text": [
      "English version of Romeo and Juliet: unique words -> 4777, total words -> 40776\n"
     ]
    }
   ],
   "source": [
    "# Word_stats in English version of the book Romeo and Juliet\n",
    "story = read_book('''./Books_EngFr/Books_EngFr/English/shakespeare/Romeo and Juliet.txt''')\n",
    "\n",
    "# Call count_words on story to create dictionary of words and their frequencies\n",
    "word_dictionary = count_words(story)\n",
    "\n",
    "unique_words, total_words = word_stats(word_dictionary)\n",
    "print(f\"English version of Romeo and Juliet: unique words -> {unique_words}, total words -> {total_words}\")"
   ]
  },
  {
   "cell_type": "code",
   "execution_count": 45,
   "metadata": {},
   "outputs": [
    {
     "name": "stdout",
     "output_type": "stream",
     "text": [
      "German version of Romeo and Juliet: unique words -> 7344, total words -> 20311\n"
     ]
    }
   ],
   "source": [
    "# Word_stats in German version of the book Romeo and Juliet\n",
    "story = read_book('''./Books_GerPort/German/shakespeare/Romeo und Julia.txt''')\n",
    "\n",
    "# Call count_words on story to create dictionary of words and their frequencies\n",
    "word_dictionary = count_words(story)\n",
    "\n",
    "unique_words, total_words = word_stats(word_dictionary)\n",
    "print(f\"German version of Romeo and Juliet: unique words -> {unique_words}, total words -> {total_words}\")"
   ]
  },
  {
   "cell_type": "markdown",
   "metadata": {},
   "source": [
    "## Reading multiple files and storing their data in a Pandas DataFrame\n",
    "\n",
    "* To create a pandas dataframe with empty rows and columns at first, we can start by doing \n",
    "*   -> table = pd.DataFrame(columns=(\"first\", \"second\"))\n",
    "* You can then populate the table in this manner\n",
    "    -> row = 1\n",
    "*   -> table.loc[row] = \"sam\", \"Atuma\"\n"
   ]
  },
  {
   "cell_type": "code",
   "execution_count": 60,
   "metadata": {},
   "outputs": [
    {
     "name": "stdout",
     "output_type": "stream",
     "text": [
      "der freigeist.txt\n",
      "der junge gelehrte.txt\n",
      "die juden.txt\n",
      "emilia galotti.txt\n",
      "hamburgische dramaturgie.txt\n",
      "minna von barnhelm.txt\n",
      "miss sara sampson.txt\n",
      "philotas.txt\n",
      "Das MN¦âdchen aus der Feenwelt.txt\n",
      "Der Alpenki¦énig und der Menschenfeind.txt\n",
      "Der Barometermacher auf der Zauberinsel.txt\n",
      "Der Diamant des Geisterki¦énigs.txt\n",
      "Der Verschwender.txt\n",
      "Die gefesselte Phantasie.txt\n",
      "Die unheilbringende Krone.txt\n",
      "Moisasurs Zauberfluch.txt\n",
      "Der Neffe als Onkel.txt\n",
      "Der Parasit, oder die Kunst, sein GlA¦èck zu machen.txt\n",
      "die braut von messina.txt\n",
      "Die Huldigung der KA¦ènste.txt\n",
      "Die Jungfrau von Orleans.txt\n",
      "Die Piccolomini.txt\n",
      "Die Verschwi¦érung des Fiesco zu Genua.txt\n",
      "Kabale und Liebe.txt\n",
      "Turandot, Prinzessin von China.txt\n",
      "Wallensteins Lager.txt\n",
      "Wallensteins Tod.txt\n",
      "Der Kaufmann von Venedig.txt\n",
      "Ein Sommernachtstraum.txt\n",
      "Hamlet.txt\n",
      "Macbeth.txt\n",
      "Othello.txt\n",
      "Richard III.txt\n",
      "Romeo und Julia.txt\n",
      "A Filha do Arcediago.txt\n",
      "A Neta do Arcediago.txt\n",
      "A Queda d'um Anjo.txt\n",
      "Agulha em Palheiro.txt\n",
      "Amor de Perdic¦ºa¦âo.txt\n",
      "Amor de Salvac¦ºa¦âo.txt\n",
      "Annos de Prosa.txt\n",
      "Carlota Angela.txt\n",
      "Estrellas Funestas.txt\n",
      "Estrellas Prop-¦cias.txt\n",
      "Lagrimas Abena¦üoadas.txt\n",
      "Livro de Consolac¦ºa¦âo.txt\n",
      "O Olho de Vidro.txt\n",
      "O que fazem mulheres.txt\n",
      "O Regicida.txt\n",
      "Scenas Contemporaneas.txt\n",
      "A Morgadinha dos Cannaviaes.txt\n",
      "Os fidalgos da Casa Mourisca.txt\n",
      "Uma fam-¦lia ingleza.txt\n",
      "A Cidade e as Serras.txt\n",
      "A corresponda¦Çncia de Fradique Mendes.txt\n",
      "A Illustre Casa de Ramires.txt\n",
      "A Rel-¦quia.txt\n",
      "Cartas de Inglaterra.txt\n",
      "O crime do padre Amaro.txt\n",
      "O Mandarim.txt\n",
      "O Primo Bazilio.txt\n",
      "Os Maias.txt\n",
      "Hamlet.txt\n"
     ]
    }
   ],
   "source": [
    "import os\n",
    "# Reading multiple files and storing their data on a table\n",
    "\n",
    "# reading the file\n",
    "languages = './Books_GerPort'\n",
    "\n",
    "\n",
    "for language in os.listdir(languages):\n",
    "    for author in os.listdir(languages + \"/\" + language):\n",
    "        for book in os.listdir(languages + \"/\" + language + \"/\" + author):\n",
    "            print(book)\n",
    "\n"
   ]
  },
  {
   "cell_type": "code",
   "execution_count": 68,
   "metadata": {},
   "outputs": [
    {
     "name": "stdout",
     "output_type": "stream",
     "text": [
      "der freigeist.txt\n",
      "der junge gelehrte.txt\n",
      "die juden.txt\n",
      "emilia galotti.txt\n",
      "hamburgische dramaturgie.txt\n",
      "minna von barnhelm.txt\n",
      "miss sara sampson.txt\n",
      "philotas.txt\n",
      "Das MN¦âdchen aus der Feenwelt.txt\n",
      "Der Alpenki¦énig und der Menschenfeind.txt\n",
      "Der Barometermacher auf der Zauberinsel.txt\n",
      "Der Diamant des Geisterki¦énigs.txt\n",
      "Der Verschwender.txt\n",
      "Die gefesselte Phantasie.txt\n",
      "Die unheilbringende Krone.txt\n",
      "Moisasurs Zauberfluch.txt\n",
      "Der Neffe als Onkel.txt\n",
      "Der Parasit, oder die Kunst, sein GlA¦èck zu machen.txt\n",
      "die braut von messina.txt\n",
      "Die Huldigung der KA¦ènste.txt\n",
      "Die Jungfrau von Orleans.txt\n",
      "Die Piccolomini.txt\n",
      "Die Verschwi¦érung des Fiesco zu Genua.txt\n",
      "Kabale und Liebe.txt\n",
      "Turandot, Prinzessin von China.txt\n",
      "Wallensteins Lager.txt\n",
      "Wallensteins Tod.txt\n",
      "Der Kaufmann von Venedig.txt\n",
      "Ein Sommernachtstraum.txt\n",
      "Hamlet.txt\n",
      "Macbeth.txt\n",
      "Othello.txt\n",
      "Richard III.txt\n",
      "Romeo und Julia.txt\n",
      "A Filha do Arcediago.txt\n",
      "A Neta do Arcediago.txt\n",
      "A Queda d'um Anjo.txt\n",
      "Agulha em Palheiro.txt\n",
      "Amor de Perdic¦ºa¦âo.txt\n",
      "Amor de Salvac¦ºa¦âo.txt\n",
      "Annos de Prosa.txt\n",
      "Carlota Angela.txt\n",
      "Estrellas Funestas.txt\n",
      "Estrellas Prop-¦cias.txt\n",
      "Lagrimas Abena¦üoadas.txt\n",
      "Livro de Consolac¦ºa¦âo.txt\n",
      "O Olho de Vidro.txt\n",
      "O que fazem mulheres.txt\n",
      "O Regicida.txt\n",
      "Scenas Contemporaneas.txt\n",
      "A Morgadinha dos Cannaviaes.txt\n",
      "Os fidalgos da Casa Mourisca.txt\n",
      "Uma fam-¦lia ingleza.txt\n",
      "A Cidade e as Serras.txt\n",
      "A corresponda¦Çncia de Fradique Mendes.txt\n",
      "A Illustre Casa de Ramires.txt\n",
      "A Rel-¦quia.txt\n",
      "Cartas de Inglaterra.txt\n",
      "O crime do padre Amaro.txt\n",
      "O Mandarim.txt\n",
      "O Primo Bazilio.txt\n",
      "Os Maias.txt\n",
      "Hamlet.txt\n"
     ]
    }
   ],
   "source": [
    "import pandas as pd\n",
    "import os\n",
    "# Reading multiple files and storing their data on a table\n",
    "languages = './Books_GerPort'\n",
    "\n",
    "# holding important data on the table\n",
    "row = 1\n",
    "table = pd.DataFrame(columns=(\"author\", \"title\", \"language\", \"unique_words\", \"total_words\"))\n",
    "for language in os.listdir(languages):\n",
    "    for author in os.listdir(languages + \"/\" + language):\n",
    "        for book in os.listdir(languages + \"/\" + language + \"/\" + author):\n",
    "            book_text = read_book(languages + \"/\" + language + \"/\" + author + \"/\" + book)\n",
    "            unique_words, total_words = word_stats(count_words(book_text))\n",
    "            table.loc[row] = author, book.replace(\".txt\", \"\"), language, unique_words, total_words\n",
    "            row += 1\n",
    "            print(book)\n",
    "            "
   ]
  },
  {
   "cell_type": "code",
   "execution_count": 69,
   "metadata": {},
   "outputs": [
    {
     "data": {
      "text/html": [
       "<div>\n",
       "<style scoped>\n",
       "    .dataframe tbody tr th:only-of-type {\n",
       "        vertical-align: middle;\n",
       "    }\n",
       "\n",
       "    .dataframe tbody tr th {\n",
       "        vertical-align: top;\n",
       "    }\n",
       "\n",
       "    .dataframe thead th {\n",
       "        text-align: right;\n",
       "    }\n",
       "</style>\n",
       "<table border=\"1\" class=\"dataframe\">\n",
       "  <thead>\n",
       "    <tr style=\"text-align: right;\">\n",
       "      <th></th>\n",
       "      <th>author</th>\n",
       "      <th>title</th>\n",
       "      <th>language</th>\n",
       "      <th>unique_words</th>\n",
       "      <th>total_words</th>\n",
       "    </tr>\n",
       "  </thead>\n",
       "  <tbody>\n",
       "    <tr>\n",
       "      <th>49</th>\n",
       "      <td>branco</td>\n",
       "      <td>O Regicida</td>\n",
       "      <td>Portuguese</td>\n",
       "      <td>14669</td>\n",
       "      <td>50751</td>\n",
       "    </tr>\n",
       "    <tr>\n",
       "      <th>50</th>\n",
       "      <td>branco</td>\n",
       "      <td>Scenas Contemporaneas</td>\n",
       "      <td>Portuguese</td>\n",
       "      <td>14114</td>\n",
       "      <td>48889</td>\n",
       "    </tr>\n",
       "    <tr>\n",
       "      <th>51</th>\n",
       "      <td>dinis</td>\n",
       "      <td>A Morgadinha dos Cannaviaes</td>\n",
       "      <td>Portuguese</td>\n",
       "      <td>30013</td>\n",
       "      <td>134382</td>\n",
       "    </tr>\n",
       "    <tr>\n",
       "      <th>52</th>\n",
       "      <td>dinis</td>\n",
       "      <td>Os fidalgos da Casa Mourisca</td>\n",
       "      <td>Portuguese</td>\n",
       "      <td>27142</td>\n",
       "      <td>130834</td>\n",
       "    </tr>\n",
       "    <tr>\n",
       "      <th>53</th>\n",
       "      <td>dinis</td>\n",
       "      <td>Uma fam-¦lia ingleza</td>\n",
       "      <td>Portuguese</td>\n",
       "      <td>26160</td>\n",
       "      <td>109270</td>\n",
       "    </tr>\n",
       "    <tr>\n",
       "      <th>54</th>\n",
       "      <td>Queir-ós</td>\n",
       "      <td>A Cidade e as Serras</td>\n",
       "      <td>Portuguese</td>\n",
       "      <td>18771</td>\n",
       "      <td>65225</td>\n",
       "    </tr>\n",
       "    <tr>\n",
       "      <th>55</th>\n",
       "      <td>Queir-ós</td>\n",
       "      <td>A corresponda¦Çncia de Fradique Mendes</td>\n",
       "      <td>Portuguese</td>\n",
       "      <td>16492</td>\n",
       "      <td>52982</td>\n",
       "    </tr>\n",
       "    <tr>\n",
       "      <th>56</th>\n",
       "      <td>Queir-ós</td>\n",
       "      <td>A Illustre Casa de Ramires</td>\n",
       "      <td>Portuguese</td>\n",
       "      <td>24575</td>\n",
       "      <td>98218</td>\n",
       "    </tr>\n",
       "    <tr>\n",
       "      <th>57</th>\n",
       "      <td>Queir-ós</td>\n",
       "      <td>A Rel-¦quia</td>\n",
       "      <td>Portuguese</td>\n",
       "      <td>20927</td>\n",
       "      <td>77627</td>\n",
       "    </tr>\n",
       "    <tr>\n",
       "      <th>58</th>\n",
       "      <td>Queir-ós</td>\n",
       "      <td>Cartas de Inglaterra</td>\n",
       "      <td>Portuguese</td>\n",
       "      <td>13806</td>\n",
       "      <td>44293</td>\n",
       "    </tr>\n",
       "    <tr>\n",
       "      <th>59</th>\n",
       "      <td>Queir-ós</td>\n",
       "      <td>O crime do padre Amaro</td>\n",
       "      <td>Portuguese</td>\n",
       "      <td>28339</td>\n",
       "      <td>128630</td>\n",
       "    </tr>\n",
       "    <tr>\n",
       "      <th>60</th>\n",
       "      <td>Queir-ós</td>\n",
       "      <td>O Mandarim</td>\n",
       "      <td>Portuguese</td>\n",
       "      <td>7760</td>\n",
       "      <td>21440</td>\n",
       "    </tr>\n",
       "    <tr>\n",
       "      <th>61</th>\n",
       "      <td>Queir-ós</td>\n",
       "      <td>O Primo Bazilio</td>\n",
       "      <td>Portuguese</td>\n",
       "      <td>26606</td>\n",
       "      <td>107303</td>\n",
       "    </tr>\n",
       "    <tr>\n",
       "      <th>62</th>\n",
       "      <td>Queir-ós</td>\n",
       "      <td>Os Maias</td>\n",
       "      <td>Portuguese</td>\n",
       "      <td>39377</td>\n",
       "      <td>195771</td>\n",
       "    </tr>\n",
       "    <tr>\n",
       "      <th>63</th>\n",
       "      <td>shakespeare</td>\n",
       "      <td>Hamlet</td>\n",
       "      <td>Portuguese</td>\n",
       "      <td>9496</td>\n",
       "      <td>30567</td>\n",
       "    </tr>\n",
       "  </tbody>\n",
       "</table>\n",
       "</div>"
      ],
      "text/plain": [
       "         author                                   title    language  \\\n",
       "49       branco                              O Regicida  Portuguese   \n",
       "50       branco                   Scenas Contemporaneas  Portuguese   \n",
       "51        dinis             A Morgadinha dos Cannaviaes  Portuguese   \n",
       "52        dinis            Os fidalgos da Casa Mourisca  Portuguese   \n",
       "53        dinis                    Uma fam-¦lia ingleza  Portuguese   \n",
       "54     Queir-ós                    A Cidade e as Serras  Portuguese   \n",
       "55     Queir-ós  A corresponda¦Çncia de Fradique Mendes  Portuguese   \n",
       "56     Queir-ós              A Illustre Casa de Ramires  Portuguese   \n",
       "57     Queir-ós                             A Rel-¦quia  Portuguese   \n",
       "58     Queir-ós                    Cartas de Inglaterra  Portuguese   \n",
       "59     Queir-ós                  O crime do padre Amaro  Portuguese   \n",
       "60     Queir-ós                              O Mandarim  Portuguese   \n",
       "61     Queir-ós                         O Primo Bazilio  Portuguese   \n",
       "62     Queir-ós                                Os Maias  Portuguese   \n",
       "63  shakespeare                                  Hamlet  Portuguese   \n",
       "\n",
       "   unique_words total_words  \n",
       "49        14669       50751  \n",
       "50        14114       48889  \n",
       "51        30013      134382  \n",
       "52        27142      130834  \n",
       "53        26160      109270  \n",
       "54        18771       65225  \n",
       "55        16492       52982  \n",
       "56        24575       98218  \n",
       "57        20927       77627  \n",
       "58        13806       44293  \n",
       "59        28339      128630  \n",
       "60         7760       21440  \n",
       "61        26606      107303  \n",
       "62        39377      195771  \n",
       "63         9496       30567  "
      ]
     },
     "execution_count": 69,
     "metadata": {},
     "output_type": "execute_result"
    }
   ],
   "source": [
    "table.tail(15)"
   ]
  },
  {
   "cell_type": "code",
   "execution_count": 58,
   "metadata": {},
   "outputs": [],
   "source": []
  },
  {
   "cell_type": "code",
   "execution_count": 59,
   "metadata": {},
   "outputs": [
    {
     "data": {
      "text/html": [
       "<div>\n",
       "<style scoped>\n",
       "    .dataframe tbody tr th:only-of-type {\n",
       "        vertical-align: middle;\n",
       "    }\n",
       "\n",
       "    .dataframe tbody tr th {\n",
       "        vertical-align: top;\n",
       "    }\n",
       "\n",
       "    .dataframe thead th {\n",
       "        text-align: right;\n",
       "    }\n",
       "</style>\n",
       "<table border=\"1\" class=\"dataframe\">\n",
       "  <thead>\n",
       "    <tr style=\"text-align: right;\">\n",
       "      <th></th>\n",
       "      <th>first</th>\n",
       "      <th>second</th>\n",
       "    </tr>\n",
       "  </thead>\n",
       "  <tbody>\n",
       "    <tr>\n",
       "      <th>1</th>\n",
       "      <td>sam</td>\n",
       "      <td>Atuma</td>\n",
       "    </tr>\n",
       "  </tbody>\n",
       "</table>\n",
       "</div>"
      ],
      "text/plain": [
       "  first second\n",
       "1   sam  Atuma"
      ]
     },
     "execution_count": 59,
     "metadata": {},
     "output_type": "execute_result"
    }
   ],
   "source": [
    "table"
   ]
  },
  {
   "cell_type": "code",
   "execution_count": null,
   "metadata": {},
   "outputs": [],
   "source": []
  }
 ],
 "metadata": {
  "interpreter": {
   "hash": "ac59ebe37160ed0dfa835113d9b8498d9f09ceb179beaac4002f036b9467c963"
  },
  "kernelspec": {
   "display_name": "Python 3.9.4 64-bit",
   "name": "python3"
  },
  "language_info": {
   "codemirror_mode": {
    "name": "ipython",
    "version": 3
   },
   "file_extension": ".py",
   "mimetype": "text/x-python",
   "name": "python",
   "nbconvert_exporter": "python",
   "pygments_lexer": "ipython3",
   "version": "3.9.4"
  },
  "orig_nbformat": 4
 },
 "nbformat": 4,
 "nbformat_minor": 2
}
