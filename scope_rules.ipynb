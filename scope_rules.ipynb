{
 "cells": [
  {
   "cell_type": "code",
   "execution_count": 1,
   "metadata": {},
   "outputs": [
    {
     "name": "stdout",
     "output_type": "stream",
     "text": [
      "2 [1, 2, 3]\n",
      "5 [1, 2, 3, 4]\n",
      "2 [1, 2, 3]\n"
     ]
    }
   ],
   "source": [
    "def update():\n",
    "    n = 5\n",
    "    x.append(4)\n",
    "    print(n, x)\n",
    "\n",
    "x = [1, 2, 3]\n",
    "\n",
    "def mod():\n",
    "    n = 2\n",
    "    x = [1, 2, 3]\n",
    "    print(n, x)\n",
    "    update()\n",
    "    print(n, x)\n",
    "    \n",
    "mod()"
   ]
  },
  {
   "cell_type": "code",
   "execution_count": 7,
   "metadata": {},
   "outputs": [
    {
     "data": {
      "text/plain": [
       "'1986 at index 5'"
      ]
     },
     "execution_count": 7,
     "metadata": {},
     "output_type": "execute_result"
    }
   ],
   "source": [
    "ml = [8, 2, 1, 11, 9, 6]\n",
    "max(ml)\n",
    "\n",
    "# Binary Search\n",
    "def binary_search(arr: list, search: int or float, start: int=0) -> str:\n",
    "    if len(arr) < 2 and arr[0] != search:\n",
    "        return \"Not found\"\n",
    "    start_point: int = 0\n",
    "    end_point: int = len(arr)\n",
    "    mid_point: int = (0 + len(arr)) // 2\n",
    "    \n",
    "    \n",
    "    if arr[mid_point] == search:\n",
    "        return f\"{search} at index {mid_point + start}\"\n",
    "\n",
    "    if arr[mid_point] > search:\n",
    "        end_point = mid_point\n",
    "    \n",
    "    else:\n",
    "        start_point = mid_point\n",
    "    \n",
    "    return binary_search(arr[start_point: end_point + 1], search, start + start_point)\n",
    "\n",
    "binary_search([0, 9, 81, 234, 287, 1986, 2014, 2721, 5014, 6000], 1986)"
   ]
  },
  {
   "cell_type": "code",
   "execution_count": 29,
   "metadata": {},
   "outputs": [
    {
     "data": {
      "text/plain": [
       "[2, 4, 8, 11, 2, 1, 9]"
      ]
     },
     "execution_count": 29,
     "metadata": {},
     "output_type": "execute_result"
    }
   ],
   "source": [
    "#Class\n",
    "class MyList(list):\n",
    "    # def __init__(self,iterable=[]):\n",
    "    #     super().__init__(iterable)\n",
    "    def remove_min(self):\n",
    "        self.remove(min(self))\n",
    "    def remove_max(self):\n",
    "        self.remove(max(self))\n",
    "    def splice(self, index, n_o_t, replace=None):\n",
    "        for times in range(n_o_t):\n",
    "            index < len(self) and self.pop(index)\n",
    "        if replace != None:\n",
    "            self.insert(index, replace)\n",
    "        \n",
    "ml = MyList([2, 4, 17, 8, 11, 2, 1, 9])\n",
    "ml.splice(2, 1)\n",
    "ml"
   ]
  },
  {
   "cell_type": "code",
   "execution_count": 1,
   "metadata": {},
   "outputs": [
    {
     "data": {
      "text/plain": [
       "[(0, 1), (1, 2), (2, 3)]"
      ]
     },
     "execution_count": 1,
     "metadata": {},
     "output_type": "execute_result"
    }
   ],
   "source": [
    "list(enumerate([1, 2, 3]))"
   ]
  },
  {
   "cell_type": "code",
   "execution_count": 58,
   "metadata": {},
   "outputs": [
    {
     "name": "stdout",
     "output_type": "stream",
     "text": [
      "(7, 2)\n"
     ]
    },
    {
     "data": {
      "text/plain": [
       "array([0., 0., 0., 0., 0.])"
      ]
     },
     "execution_count": 58,
     "metadata": {},
     "output_type": "execute_result"
    }
   ],
   "source": [
    "import numpy as np\n",
    "d_2 = np.array([[1, 2, 3, 4, 5, 6,7], [14, 13, 12, 11, 10, 9, 8]])\n",
    "print(d_2.transpose()[:].shape)\n",
    "np.zeros(5)"
   ]
  },
  {
   "cell_type": "code",
   "execution_count": 68,
   "metadata": {},
   "outputs": [
    {
     "data": {
      "text/plain": [
       "array([3, 4, 5])"
      ]
     },
     "execution_count": 68,
     "metadata": {},
     "output_type": "execute_result"
    }
   ],
   "source": [
    "d_2 = np.array([[1, 2, 3, 4, 5, 6,7], [14, 13, 12, 11, 10, 9, 8], [3, 5, 7, 9, 11, 13, 15]])\n",
    "start_row = 0\n",
    "end_row = 2\n",
    "start_col = 3\n",
    "end_col = 8\n",
    "d_2[start_row:end_row][0, 2:5]"
   ]
  },
  {
   "cell_type": "code",
   "execution_count": 62,
   "metadata": {},
   "outputs": [
    {
     "data": {
      "text/plain": [
       "[2, 3, 3, 4]"
      ]
     },
     "execution_count": 62,
     "metadata": {},
     "output_type": "execute_result"
    }
   ],
   "source": [
    "[2, 3] + [3, 4]"
   ]
  },
  {
   "cell_type": "code",
   "execution_count": 81,
   "metadata": {},
   "outputs": [
    {
     "data": {
      "text/plain": [
       "array([[  1,   5],\n",
       "       [  1,   5],\n",
       "       [ 11,  19],\n",
       "       [204, 206]])"
      ]
     },
     "execution_count": 81,
     "metadata": {},
     "output_type": "execute_result"
    }
   ],
   "source": [
    "x = np.array([[1, 2, 5, 7], list(range(1, 15, 2))[0:4], list(range(11, 33, 4))[0: 4], list(range(201, 247))[3:7]])\n",
    "x[0:4, 0:3:2]\n"
   ]
  },
  {
   "cell_type": "code",
   "execution_count": 90,
   "metadata": {},
   "outputs": [
    {
     "data": {
      "text/plain": [
       "'good is Bob '"
      ]
     },
     "execution_count": 90,
     "metadata": {},
     "output_type": "execute_result"
    }
   ],
   "source": [
    "def reverse_words(sentence):\n",
    "    if type(sentence) != str:\n",
    "        return\n",
    "    words_list = sentence.split(' ')\n",
    "    reversed = ''\n",
    "    for idx in range(len(words_list) - 1, -1, -1):\n",
    "        reversed += words_list[idx] + ' '\n",
    "    return reversed\n",
    "\n",
    "reverse_words('Bob is good')\n",
    "        \n",
    "    "
   ]
  },
  {
   "cell_type": "code",
   "execution_count": 8,
   "metadata": {},
   "outputs": [
    {
     "data": {
      "text/plain": [
       "array([2, 8])"
      ]
     },
     "execution_count": 8,
     "metadata": {},
     "output_type": "execute_result"
    }
   ],
   "source": [
    "import numpy as np\n",
    "my_arr = np.array([[1, 2, 3, 4, 5], [9, 8, 7, 6, 5], [12, 11, 10, 9, 8]])\n",
    "next = np.array([10, 9, 8, 7, 6])\n",
    "my_arr[0: 2, 1]"
   ]
  },
  {
   "cell_type": "code",
   "execution_count": 18,
   "metadata": {},
   "outputs": [
    {
     "data": {
      "text/plain": [
       "False"
      ]
     },
     "execution_count": 18,
     "metadata": {},
     "output_type": "execute_result"
    }
   ],
   "source": [
    "np.linspace(0, 100, 8)\n",
    "np.logspace(np.log(10), np.log(1000), 10)\n",
    "X = np.random.random(10)\n",
    "np.all(X > 0.1)"
   ]
  },
  {
   "cell_type": "code",
   "execution_count": 15,
   "metadata": {},
   "outputs": [
    {
     "data": {
      "text/plain": [
       "array([0.87852811, 0.70051621, 0.38721915, 0.84690747, 0.31823825,\n",
       "       0.87072939, 0.75802168, 0.31193251, 0.57805782, 0.90030143])"
      ]
     },
     "execution_count": 15,
     "metadata": {},
     "output_type": "execute_result"
    }
   ],
   "source": [
    "X"
   ]
  },
  {
   "cell_type": "code",
   "execution_count": 11,
   "metadata": {},
   "outputs": [
    {
     "data": {
      "text/plain": [
       "array([[ 1., 50.,  3.,  4.,  5.],\n",
       "       [ 0.,  4., 16., 36., 64.],\n",
       "       [ 1.,  1.,  1.,  1.,  1.]])"
      ]
     },
     "execution_count": 11,
     "metadata": {},
     "output_type": "execute_result"
    }
   ],
   "source": [
    "# numpy\n",
    "import numpy as np\n",
    "# array, basic operations,indexing, slicing, linspace, logspace, random any, all\n",
    "arr = np.array([[1, 2, 3, 4, 5], [n**2 for n in range(0, 10, 2)], np.ones(5)])\n",
    "\n",
    "new_arr = arr[0:1, 1: 3]\n",
    "new_arr[0:1, 0:1] = 50\n",
    "arr_new = arr[0, 1]\n",
    "arr_new = 500\n",
    "arr"
   ]
  },
  {
   "cell_type": "code",
   "execution_count": 13,
   "metadata": {},
   "outputs": [
    {
     "data": {
      "text/plain": [
       "False"
      ]
     },
     "execution_count": 13,
     "metadata": {},
     "output_type": "execute_result"
    }
   ],
   "source": [
    "import numpy as np\n",
    "x = 20\n",
    "not np.any([x % i == 0 for i in range(2, x)])"
   ]
  },
  {
   "cell_type": "code",
   "execution_count": 21,
   "metadata": {},
   "outputs": [
    {
     "data": {
      "image/png": "[encoded data removed]",
      "text/plain": [
       "<Figure size 432x288 with 1 Axes>"
      ]
     },
     "metadata": {
      "needs_background": "light"
     },
     "output_type": "display_data"
    }
   ],
   "source": [
    "import matplotlib.pyplot as plt\n",
    "x = np.linspace(0, 10, 10)\n",
    "y = x ** 2\n",
    "plt.plot(x, y, 'bo-', linewidth=2, markersize=3);"
   ]
  },
  {
   "cell_type": "code",
   "execution_count": 31,
   "metadata": {},
   "outputs": [
    {
     "data": {
      "image/png": "[encoded data removed]",
      "text/plain": [
       "<Figure size 432x288 with 1 Axes>"
      ]
     },
     "metadata": {
      "needs_background": "light"
     },
     "output_type": "display_data"
    }
   ],
   "source": [
    "# xlabel, ylabel, axis, legend\n",
    "x = np.linspace(0, 10, 10)\n",
    "y1 = x ** 2\n",
    "y2 = x ** 1.5\n",
    "plt.plot(x, y1, 'rd-', label='red')\n",
    "plt.plot(x, y2, 'bo-', label='blue')\n",
    "plt.legend()\n",
    "plt.xlabel('label for x'); plt.ylabel('label for y')\n",
    "plt.axis([-0.5, 10.5, 0, 100])\n",
    "plt.savefig('first_plot.png')"
   ]
  },
  {
   "cell_type": "code",
   "execution_count": 38,
   "metadata": {},
   "outputs": [
    {
     "data": {
      "text/plain": [
       "Text(0, 0.5, 'label for y')"
      ]
     },
     "execution_count": 38,
     "metadata": {},
     "output_type": "execute_result"
    },
    {
     "data": {
      "image/png": "[encoded data removed]",
      "text/plain": [
       "<Figure size 432x288 with 1 Axes>"
      ]
     },
     "metadata": {
      "needs_background": "light"
     },
     "output_type": "display_data"
    }
   ],
   "source": [
    "# semilogx, semilogy, loglog\n",
    "x = np.logspace(-1, 1, 10)\n",
    "y1 = x ** 2\n",
    "y2 = x ** 1.5\n",
    "plt.loglog(x, y1, 'rd-', label='red');\n",
    "plt.semilogy(x, y2, 'bo-', label='blue');\n",
    "plt.legend()\n",
    "plt.xlabel('label for x'); plt.ylabel('label for y')\n",
    "# plt.axis([-0.5, 10.5, 0, 100])\n"
   ]
  },
  {
   "cell_type": "code",
   "execution_count": 34,
   "metadata": {},
   "outputs": [
    {
     "data": {
      "text/plain": [
       "array([ 0.1       ,  0.16681005,  0.27825594,  0.46415888,  0.77426368,\n",
       "        1.29154967,  2.15443469,  3.59381366,  5.9948425 , 10.        ])"
      ]
     },
     "execution_count": 34,
     "metadata": {},
     "output_type": "execute_result"
    }
   ],
   "source": [
    "np.logspace(-1, 1, 10)"
   ]
  },
  {
   "cell_type": "code",
   "execution_count": 62,
   "metadata": {},
   "outputs": [
    {
     "data": {
      "text/plain": [
       "(array([  7303.,  22130.,  38192.,  52625.,  64704.,  74056.,  81160.,\n",
       "         86537.,  90502.,  93335.,  95396.,  96823.,  97810.,  98543.,\n",
       "         98989.,  99303.,  99529.,  99683.,  99783.,  99849.,  99913.,\n",
       "         99937.,  99960.,  99973.,  99985.,  99990.,  99993.,  99995.,\n",
       "         99998., 100000.]),\n",
       " array([2.05679287e-02, 1.33189976e+00, 2.64323158e+00, 3.95456341e+00,\n",
       "        5.26589524e+00, 6.57722707e+00, 7.88855889e+00, 9.19989072e+00,\n",
       "        1.05112225e+01, 1.18225544e+01, 1.31338862e+01, 1.44452180e+01,\n",
       "        1.57565499e+01, 1.70678817e+01, 1.83792135e+01, 1.96905453e+01,\n",
       "        2.10018772e+01, 2.23132090e+01, 2.36245408e+01, 2.49358726e+01,\n",
       "        2.62472045e+01, 2.75585363e+01, 2.88698681e+01, 3.01812000e+01,\n",
       "        3.14925318e+01, 3.28038636e+01, 3.41151954e+01, 3.54265273e+01,\n",
       "        3.67378591e+01, 3.80491909e+01, 3.93605228e+01]),\n",
       " [<matplotlib.patches.Polygon at 0x1d862b50c10>])"
      ]
     },
     "execution_count": 62,
     "metadata": {},
     "output_type": "execute_result"
    },
    {
     "data": {
      "image/png": "[encoded data removed]",
      "text/plain": [
       "<Figure size 432x288 with 4 Axes>"
      ]
     },
     "metadata": {
      "needs_background": "light"
     },
     "output_type": "display_data"
    }
   ],
   "source": [
    "# plt.hist, normed, \n",
    "plt.figure()\n",
    "\n",
    "x = np.random.gamma(2, 3, 100000)\n",
    "plt.subplot(221)\n",
    "plt.hist(x, bins=30)\n",
    "\n",
    "plt.subplot(222)\n",
    "plt.hist(x, bins=30)\n",
    "\n",
    "plt.subplot(223)\n",
    "plt.hist(x, bins=30,  cumulative=30)\n",
    "\n",
    "plt.subplot(224)\n",
    "plt.hist(x, bins=30, cumulative=True, histtype=\"step\")"
   ]
  },
  {
   "cell_type": "code",
   "execution_count": 59,
   "metadata": {},
   "outputs": [
    {
     "data": {
      "text/plain": [
       "(array([  7960.,  23774.,  40538.,  55500.,  67415.,  76671.,  83446.,\n",
       "         88359.,  91906.,  94461.,  96261.,  97481.,  98278.,  98840.,\n",
       "         99204.,  99488.,  99676.,  99777.,  99854.,  99898.,  99931.,\n",
       "         99959.,  99975.,  99980.,  99991.,  99994.,  99995.,  99996.,\n",
       "         99997., 100000.]),\n",
       " array([1.04692042e-02, 1.39701695e+00, 2.78356470e+00, 4.17011245e+00,\n",
       "        5.55666020e+00, 6.94320795e+00, 8.32975569e+00, 9.71630344e+00,\n",
       "        1.11028512e+01, 1.24893989e+01, 1.38759467e+01, 1.52624944e+01,\n",
       "        1.66490422e+01, 1.80355899e+01, 1.94221377e+01, 2.08086854e+01,\n",
       "        2.21952332e+01, 2.35817809e+01, 2.49683287e+01, 2.63548764e+01,\n",
       "        2.77414242e+01, 2.91279719e+01, 3.05145197e+01, 3.19010674e+01,\n",
       "        3.32876152e+01, 3.46741629e+01, 3.60607107e+01, 3.74472584e+01,\n",
       "        3.88338062e+01, 4.02203539e+01, 4.16069016e+01]),\n",
       " <BarContainer object of 30 artists>)"
      ]
     },
     "execution_count": 59,
     "metadata": {},
     "output_type": "execute_result"
    },
    {
     "data": {
      "image/png": "[encoded data removed]",
      "text/plain": [
       "<Figure size 432x288 with 1 Axes>"
      ]
     },
     "metadata": {
      "needs_background": "light"
     },
     "output_type": "display_data"
    }
   ],
   "source": [
    "plt.hist(x, bins=30, cumulative=30)\n"
   ]
  },
  {
   "cell_type": "code",
   "execution_count": 6,
   "metadata": {},
   "outputs": [
    {
     "data": {
      "text/plain": [
       "2"
      ]
     },
     "execution_count": 6,
     "metadata": {},
     "output_type": "execute_result"
    }
   ],
   "source": [
    "random.choice(list((1, 2, 3, 4)))"
   ]
  },
  {
   "cell_type": "code",
   "execution_count": 1,
   "metadata": {},
   "outputs": [
    {
     "name": "stdout",
     "output_type": "stream",
     "text": [
      "range(1, 11) 2\n"
     ]
    }
   ],
   "source": [
    "#Simulating randomness using the random module\n",
    "import random\n",
    "random.randint(1, 12)\n",
    "random.random()\n",
    "choices = random.choice([range(1, 7), range(1, 9), range(1, 11)])\n",
    "choice = random.choice(choices)\n",
    "print(choices, choice)\n"
   ]
  },
  {
   "cell_type": "code",
   "execution_count": 2,
   "metadata": {},
   "outputs": [
    {
     "data": {
      "text/plain": [
       "[1, 6, 8, 4, 5, 0, 7, 9, 3, 2]"
      ]
     },
     "execution_count": 2,
     "metadata": {},
     "output_type": "execute_result"
    }
   ],
   "source": [
    "random.sample(range(10), 10)"
   ]
  },
  {
   "cell_type": "code",
   "execution_count": 3,
   "metadata": {},
   "outputs": [
    {
     "ename": "NameError",
     "evalue": "name 'plt' is not defined",
     "output_type": "error",
     "traceback": [
      "\u001b[1;31m---------------------------------------------------------------------------\u001b[0m",
      "\u001b[1;31mNameError\u001b[0m                                 Traceback (most recent call last)",
      "\u001b[1;32m<ipython-input-3-9442f7b9110c>\u001b[0m in \u001b[0;36m<module>\u001b[1;34m\u001b[0m\n\u001b[0;32m      1\u001b[0m \u001b[0mlist\u001b[0m\u001b[1;33m(\u001b[0m\u001b[0mrandom\u001b[0m\u001b[1;33m.\u001b[0m\u001b[0mchoice\u001b[0m\u001b[1;33m(\u001b[0m\u001b[0mrange\u001b[0m\u001b[1;33m(\u001b[0m\u001b[1;36m10\u001b[0m\u001b[1;33m)\u001b[0m\u001b[1;33m)\u001b[0m \u001b[1;32mfor\u001b[0m \u001b[0mi\u001b[0m \u001b[1;32min\u001b[0m \u001b[0mrange\u001b[0m\u001b[1;33m(\u001b[0m\u001b[1;36m10\u001b[0m\u001b[1;33m)\u001b[0m\u001b[1;33m)\u001b[0m\u001b[1;33m\u001b[0m\u001b[1;33m\u001b[0m\u001b[0m\n\u001b[1;32m----> 2\u001b[1;33m \u001b[0mplt\u001b[0m\u001b[1;33m.\u001b[0m\u001b[0mhist\u001b[0m\u001b[1;33m(\u001b[0m\u001b[1;33m)\u001b[0m\u001b[1;33m\u001b[0m\u001b[1;33m\u001b[0m\u001b[0m\n\u001b[0m",
      "\u001b[1;31mNameError\u001b[0m: name 'plt' is not defined"
     ]
    }
   ],
   "source": [
    "list(random.choice(range(10)) for i in range(10))\n",
    "plt.hist()"
   ]
  },
  {
   "cell_type": "code",
   "execution_count": 4,
   "metadata": {},
   "outputs": [
    {
     "data": {
      "text/plain": [
       "(array([16677., 16793., 16721., 16757., 16596., 16456.]),\n",
       " array([0.5, 1.5, 2.5, 3.5, 4.5, 5.5, 6.5]),\n",
       " <BarContainer object of 6 artists>)"
      ]
     },
     "execution_count": 4,
     "metadata": {},
     "output_type": "execute_result"
    },
    {
     "data": {
      "image/png": "[encoded data removed]",
      "text/plain": [
       "<Figure size 432x288 with 1 Axes>"
      ]
     },
     "metadata": {
      "needs_background": "light"
     },
     "output_type": "display_data"
    }
   ],
   "source": [
    "\n",
    "import matplotlib.pyplot as plt\n",
    "import numpy as np\n",
    "rolls = [random.choice(range(1, 7)) for i in range(100000)];\n",
    "plt.hist(rolls, bins= np.linspace(0.5, 6.5, 7))"
   ]
  },
  {
   "cell_type": "code",
   "execution_count": 50,
   "metadata": {},
   "outputs": [
    {
     "data": {
      "text/plain": [
       "32"
      ]
     },
     "execution_count": 50,
     "metadata": {},
     "output_type": "execute_result"
    }
   ],
   "source": [
    "# Roll 10 dies and sum them up\n",
    "all_rolls = 0\n",
    "for i in range(10):\n",
    "    roll_val = random.choice([1, 2, 3, 4, 5, 6])\n",
    "    all_rolls += roll_val\n",
    "all_rolls"
   ]
  },
  {
   "cell_type": "code",
   "execution_count": 66,
   "metadata": {},
   "outputs": [
    {
     "name": "stdout",
     "output_type": "stream",
     "text": [
      "57\n"
     ]
    },
    {
     "data": {
      "text/plain": [
       "(array([3.15000e+02, 4.99700e+03, 5.26220e+04, 1.47393e+05, 2.58850e+05,\n",
       "        3.31363e+05, 1.46748e+05, 5.25050e+04, 4.88700e+03, 3.20000e+02]),\n",
       " array([13. , 17.4, 21.8, 26.2, 30.6, 35. , 39.4, 43.8, 48.2, 52.6, 57. ]),\n",
       " <BarContainer object of 10 artists>)"
      ]
     },
     "execution_count": 66,
     "metadata": {},
     "output_type": "execute_result"
    },
    {
     "data": {
      "image/png": "[encoded data removed]",
      "text/plain": [
       "<Figure size 432x288 with 1 Axes>"
      ]
     },
     "metadata": {
      "needs_background": "light"
     },
     "output_type": "display_data"
    }
   ],
   "source": [
    "all_rolls = [sum([random.choice(range(1, 7)) for i in range(10)]) for num in range(1000000)]\n",
    "print(max(all_rolls))\n",
    "plt.hist(all_rolls)"
   ]
  },
  {
   "cell_type": "code",
   "execution_count": 28,
   "metadata": {},
   "outputs": [
    {
     "data": {
      "image/png": "[encoded data removed]",
      "text/plain": [
       "<Figure size 432x288 with 1 Axes>"
      ]
     },
     "metadata": {
      "needs_background": "light"
     },
     "output_type": "display_data"
    }
   ],
   "source": [
    "# Using therandom module from numpy\n",
    "#Numpy code is faster and cleaner than standard python\n",
    "# np.ramdom.random generates random numbers between 0 and 1\n",
    "np.random.random()\n",
    "np.random.random(5)\n",
    "np.random.random((5,6))\n",
    "\n",
    "np.random.normal(1, 2, 7) # generates 7 samples with mean of 1 and S.D of 2\n",
    "\n",
    "# np.random.randint(start, end, (array shape)) creates random integerss beetween start and stop index\n",
    "X = np.random.randint(1, 7, (1000000, 10))\n",
    "Y = np.sum(X, axis=1)\n",
    "plt.hist(Y);\n",
    "\n"
   ]
  },
  {
   "cell_type": "code",
   "execution_count": 1,
   "metadata": {},
   "outputs": [
    {
     "name": "stdout",
     "output_type": "stream",
     "text": [
      "0:00:15.629799\n"
     ]
    },
    {
     "data": {
      "text/plain": [
       "(array([3.18000e+02, 5.00500e+03, 5.29460e+04, 1.46619e+05, 3.31199e+05,\n",
       "        2.58692e+05, 1.66112e+05, 3.38050e+04, 5.17400e+03, 1.30000e+02]),\n",
       " array([13. , 17.5, 22. , 26.5, 31. , 35.5, 40. , 44.5, 49. , 53.5, 58. ]),\n",
       " <BarContainer object of 10 artists>)"
      ]
     },
     "execution_count": 1,
     "metadata": {},
     "output_type": "execute_result"
    },
    {
     "data": {
      "image/png": "[encoded data removed]",
      "text/plain": [
       "<Figure size 432x288 with 1 Axes>"
      ]
     },
     "metadata": {
      "needs_background": "light"
     },
     "output_type": "display_data"
    }
   ],
   "source": [
    "# Naive way\n",
    "import datetime\n",
    "import random\n",
    "import numpy as np\n",
    "import matplotlib.pyplot as plt\n",
    "\n",
    "start = datetime.datetime.now()\n",
    "arr = np.array([sum([random.choice([1, 2, 3, 4, 5, 6]) for i in range(10)]) for i in range(1000000)])\n",
    "end = datetime.datetime.now()\n",
    "print(end -  start)\n",
    "plt.hist(arr)\n",
    "\n"
   ]
  },
  {
   "cell_type": "code",
   "execution_count": 5,
   "metadata": {},
   "outputs": [
    {
     "name": "stdout",
     "output_type": "stream",
     "text": [
      "0:00:00.375964\n"
     ]
    },
    {
     "data": {
      "text/plain": [
       "(array([1.44000e+02, 5.07300e+03, 3.36960e+04, 1.65662e+05, 2.59407e+05,\n",
       "        3.31297e+05, 1.65359e+05, 3.40170e+04, 5.22400e+03, 1.21000e+02]),\n",
       " array([12. , 16.6, 21.2, 25.8, 30.4, 35. , 39.6, 44.2, 48.8, 53.4, 58. ]),\n",
       " <BarContainer object of 10 artists>)"
      ]
     },
     "execution_count": 5,
     "metadata": {},
     "output_type": "execute_result"
    },
    {
     "data": {
      "image/png": "[encoded data removed]",
      "text/plain": [
       "<Figure size 432x288 with 1 Axes>"
      ]
     },
     "metadata": {
      "needs_background": "light"
     },
     "output_type": "display_data"
    }
   ],
   "source": [
    "\n",
    "start = datetime.datetime.now()\n",
    "\n",
    "arr = np.random.randint(1, 7, (1000000, 10))\n",
    "Y = np.sum(arr, axis=1)\n",
    "end = datetime.datetime.now()\n",
    "\n",
    "print(end -  start)\n",
    "plt.hist(Y)\n"
   ]
  },
  {
   "cell_type": "code",
   "execution_count": 23,
   "metadata": {},
   "outputs": [
    {
     "data": {
      "text/plain": [
       "[<matplotlib.lines.Line2D at 0x1fe30bcb040>]"
      ]
     },
     "execution_count": 23,
     "metadata": {},
     "output_type": "execute_result"
    },
    {
     "data": {
      "image/png": "[encoded data removed]",
      "text/plain": [
       "<Figure size 432x288 with 1 Axes>"
      ]
     },
     "metadata": {
      "needs_background": "light"
     },
     "output_type": "display_data"
    }
   ],
   "source": [
    "X = np.random.normal(0, 1, (2, 500))\n",
    "Y = np.concatenate((np.cumsum(X, axis=1), np.array([[0], [0]])), axis=1)\n",
    "plt.plot(Y[0], Y[1], 'bo-')"
   ]
  },
  {
   "cell_type": "code",
   "execution_count": 8,
   "metadata": {},
   "outputs": [
    {
     "data": {
      "text/plain": [
       "array([[ 0.4203675 ,  1.85223069, -0.35797561, -0.91884422,  0.14804924],\n",
       "       [ 0.35169383, -0.19570947,  0.31099035,  0.29688013, -2.06559407]])"
      ]
     },
     "execution_count": 8,
     "metadata": {},
     "output_type": "execute_result"
    }
   ],
   "source": [
    "np.concatenate()"
   ]
  },
  {
   "cell_type": "code",
   "execution_count": 6,
   "metadata": {},
   "outputs": [
    {
     "data": {
      "text/plain": [
       "'GGTCAGAAAAAGCCCTCTCCATGTCTACTCACGATACATCCCTGAAAACCACTGAGGAAGTGGCTTTTCAGATCATCTTGCTTTGCCAGTTTGGGGTTGGGACTTTTGCCAATGTATTTCTCTTTGTCTATAATTTCTCTCCAATCTCGACTGGTTCTAAACAGAGGCCCAGACAAGTGATTTTAAGACACATGGCTGTGGCCAATGCCTTAACTCTCTTCCTCACTATATTTCCAAACAACATGATGACTTTTGCTCCAATTATTCCTCAAACTGACCTCAAATGTAAATTAGAATTCTTCACTCGCCTCGTGGCAAGAAGCACAAACTTGTGTTCAACTTGTGTTCTGAGTATCCATCAGTTTGTCACACTTGTTCCTGTTAATTCAGGTAAAGGAATACTCAGAGCAAGTGTCACAAACATGGCAAGTTATTCTTGTTACAGTTGTTGGTTCTTCAGTGTCTTAAATAACATCTACATTCCAATTAAGGTCACTGGTCCACAGTTAACAGACAATAACAATAACTCTAAAAGCAAGTTGTTCTGTTCCACTTCTGATTTCAGTGTAGGCATTGTCTTCTTGAGGTTTGCCCATGATGCCACATTCATGAGCATCATGGTCTGGACCAGTGTCTCCATGGTACTTCTCCTCCATAGACATTGTCAGAGAATGCAGTACATATTCACTCTCAATCAGGACCCCAGGGGCCAAGCAGAGACCACAGCAACCCATACTATCCTGATGCTGGTAGTCACATTTGTTGGCTTTTATCTTCTAAGTCTTATTTGTATCATCTTTTACACCTATTTTATATATTCTCATCATTCCCTGAGGCATTGCAATGACATTTTGGTTTCGGGTTTCCCTACAATTTCTCCTTTACTGTTGACCTTCAGAGACCCTAAGGGTCCTTGTTCTGTGTTCTTCAACTGTTGAAAGCCAGAGTCACTAAAAATGCCAAACACAGAAGACAGCTTTGCTAATACCATTAAATACTTTATTCCATAAATATGTTTTTAAAAGCTTGTATGAACAAGGTATGGTGCTCACTGCTATACTTATAAAAGAGTAAGGTTATAATCACTTGTTGATATGAAAAGATTTCTGGTTGGAATCTGATTGAAACAGTGAGTTATTCACCACCCTCCATTCTCT'"
      ]
     },
     "execution_count": 6,
     "metadata": {},
     "output_type": "execute_result"
    }
   ],
   "source": [
    "file = open('dna.txt', mode='r')\n",
    "seq = file.read()\n",
    "seq = seq.replace('\\n', '')\n",
    "seq = seq.replace('\\r', '')\n",
    "seq"
   ]
  },
  {
   "cell_type": "code",
   "execution_count": 12,
   "metadata": {},
   "outputs": [
    {
     "data": {
      "text/plain": [
       "'MSTHDTSLKTTEEVAFQIILLCQFGVGTFANVFLFVYNFSPISTGSKQRPRQVILRHMAVANALTLFLTIFPNNMMTFAPIIPQTDLKCKLEFFTRLVARSTNLCSTCVLSIHQFVTLVPVNSGKGILRASVTNMASYSCYSCWFFSVLNNIYIPIKVTGPQLTDNNNNSKSKLFCSTSDFSVGIVFLRFAHDATFMSIMVWTSVSMVLLLHRHCQRMQYIFTLNQDPRGQAETTATHTILMLVVTFVGFYLLSLICIIFYTYFIYSHHSLRHCNDILVSGFPTISPLLLTFRDPKGPCSVFFNC'"
      ]
     },
     "execution_count": 12,
     "metadata": {},
     "output_type": "execute_result"
    }
   ],
   "source": [
    "def DNA_look_up(dna):\n",
    "    dna = dna[20:938]\n",
    "    from DNA.dna import table\n",
    "    protein = ''\n",
    "    # Loop through dna three characters at a time\n",
    "    for i in range(0, len(dna), 3):\n",
    "        codon = table[dna[i:i+3]]\n",
    "        protein += codon\n",
    "    \n",
    "    return protein[:-1]\n",
    "DNA_look_up(seq)"
   ]
  },
  {
   "cell_type": "code",
   "execution_count": 15,
   "metadata": {},
   "outputs": [
    {
     "data": {
      "text/plain": [
       "'MSTHDTSLKTTEEVAFQIILLCQFGVGTFANVFLFVYNFSPISTGSKQRPRQVILRHMAVANALTLFLTIFPNNMMTFAPIIPQTDLKCKLEFFTRLVARSTNLCSTCVLSIHQFVTLVPVNSGKGILRASVTNMASYSCYSCWFFSVLNNIYIPIKVTGPQLTDNNNNSKSKLFCSTSDFSVGIVFLRFAHDATFMSIMVWTSVSMVLLLHRHCQRMQYIFTLNQDPRGQAETTATHTILMLVVTFVGFYLLSLICIIFYTYFIYSHHSLRHCNDILVSGFPTISPLLLTFRDPKGPCSVFFNC'"
      ]
     },
     "execution_count": 15,
     "metadata": {},
     "output_type": "execute_result"
    }
   ],
   "source": [
    "def file_reader(address):\n",
    "    with open(address, mode='r') as file:\n",
    "        file = file.read()\n",
    "        file = file.replace('\\n', '').replace('\\r', '')\n",
    "    return file\n",
    "dna = file_reader('dna.txt')\n",
    "DNA_look_up(dna)"
   ]
  },
  {
   "cell_type": "code",
   "execution_count": 10,
   "metadata": {},
   "outputs": [
    {
     "data": {
      "text/plain": [
       "8"
      ]
     },
     "execution_count": 10,
     "metadata": {},
     "output_type": "execute_result"
    }
   ],
   "source": [
    "138 % 13"
   ]
  },
  {
   "cell_type": "code",
   "execution_count": 1,
   "metadata": {},
   "outputs": [],
   "source": [
    "import sqlite3 as sql\n",
    "stds = sql.connect('students.db')\n",
    "table = stds.cursor()"
   ]
  },
  {
   "cell_type": "code",
   "execution_count": 5,
   "metadata": {},
   "outputs": [],
   "source": [
    "# table.execute('''\n",
    "#               CREATE TABLE students (\n",
    "#                   mat_no INTEGER PRIMARY KEY,\n",
    "#                   name TEXT NOT NULL,\n",
    "#                   class TEXT NOT NULL\n",
    "#               )\n",
    "#               ''')\n",
    "table.execute('''\n",
    "                INSERT INTO students \n",
    "                (mat_no, name, class)\n",
    "                VALUES(\n",
    "                    2012, 'Samuel Atuma', 'JSS3'\n",
    "                )\n",
    "              ''')\n",
    "stds.commit()"
   ]
  },
  {
   "cell_type": "code",
   "execution_count": 9,
   "metadata": {},
   "outputs": [
    {
     "data": {
      "text/plain": [
       "[(2012, 'Samuel Atuma', 'JSS3')]"
      ]
     },
     "execution_count": 9,
     "metadata": {},
     "output_type": "execute_result"
    }
   ],
   "source": [
    "table.execute(''' \n",
    "              SELECT * FROM students\n",
    "              ''').fetchall()"
   ]
  },
  {
   "cell_type": "code",
   "execution_count": 2,
   "metadata": {},
   "outputs": [
    {
     "data": {
      "text/plain": [
       "<sqlite3.Cursor at 0x1cd3c512490>"
      ]
     },
     "execution_count": 2,
     "metadata": {},
     "output_type": "execute_result"
    }
   ],
   "source": [
    "import sqlite3 as sql\n",
    "con = sql.connect('students.db')\n",
    "db = con.cursor()\n",
    "\n",
    "db.execute('''\n",
    "           CREATE TABLE pupils (\n",
    "               id INTEGER PRIMARY KEY,\n",
    "               name TEXT NOT NULL,\n",
    "               class TEXT DEFAULT 'JSS1'\n",
    "           )\n",
    "           ''')"
   ]
  },
  {
   "cell_type": "code",
   "execution_count": 3,
   "metadata": {},
   "outputs": [],
   "source": [
    "db.execute('''\n",
    "           INSERT INTO pupils (name) VALUES ('Samuel Atuma');\n",
    "           ''')\n",
    "con.commit()"
   ]
  },
  {
   "cell_type": "code",
   "execution_count": 18,
   "metadata": {},
   "outputs": [
    {
     "data": {
      "text/plain": [
       "[(1, 'Samuel Atuma', 'JSS1'),\n",
       " (2, 'Johnson Okoye', 'JSS1'),\n",
       " (3, 'Johnson Okoye', 'JSS1'),\n",
       " (4, 'Johnson Okoye', 'JSS1'),\n",
       " (5, 'El Rufai', 'JSS1'),\n",
       " (6, 'El Rufai', 'JSS2')]"
      ]
     },
     "execution_count": 18,
     "metadata": {},
     "output_type": "execute_result"
    }
   ],
   "source": [
    "db.execute('''\n",
    "           INSERT INTO pupils (name, class) VALUES ('Jesysa Rufai', 'SS3');\n",
    "           ''')\n",
    "db.execute('''\n",
    "             UPDATE pupils \n",
    "                SET name = 'Johnson Okoye' WHERE \n",
    "                name = 'John Okafor'\n",
    "           ''')\n",
    "con.commit()\n",
    "db.execute(''' \n",
    "            SELECT * FROM pupils WHERE class LIKE '%JSS%';\n",
    "           ''').fetchall()"
   ]
  },
  {
   "cell_type": "code",
   "execution_count": 31,
   "metadata": {},
   "outputs": [
    {
     "data": {
      "text/plain": [
       "[(2, 'Johnson Okoye', 'JSS1'),\n",
       " (3, 'Johnson Okoye', 'JSS1'),\n",
       " (4, 'Johnson Okoye', 'JSS1'),\n",
       " (5, 'El Rufai', 'JSS1'),\n",
       " (6, 'El Rufai', 'JSS2')]"
      ]
     },
     "execution_count": 31,
     "metadata": {},
     "output_type": "execute_result"
    }
   ],
   "source": [
    "db.execute('''\n",
    "            DELETE FROM pupils WHERE class='JSS1' AND name='Samuel Atuma';\n",
    "           ''')\n",
    "db.execute('''\n",
    "            SELECT  * FROM pupils WHERE class  IN ('JSS1', 'JSS2');\n",
    "           ''').fetchall()\n"
   ]
  },
  {
   "cell_type": "code",
   "execution_count": 33,
   "metadata": {},
   "outputs": [
    {
     "data": {
      "text/plain": [
       "<sqlite3.Cursor at 0x1cd3c5ca960>"
      ]
     },
     "execution_count": 33,
     "metadata": {},
     "output_type": "execute_result"
    }
   ],
   "source": [
    "import sqlite3 as sql\n",
    "postgres = sql.connect('flights.db')\n",
    "cursor = postgres.cursor()\n",
    "\n",
    "\n",
    "cursor.execute('''\n",
    "               CREATE TABLE flights (\n",
    "                   id INTEGER PRIMARY KEY,\n",
    "                   origin VARCHAR NOT NULL,\n",
    "                   destination VARCHAR NOT NULL,\n",
    "                   duration INTEGER NOT NULL\n",
    "               )\n",
    "               ''')"
   ]
  },
  {
   "cell_type": "code",
   "execution_count": 37,
   "metadata": {},
   "outputs": [],
   "source": [
    "cursor.execute('''\n",
    "               INSERT INTO flights (origin, destination, duration) \n",
    "               VALUES ('Port Harcourt', 'Abuja', 60)\n",
    "               ''')\n",
    "postgres.commit()"
   ]
  },
  {
   "cell_type": "code",
   "execution_count": 41,
   "metadata": {},
   "outputs": [
    {
     "data": {
      "text/plain": [
       "[(1, 'Lagos', 'Calabar', 60), (4, 'Port Harcourt', 'Abuja', 60)]"
      ]
     },
     "execution_count": 41,
     "metadata": {},
     "output_type": "execute_result"
    }
   ],
   "source": [
    "cursor.execute('''\n",
    "               SELECT * FROM flights ORDER BY duration DESC LIMIT 2;\n",
    "               ''').fetchall()"
   ]
  },
  {
   "cell_type": "code",
   "execution_count": 51,
   "metadata": {},
   "outputs": [
    {
     "data": {
      "text/plain": [
       "[('Port Harcourt', 3), ('Lagos', 1)]"
      ]
     },
     "execution_count": 51,
     "metadata": {},
     "output_type": "execute_result"
    }
   ],
   "source": [
    "cursor.execute('''\n",
    "               SELECT origin, COUNT(*) FROM flights GROUP BY origin HAVING COUNT(*) > 0;\n",
    "               ''').fetchall()"
   ]
  },
  {
   "cell_type": "code",
   "execution_count": 53,
   "metadata": {},
   "outputs": [
    {
     "data": {
      "text/plain": [
       "<sqlite3.Cursor at 0x1cd3c5ca960>"
      ]
     },
     "execution_count": 53,
     "metadata": {},
     "output_type": "execute_result"
    }
   ],
   "source": [
    "cursor.execute('''\n",
    "               CREATE TABLE passengers (\n",
    "                   id INTEGER PRIMARY KEY,\n",
    "                   name VARCHAR NOT NULL,\n",
    "                   flight_id INTEGER REFERENCES flights\n",
    "               )\n",
    "               ''')"
   ]
  },
  {
   "cell_type": "code",
   "execution_count": 59,
   "metadata": {},
   "outputs": [],
   "source": [
    "cursor.execute('''\n",
    "               INSERT INTO passengers (name, flight_id)\n",
    "               VALUES ('Peter', 1)\n",
    "               ''')\n",
    "postgres.commit()"
   ]
  },
  {
   "cell_type": "code",
   "execution_count": 61,
   "metadata": {},
   "outputs": [
    {
     "data": {
      "text/plain": [
       "[(1, 'Chioma', 2),\n",
       " (2, 'Jeremy', 1),\n",
       " (3, 'Samuel', 1),\n",
       " (4, 'John', 3),\n",
       " (5, 'John', 4),\n",
       " (6, 'Peter', 1)]"
      ]
     },
     "execution_count": 61,
     "metadata": {},
     "output_type": "execute_result"
    }
   ],
   "source": [
    "cursor.execute('''\n",
    "                SELECT * FROM passengers\n",
    "               ''').fetchall()"
   ]
  },
  {
   "cell_type": "code",
   "execution_count": 65,
   "metadata": {},
   "outputs": [
    {
     "data": {
      "text/plain": [
       "[('Chioma', 30),\n",
       " ('Jeremy', 60),\n",
       " ('Samuel', 60),\n",
       " ('John', 45),\n",
       " ('John', 60),\n",
       " ('Peter', 60)]"
      ]
     },
     "execution_count": 65,
     "metadata": {},
     "output_type": "execute_result"
    }
   ],
   "source": [
    "cursor.execute('''\n",
    "                SELECT name, duration FROM passengers JOIN flights ON passengers.flight_id = flights.id;\n",
    "               ''').fetchall()"
   ]
  },
  {
   "cell_type": "code",
   "execution_count": 72,
   "metadata": {},
   "outputs": [
    {
     "data": {
      "text/plain": [
       "[('Port Harcourt', 3), ('Lagos', 1)]"
      ]
     },
     "execution_count": 72,
     "metadata": {},
     "output_type": "execute_result"
    }
   ],
   "source": [
    "cursor.execute('''\n",
    "                SELECT origin, COUNT(*) FROM flights GROUP BY origin HAVING COUNT(*) > 0 ORDER BY COUNT(*) DESC LIMIT 2;\n",
    "               ''').fetchall()"
   ]
  },
  {
   "cell_type": "code",
   "execution_count": 81,
   "metadata": {},
   "outputs": [
    {
     "ename": "OperationalError",
     "evalue": "RIGHT and FULL OUTER JOINs are not currently supported",
     "output_type": "error",
     "traceback": [
      "\u001b[1;31m---------------------------------------------------------------------------\u001b[0m",
      "\u001b[1;31mOperationalError\u001b[0m                          Traceback (most recent call last)",
      "\u001b[1;32m<ipython-input-81-86b632de0dd5>\u001b[0m in \u001b[0;36m<module>\u001b[1;34m\u001b[0m\n\u001b[0;32m      1\u001b[0m \u001b[0mcall\u001b[0m \u001b[1;33m=\u001b[0m \u001b[0mcursor\u001b[0m\u001b[1;33m.\u001b[0m\u001b[0mexecute\u001b[0m\u001b[1;33m\u001b[0m\u001b[1;33m\u001b[0m\u001b[0m\n\u001b[1;32m----> 2\u001b[1;33m call('''\n\u001b[0m\u001b[0;32m      3\u001b[0m         \u001b[0mselect\u001b[0m \u001b[0mname\u001b[0m\u001b[1;33m,\u001b[0m \u001b[0morigin\u001b[0m\u001b[1;33m,\u001b[0m \u001b[0mdestination\u001b[0m \u001b[0mFROM\u001b[0m \u001b[0mpassengers\u001b[0m \u001b[0mRIGHT\u001b[0m \u001b[0mJOIN\u001b[0m \u001b[0mflights\u001b[0m \u001b[0mON\u001b[0m \u001b[0mpassengers\u001b[0m\u001b[1;33m.\u001b[0m\u001b[0mflight_id\u001b[0m \u001b[1;33m=\u001b[0m \u001b[0mflights\u001b[0m\u001b[1;33m.\u001b[0m\u001b[0mid\u001b[0m\u001b[1;33m;\u001b[0m\u001b[1;33m\u001b[0m\u001b[1;33m\u001b[0m\u001b[0m\n\u001b[0;32m      4\u001b[0m      ''').fetchall()\n",
      "\u001b[1;31mOperationalError\u001b[0m: RIGHT and FULL OUTER JOINs are not currently supported"
     ]
    }
   ],
   "source": [
    "call = cursor.execute\n",
    "call('''\n",
    "        select name, origin, destination FROM passengers LEFT JOIN flights ON passengers.flight_id = flights.id;\n",
    "     ''').fetchall()"
   ]
  },
  {
   "cell_type": "code",
   "execution_count": 82,
   "metadata": {},
   "outputs": [
    {
     "data": {
      "text/plain": [
       "[('Jeremy', 'Lagos', 'Calabar'),\n",
       " ('Peter', 'Lagos', 'Calabar'),\n",
       " ('Samuel', 'Lagos', 'Calabar'),\n",
       " ('Chioma', 'Port Harcourt', 'Calabar'),\n",
       " ('John', 'Port Harcourt', 'Lagos'),\n",
       " ('John', 'Port Harcourt', 'Abuja')]"
      ]
     },
     "execution_count": 82,
     "metadata": {},
     "output_type": "execute_result"
    }
   ],
   "source": [
    "call('''\n",
    "        select name, origin, destination FROM flights LEFT JOIN passengers ON passengers.flight_id = flights.id;\n",
    "     ''').fetchall()"
   ]
  },
  {
   "cell_type": "code",
   "execution_count": 90,
   "metadata": {},
   "outputs": [
    {
     "data": {
      "text/plain": [
       "[(1, 'Lagos', 'Calabar', 60)]"
      ]
     },
     "execution_count": 90,
     "metadata": {},
     "output_type": "execute_result"
    }
   ],
   "source": [
    "#Nesting queries in SQL\n",
    "call(\n",
    "    '''\n",
    "        SELECT * FROM flights WHERE id IN\n",
    "    (SELECT flight_id FROM passengers GROUP BY flight_id HAVING COUNT(*) > 1)\n",
    "    '''\n",
    ").fetchall()"
   ]
  },
  {
   "cell_type": "code",
   "execution_count": 92,
   "metadata": {},
   "outputs": [
    {
     "data": {
      "text/plain": [
       "[(4, 'John', 3), (5, 'John', 4)]"
      ]
     },
     "execution_count": 92,
     "metadata": {},
     "output_type": "execute_result"
    }
   ],
   "source": [
    "# Nesting queries in SQL\n",
    "call(\n",
    "    '''\n",
    "        SELECT * FROM passengers WHERE name IN\n",
    "    (SELECT name FROM passengers WHERE flight_id > 2)\n",
    "    '''\n",
    ").fetchall()"
   ]
  },
  {
   "cell_type": "code",
   "execution_count": 97,
   "metadata": {},
   "outputs": [
    {
     "data": {
      "text/plain": [
       "[(1, 'Chioma', 2),\n",
       " (2, 'Jeremy', 1),\n",
       " (3, 'Samuel', 1),\n",
       " (4, 'John', 3),\n",
       " (5, 'John', 4),\n",
       " (6, 'Peter', 1)]"
      ]
     },
     "execution_count": 97,
     "metadata": {},
     "output_type": "execute_result"
    }
   ],
   "source": [
    "call(\n",
    "    '''\n",
    "        SELECT * FROM passengers WHERE (name ='John') AND flight_id = 1 OR 1= 1\n",
    "    '''\n",
    ").fetchall()"
   ]
  },
  {
   "cell_type": "code",
   "execution_count": 1,
   "metadata": {},
   "outputs": [],
   "source": [
    "import sqlalchemy\n"
   ]
  },
  {
   "cell_type": "code",
   "execution_count": 2,
   "metadata": {},
   "outputs": [],
   "source": [
    "import numpy as np\n",
    "import scipy.stats as ss\n",
    "import matplotlib.pyplot as plt\n",
    "\n"
   ]
  },
  {
   "cell_type": "code",
   "execution_count": 49,
   "metadata": {},
   "outputs": [
    {
     "name": "stdout",
     "output_type": "stream",
     "text": [
      "4.8587792760014565 14.80142786070299\n"
     ]
    },
    {
     "data": {
      "image/png": "[encoded data removed]",
      "text/plain": [
       "<Figure size 432x288 with 1 Axes>"
      ]
     },
     "metadata": {
      "needs_background": "light"
     },
     "output_type": "display_data"
    }
   ],
   "source": [
    "n = 100\n",
    "c = 5\n",
    "m = 2\n",
    "\n",
    "np.random.seed(1)\n",
    "\n",
    "x = 10 * ss.uniform.rvs(size=n)\n",
    "y = c + m  * x + ss.norm.rvs(size=n, loc=0, scale=1)\n",
    "# y = c + m  * x + np.random.normal(0, 1, n)\n",
    "\n",
    "plt.figure()\n",
    "plt.plot(x, y, 'bo', ms=5)\n",
    "\n",
    "xx = np.array([0, 10])\n",
    "yy = c + m * xx\n",
    "plt.plot(xx, yy)\n",
    "plt.xlabel('x-axis')\n",
    "plt.ylabel('y-axis')\n",
    "print(np.mean(x), np.mean(y))\n"
   ]
  },
  {
   "cell_type": "code",
   "execution_count": 47,
   "metadata": {},
   "outputs": [
    {
     "data": {
      "text/plain": [
       "numpy.ndarray"
      ]
     },
     "execution_count": 47,
     "metadata": {},
     "output_type": "execute_result"
    }
   ],
   "source": [
    "type(ss.norm.rvs(loc=0, size=10))\n"
   ]
  },
  {
   "cell_type": "markdown",
   "metadata": {},
   "source": [
    "# Numpy\n",
    "### Numpy is a python module used for scientific and stattistical computations\n",
    "#### Numpy provides us with an array that has a fixed size and ccontains only the same data type, the default data type being float numbers\n"
   ]
  },
  {
   "cell_type": "markdown",
   "metadata": {},
   "source": []
  },
  {
   "cell_type": "code",
   "execution_count": 10,
   "metadata": {},
   "outputs": [
    {
     "name": "stdout",
     "output_type": "stream",
     "text": [
      "(2, 2)\n",
      "[[1 2]\n",
      " [2 4]\n",
      " [3 6]]\n"
     ]
    }
   ],
   "source": [
    "# Creating np arrays with only zeros\n",
    "# One dimensional np array\n",
    "import numpy as np\n",
    "np.zeros(5)\n",
    "\n",
    "# Two dimensional np arrays of (3 rows and 5 cols)\n",
    "np.zeros([3, 5])\n",
    "\n",
    "#We can construct np.ones array using a similar fashion\n",
    "\n",
    "# Creating a 1-dimensional numpy array (vector)\n",
    "one_d = np.array([2, 3, 4, 5, 6, 7])\n",
    "\n",
    "#Creating a 2-dimentsional numpy array (Matrix)\n",
    "two_d = np.array(([1, 2], [2, 4]))\n",
    "print(two_d.shape)\n",
    "\n",
    "#You can transpose a matrix using the transpose method\n",
    "matrix = np.array([[1,2,3], [2,4,6]])\n",
    "print(matrix.transpose())\n"
   ]
  },
  {
   "cell_type": "code",
   "execution_count": 69,
   "metadata": {},
   "outputs": [
    {
     "data": {
      "text/plain": [
       "array([10, 13])"
      ]
     },
     "execution_count": 69,
     "metadata": {},
     "output_type": "execute_result"
    }
   ],
   "source": [
    "#Slicing and Element Wise addition of Numpy arrays\n",
    "\n",
    "# Slicing one dimensional arrays\n",
    "vector = np.array([0, 1, 2, 3, 4, 5])\n",
    "vector[2] # Returns element at index position 2\n",
    "vector[0: 2] # Returns elements at index at index 0 and 1. Just as a normaal python list does\n",
    "\n",
    "#Slicing two dimensional arrays\n",
    "matrix = np.array(([1, 3, 5, 7, 9], [2, 4, 6, 8, 10], [11, 13, 15, 17, 19]))\n",
    "\n",
    "\n",
    "row = 1 # The row you want to return\n",
    "matrix[row]\n",
    "col = 2 # The data from the row you want to return\n",
    "matrix[row, col]\n",
    "\n",
    "# Slicing\n",
    "start_row = 0\n",
    "end_row = len(matrix) - 1\n",
    "matrix[start_row:end_row]\n",
    "\n",
    "start_col = 1\n",
    "end_col = 4\n",
    "\n",
    "matrix[start_row:end_row,  start_col:end_col]\n",
    "\n",
    "# Numpy does an element wise addition\n",
    "np.array([1, 2, 3]) + np.array([2, 4, 6])\n",
    "\n",
    "# You can also add the same item to all elements in a numpy array\n",
    "np.array([[1, 2, 3, 4], [2, 4, 6, 8]]) + 18\n",
    "\n",
    "# You can also index a numpy array using a list or another np array\n",
    "nums = np.array([0.0, 1.0, 2.0, 3.0, 4.0, 5.0, 6.0, 7.0, 8.0, 9.0])\n",
    "nums[[0, 1, 2]] # Returns items at the corresponding index\n",
    "#OR\n",
    "ind = [0, 1, 2]\n",
    "nums[ind]\n",
    "\n",
    "nums[np.array([1, 3, 5])]\n",
    "\n",
    "#Array logic\n",
    "#We can convert a numpy array to a boolean array using any comparison operator\n",
    "greater_than_7 = np.array([2, 4, 5, 8, 10]) > 7\n",
    "# If we use the booleaan array on another array. It will only return values where the array is True\n",
    "nums = np.array([1, 3, 6, 10, 13])[greater_than_7]\n",
    "nums\n",
    "#Note that slicing an array returns a version of the original array and modifying it modifies the original\n",
    "# But modifying an indexed numpy array won't yield the same result"
   ]
  },
  {
   "cell_type": "code",
   "execution_count": 73,
   "metadata": {},
   "outputs": [
    {
     "name": "stdout",
     "output_type": "stream",
     "text": [
      "False\n",
      "True\n",
      "[0.58139299 0.67056104 0.59364586 0.57808906 0.87474678 0.78957068\n",
      " 0.74616453 0.25709633 0.62087206 0.41405477]\n"
     ]
    }
   ],
   "source": [
    "# Generating Data with numpy\n",
    "\n",
    "# To generate (z) evenly-spaced numbers between x and y\n",
    "x = 11\n",
    "y = 110\n",
    "z = 10\n",
    "np.linspace(x, y, z)\n",
    "\n",
    "# To generate (z) evenly-spaced log values between log(x) and log(y)\n",
    "np.logspace(np.log10(x), np.log10(y), z)\n",
    "\n",
    "# To generate (z) randomly spaced numbers between 0 and 1\n",
    "np.random.random(z)\n",
    "\n",
    "# Verify if any or all numbers meet a criteria\n",
    "nums = np.random.random(z)\n",
    "print(np.any(nums > 0.9))\n",
    "print(np.all(nums > 0.1))\n",
    "print(nums)"
   ]
  },
  {
   "cell_type": "markdown",
   "metadata": {},
   "source": [
    "\n",
    "# Matplotlib \n",
    "## Matplotlib is a python library for publishing production quality figures\n",
    "## A module in matplotlib called pyplot works like mathlab and is mostly used for visualizing data\n",
    "## We'll be mostly using numpy to store the data "
   ]
  },
  {
   "cell_type": "code",
   "execution_count": 5,
   "metadata": {},
   "outputs": [
    {
     "data": {
      "text/plain": [
       "[<matplotlib.lines.Line2D at 0x21cffcaf7c0>]"
      ]
     },
     "execution_count": 5,
     "metadata": {},
     "output_type": "execute_result"
    },
    {
     "data": {
      "image/png": "[encoded data removed]",
      "text/plain": [
       "<Figure size 432x288 with 1 Axes>"
      ]
     },
     "metadata": {
      "needs_background": "light"
     },
     "output_type": "display_data"
    }
   ],
   "source": [
    "# If only one argument is presented, it is taken as the y axis and it is plotted w.r.t its corresponding index in the x-axis\n",
    "import matplotlib.pyplot as plt\n",
    "y = np.logspace(np.log10(1), np.log10(100), 20)\n",
    "plt.plot(y)"
   ]
  },
  {
   "cell_type": "code",
   "execution_count": 4,
   "metadata": {},
   "outputs": [
    {
     "data": {
      "image/png": "[encoded data removed]",
      "text/plain": [
       "<Figure size 432x288 with 1 Axes>"
      ]
     },
     "metadata": {
      "needs_background": "light"
     },
     "output_type": "display_data"
    }
   ],
   "source": [
    "import matplotlib.pyplot as plt\n",
    "import numpy as np\n",
    "\n",
    "x = np.linspace(0, 10, 20)\n",
    "\n",
    "y = x ** 2\n",
    "plt.plot(x, y, 'bs-', markersize=8, linewidth=2);"
   ]
  },
  {
   "cell_type": "code",
   "execution_count": 26,
   "metadata": {},
   "outputs": [
    {
     "data": {
      "image/png": "[encoded data removed]",
      "text/plain": [
       "<Figure size 432x288 with 1 Axes>"
      ]
     },
     "metadata": {
      "needs_background": "light"
     },
     "output_type": "display_data"
    }
   ],
   "source": [
    "x = np.linspace(0, 10, 10)\n",
    "y1 = x ** 1.5\n",
    "y2 = x ** 2.0\n",
    "\n",
    "plt.xlabel(\"X\")\n",
    "plt.axis([-1.5, 10.5, -0.5, 121])\n",
    "plt.ylabel(\"Y\")\n",
    "plt.plot(x, y1, \"bo-\", label=\"y1\")\n",
    "plt.plot(x, y2, \"gd-\", label=\"y2\")\n",
    "plt.legend()\n",
    "plt.savefig(\"plotxy1y2.png\")"
   ]
  },
  {
   "cell_type": "markdown",
   "metadata": {},
   "source": [
    "## Plotting log graphs with pyplot\n",
    "## Log graphs can make a parabolic graph look linear because the remove the index \n",
    "## e.g a = b ** c -> log (a) = c * log(b)\n"
   ]
  },
  {
   "cell_type": "code",
   "execution_count": 27,
   "metadata": {},
   "outputs": [
    {
     "data": {
      "text/plain": [
       "[<matplotlib.lines.Line2D at 0x21c86581c10>]"
      ]
     },
     "execution_count": 27,
     "metadata": {},
     "output_type": "execute_result"
    },
    {
     "data": {
      "image/png": "[encoded data removed]",
      "text/plain": [
       "<Figure size 432x288 with 1 Axes>"
      ]
     },
     "metadata": {
      "needs_background": "light"
     },
     "output_type": "display_data"
    }
   ],
   "source": [
    "x = np.linspace(0, 10, 10)\n",
    "y = x ** 4\n",
    "# In place of plot, use one of semilogx, semilogy, loglog\n",
    "plt.loglog(x, y)"
   ]
  },
  {
   "cell_type": "markdown",
   "metadata": {},
   "source": [
    "# Plotting Histograms with Pyplot\n",
    "## Histogram is a plot showing data on the x-axis and the number of occurence of the corresponding data on the y-axis"
   ]
  },
  {
   "cell_type": "code",
   "execution_count": 31,
   "metadata": {},
   "outputs": [
    {
     "data": {
      "image/png": "[encoded data removed]",
      "text/plain": [
       "<Figure size 432x288 with 1 Axes>"
      ]
     },
     "metadata": {
      "needs_background": "light"
     },
     "output_type": "display_data"
    }
   ],
   "source": [
    "import matplotlib.pyplot as plt\n",
    "import numpy as np\n",
    "x = np.random.normal(size=1000)\n",
    "# Density changes the y-axos from no of occurence(frequency) to relative occurence to others(probability). Formerly called using normed\n",
    "plt.hist(x, density=True, bins=np.linspace(-5, 5, 21));\n"
   ]
  },
  {
   "cell_type": "code",
   "execution_count": 32,
   "metadata": {},
   "outputs": [
    {
     "data": {
      "text/plain": [
       "(array([0.06807, 0.2049 , 0.35654, 0.49712, 0.61815, 0.71465, 0.78838,\n",
       "        0.84545, 0.88728, 0.92007, 0.9434 , 0.96061, 0.97235, 0.98104,\n",
       "        0.98678, 0.99057, 0.99352, 0.99556, 0.99677, 0.99774, 0.99832,\n",
       "        0.99887, 0.9992 , 0.99946, 0.99972, 0.99984, 0.99988, 0.99994,\n",
       "        0.99997, 1.     ]),\n",
       " array([1.16979595e-02, 1.26687467e+00, 2.52205137e+00, 3.77722808e+00,\n",
       "        5.03240479e+00, 6.28758149e+00, 7.54275820e+00, 8.79793491e+00,\n",
       "        1.00531116e+01, 1.13082883e+01, 1.25634650e+01, 1.38186417e+01,\n",
       "        1.50738184e+01, 1.63289951e+01, 1.75841719e+01, 1.88393486e+01,\n",
       "        2.00945253e+01, 2.13497020e+01, 2.26048787e+01, 2.38600554e+01,\n",
       "        2.51152321e+01, 2.63704088e+01, 2.76255855e+01, 2.88807622e+01,\n",
       "        3.01359389e+01, 3.13911156e+01, 3.26462923e+01, 3.39014690e+01,\n",
       "        3.51566457e+01, 3.64118224e+01, 3.76669992e+01]),\n",
       " <BarContainer object of 30 artists>)"
      ]
     },
     "execution_count": 32,
     "metadata": {},
     "output_type": "execute_result"
    },
    {
     "data": {
      "image/png": "[encoded data removed]",
      "text/plain": [
       "<Figure size 432x288 with 1 Axes>"
      ]
     },
     "metadata": {
      "needs_background": "light"
     },
     "output_type": "display_data"
    }
   ],
   "source": [
    "x = np.random.gamma(2, 3, 100000)\n",
    "plt.hist(x, bins=30, density=True, cumulative=True)"
   ]
  },
  {
   "cell_type": "code",
   "execution_count": 33,
   "metadata": {},
   "outputs": [
    {
     "data": {
      "image/png": "[encoded data removed]",
      "text/plain": [
       "<Figure size 432x288 with 2 Axes>"
      ]
     },
     "metadata": {
      "needs_background": "light"
     },
     "output_type": "display_data"
    }
   ],
   "source": [
    "plt.figure()\n",
    "\n",
    "\n",
    "\n",
    "from_num = 2\n",
    "to = 3\n",
    "size = 100000\n",
    "x = np.random.gamma(from_num, to, size)\n",
    "\n",
    "plt.subplot(121)\n",
    "plt.hist(x);\n",
    "\n",
    "plt.subplot(122)\n",
    "plt.hist(x, density=True);"
   ]
  },
  {
   "cell_type": "markdown",
   "metadata": {},
   "source": [
    "# SIMULATING RANDOMNESS\n",
    "## Randomness occurss a lot in nature and in modelling to model what we can and attribute what we can't model to randomness(noise)"
   ]
  },
  {
   "cell_type": "code",
   "execution_count": 44,
   "metadata": {},
   "outputs": [
    {
     "data": {
      "text/plain": [
       "'T'"
      ]
     },
     "execution_count": 44,
     "metadata": {},
     "output_type": "execute_result"
    }
   ],
   "source": [
    "import random\n",
    "random.choice([\"H\", \"T\"])"
   ]
  },
  {
   "cell_type": "code",
   "execution_count": 45,
   "metadata": {},
   "outputs": [
    {
     "data": {
      "text/plain": [
       "1"
      ]
     },
     "execution_count": 45,
     "metadata": {},
     "output_type": "execute_result"
    }
   ],
   "source": [
    "# Simulatng randomness of a coin flip\n",
    "# Random.choice takes any sequence object, and \n",
    "random.choice([0, 1])"
   ]
  },
  {
   "cell_type": "code",
   "execution_count": 54,
   "metadata": {},
   "outputs": [
    {
     "data": {
      "text/plain": [
       "3"
      ]
     },
     "execution_count": 54,
     "metadata": {},
     "output_type": "execute_result"
    }
   ],
   "source": [
    "# Simulating randomness of a die\n",
    "random.choice([1, 2, 3, 4, 5, 6])\n",
    "random.choice(range(1, 7))"
   ]
  },
  {
   "cell_type": "code",
   "execution_count": 60,
   "metadata": {},
   "outputs": [
    {
     "data": {
      "text/plain": [
       "'a'"
      ]
     },
     "execution_count": 60,
     "metadata": {},
     "output_type": "execute_result"
    }
   ],
   "source": [
    "random.choice('sam')"
   ]
  },
  {
   "cell_type": "code",
   "execution_count": 67,
   "metadata": {},
   "outputs": [
    {
     "data": {
      "text/plain": [
       "7"
      ]
     },
     "execution_count": 67,
     "metadata": {},
     "output_type": "execute_result"
    }
   ],
   "source": [
    "# Say we want to simulate a random choice when one of three dies with faces 6, 7 and 8 is picked an thrown at random\n",
    "# First think abput cchoosing the die\n",
    "die = random.choice([range(1, 7), range(1, 8), range(1, 9)])\n",
    "# Next, think about rolling the die that was rolled at random\n",
    "random.choice(die)"
   ]
  },
  {
   "cell_type": "code",
   "execution_count": 74,
   "metadata": {},
   "outputs": [
    {
     "data": {
      "text/plain": [
       "42"
      ]
     },
     "execution_count": 74,
     "metadata": {},
     "output_type": "execute_result"
    }
   ],
   "source": [
    "# Sum random numbbers from 1 to 10 ten times\n",
    "\n",
    "# create the sequence to be summed\n",
    "values = [random.choice(range(1, 11)) for i in range(10)]\n",
    "\n",
    "# Sum the values using the built in sum function\n",
    "sum(values)"
   ]
  },
  {
   "cell_type": "markdown",
   "metadata": {},
   "source": [
    "## Examples that involve randomness\n",
    "* Rolling a die 100,000 times and plotting the distribution (histogram plot) of the result\n",
    "* Rolling a die ten times, summing the results, and plotting the distribution for the results"
   ]
  },
  {
   "cell_type": "code",
   "execution_count": 3,
   "metadata": {},
   "outputs": [
    {
     "data": {
      "image/png": "[encoded data removed]",
      "text/plain": [
       "<Figure size 432x288 with 1 Axes>"
      ]
     },
     "metadata": {
      "needs_background": "light"
     },
     "output_type": "display_data"
    }
   ],
   "source": [
    "# Rolling a die 100,000 times and plotting the distribution (histogram plot) of the result\n",
    "import matplotlib.pyplot as plt\n",
    "import numpy as np\n",
    "import random\n",
    "\n",
    "no_of_rolls = 1000000\n",
    "rolls = []\n",
    "for times in range(no_of_rolls):\n",
    "    roll = random.choice([1, 2, 3, 4, 5, 6])\n",
    "    rolls.append(roll)\n",
    "\n",
    "# Alternativvely\n",
    "rolls = [random.choice([1, 2, 3, 4, 5, 6]) for times in range(no_of_rolls)]\n",
    "\n",
    "# Plot from the rolls\n",
    "plt.hist(rolls, bins=np.linspace(0.5, 6.5, 7));\n"
   ]
  },
  {
   "cell_type": "code",
   "execution_count": 11,
   "metadata": {},
   "outputs": [],
   "source": [
    "# The law of large numbers state that for a uniformly distributed probability,  with a large number of trials, the probability of each oneoccuring flattens out"
   ]
  },
  {
   "cell_type": "code",
   "execution_count": 11,
   "metadata": {},
   "outputs": [
    {
     "data": {
      "image/png": "[encoded data removed]",
      "text/plain": [
       "<Figure size 432x288 with 1 Axes>"
      ]
     },
     "metadata": {
      "needs_background": "light"
     },
     "output_type": "display_data"
    }
   ],
   "source": [
    "# Rolling a die ten times, summing the results, and plotting the distribution for the results\n",
    "\n",
    "sum_total_rolls = []\n",
    "\n",
    "for i in range(20):\n",
    "    sum_rolls = 0\n",
    "    for i in range(10):\n",
    "        roll = random.choice([1, 2, 3, 4, 5, 6])\n",
    "        sum_rolls += roll\n",
    "    sum_total_rolls.append(sum_rolls)\n",
    "\n",
    "# Alternatively\n",
    "sum_total_rolls =[sum([random.choice([1, 2, 3, 4, 5, 6]) for i in range(10)]) for j in range(100000)]\n",
    "\n",
    "#Plot the distribution of the result\n",
    "plt.hist(sum_total_rolls, bins=np.linspace(9.5, 60.5, 12), density=True);"
   ]
  },
  {
   "cell_type": "markdown",
   "metadata": {},
   "source": [
    "* The central limit theorem states that the sum of a large number pf variables regardless of their distribution will approximately follow a normal distribution\n"
   ]
  },
  {
   "cell_type": "markdown",
   "metadata": {},
   "source": [
    "## Expplore how to use the numpy.random module to simulate randomness"
   ]
  },
  {
   "cell_type": "markdown",
   "metadata": {},
   "source": [
    "## We use the np.random module over the standard random module for the following reasons\n",
    "* np.random is way faster than the standard random module\n",
    "* np.random has a varriety of ways to generate random numbers e.g np.random.randint, np.random.normal, np.random.random"
   ]
  },
  {
   "cell_type": "code",
   "execution_count": 18,
   "metadata": {},
   "outputs": [
    {
     "data": {
      "text/plain": [
       "array([[0.06857022, 0.91935123],\n",
       "       [0.40590217, 0.4035545 ],\n",
       "       [0.61828014, 0.40644406],\n",
       "       [0.24487667, 0.21975865],\n",
       "       [0.5916022 , 0.12058538]])"
      ]
     },
     "execution_count": 18,
     "metadata": {},
     "output_type": "execute_result"
    }
   ],
   "source": [
    "# Generating random numbers using np\n",
    "import numpy as np\n",
    "\n",
    "np.random.random()\n",
    "np.random.random(10) # 1d array\n",
    "np.random.random((5, 2)) #2d 5rows, 2cols\n"
   ]
  },
  {
   "cell_type": "code",
   "execution_count": 31,
   "metadata": {},
   "outputs": [
    {
     "data": {
      "text/plain": [
       "array([ 0.5655725 , -0.73173256, -0.05817421,  1.95335754,  0.07314799])"
      ]
     },
     "execution_count": 31,
     "metadata": {},
     "output_type": "execute_result"
    }
   ],
   "source": [
    "# Generating random numbers from the standard normal distribution mean=0, standard_deviation=1\n",
    "mean = 0\n",
    "standard_dev = 1\n",
    "size = 5\n",
    "np.random.normal(mean, standard_dev, size)"
   ]
  },
  {
   "cell_type": "code",
   "execution_count": 34,
   "metadata": {},
   "outputs": [
    {
     "data": {
      "text/plain": [
       "array([3, 2, 5, 4, 2, 5, 4, 1, 3, 5])"
      ]
     },
     "execution_count": 34,
     "metadata": {},
     "output_type": "execute_result"
    }
   ],
   "source": [
    "# Generating random integers between a range\n",
    "start=1\n",
    "stop=7\n",
    "range=10\n",
    "np.random.randint(start, stop, range)"
   ]
  },
  {
   "cell_type": "code",
   "execution_count": 35,
   "metadata": {},
   "outputs": [
    {
     "data": {
      "text/plain": [
       "array([[6, 6],\n",
       "       [6, 2],\n",
       "       [1, 1],\n",
       "       [5, 5],\n",
       "       [5, 3]])"
      ]
     },
     "execution_count": 35,
     "metadata": {},
     "output_type": "execute_result"
    }
   ],
   "source": [
    "# Generating 2_d random integers between a range\n",
    "start = 1\n",
    "stop = 7\n",
    "\n",
    "rows=5\n",
    "cols=2\n",
    "\n",
    "np.random.randint(start, stop, (rows, cols))"
   ]
  },
  {
   "cell_type": "code",
   "execution_count": 44,
   "metadata": {},
   "outputs": [
    {
     "data": {
      "image/png": "[encoded data removed]",
      "text/plain": [
       "<Figure size 432x288 with 1 Axes>"
      ]
     },
     "metadata": {
      "needs_background": "light"
     },
     "output_type": "display_data"
    }
   ],
   "source": [
    "# Rolling a die ten times, summing the results, and plotting the distribution for the results using np.random module\n",
    "\n",
    "\n",
    "start = 1\n",
    "stop = 7\n",
    "\n",
    "rows=1000000\n",
    "cols=10\n",
    "col_axis = 1\n",
    "\n",
    "X = np.random.randint(start, stop, (rows, cols))\n",
    "\n",
    "Y = np.sum(X, axis=col_axis)\n",
    "\n",
    "plt.hist(Y);\n"
   ]
  },
  {
   "cell_type": "markdown",
   "metadata": {},
   "source": [
    "##  Measuring time \n",
    "* We use the time module to measure time (How long a piece of code takes to run)"
   ]
  },
  {
   "cell_type": "code",
   "execution_count": 8,
   "metadata": {},
   "outputs": [],
   "source": [
    "import time\n",
    "start_time = time.time()\n",
    "end_time = time.time()\n",
    "end_time - start_time\n",
    "import numpy as np"
   ]
  },
  {
   "cell_type": "code",
   "execution_count": 18,
   "metadata": {},
   "outputs": [
    {
     "name": "stdout",
     "output_type": "stream",
     "text": [
      "1.5705504417419434\n"
     ]
    }
   ],
   "source": [
    "# Let's see hthe performance difference between simulating the die rolls using python and Numpy\n",
    "\n",
    "# Python approach\n",
    "rows = 100000\n",
    "cols = 10\n",
    "\n",
    "start_time = time.time()\n",
    "sum_total_rolls =[sum([random.choice([1, 2, 3, 4, 5, 6]) for i in range(cols)]) for j in range(rows)]\n",
    "end_time = time.time()\n",
    "python_performance = end_time-start_time\n",
    "print(python_performance)"
   ]
  },
  {
   "cell_type": "code",
   "execution_count": 19,
   "metadata": {},
   "outputs": [
    {
     "name": "stdout",
     "output_type": "stream",
     "text": [
      "0.027025461196899414\n"
     ]
    }
   ],
   "source": [
    "# Numpy approach\n",
    "\n",
    "start_time = time.time()\n",
    "np.random.randint(1, 7, (rows, cols))\n",
    "end_time = time.time()\n",
    "np_performance = end_time-start_time\n",
    "print(np_performance)\n"
   ]
  },
  {
   "cell_type": "code",
   "execution_count": 20,
   "metadata": {},
   "outputs": [
    {
     "name": "stdout",
     "output_type": "stream",
     "text": [
      "58.11373320512029\n"
     ]
    }
   ],
   "source": [
    "performance_difference = python_performance / np_performance\n",
    "print(performance_difference)"
   ]
  },
  {
   "cell_type": "code",
   "execution_count": 21,
   "metadata": {},
   "outputs": [],
   "source": [
    "# With this example, we see that python is very much faster"
   ]
  },
  {
   "cell_type": "markdown",
   "metadata": {},
   "source": [
    "## Learn how to generate random walks using python\n",
    " * Rndom walks can be used to model random movement of molecules. \n",
    " * They can also be used to model movement of people like the ones we see using GPS"
   ]
  },
  {
   "cell_type": "code",
   "execution_count": 29,
   "metadata": {},
   "outputs": [
    {
     "data": {
      "text/plain": [
       "array([[0.        , 0.85600331, 1.03549456, 1.23539946, 1.76830109,\n",
       "        2.1803099 ],\n",
       "       [0.        , 0.86608079, 1.62833323, 2.58023471, 3.33956978,\n",
       "        4.10442068]])"
      ]
     },
     "execution_count": 29,
     "metadata": {},
     "output_type": "execute_result"
    }
   ],
   "source": [
    "np.concatenate((np.array([[0], [0]]), np.cumsum(np.random.random((2, 5)), axis=1)), axis=1)"
   ]
  },
  {
   "cell_type": "code",
   "execution_count": 45,
   "metadata": {},
   "outputs": [
    {
     "data": {
      "image/png": "[encoded data removed]",
      "text/plain": [
       "<Figure size 432x288 with 1 Axes>"
      ]
     },
     "metadata": {
      "needs_background": "light"
     },
     "output_type": "display_data"
    }
   ],
   "source": [
    "import matplotlib.pyplot as plt\n",
    "\n",
    "# Create origin and delta_x steps\n",
    "origin = np.array([[0], [0]])\n",
    "delta_x = np.random.normal(0, 1,(2, 100))\n",
    "\n",
    "# Create cummulative(incremental) sum of steps \n",
    "cummulative_steps = np.cumsum(delta_x, axis=1)\n",
    "\n",
    "# Add origin to incremental number of steps\n",
    "origin_and_cumm_steps = np.concatenate((origin, cummulative_steps), axis=1)\n",
    "\n",
    "plt.plot(origin_and_cumm_steps[0], origin_and_cumm_steps[1], \"bo-\");"
   ]
  },
  {
   "cell_type": "code",
   "execution_count": 25,
   "metadata": {},
   "outputs": [],
   "source": [
    "import numpy\n",
    "import numpy as np\n",
    "import matplotlib.pyplot as plt\n"
   ]
  },
  {
   "cell_type": "code",
   "execution_count": 31,
   "metadata": {},
   "outputs": [
    {
     "data": {
      "text/plain": [
       "[<matplotlib.lines.Line2D at 0x280d52aec70>]"
      ]
     },
     "execution_count": 31,
     "metadata": {},
     "output_type": "execute_result"
    },
    {
     "data": {
      "image/png": "[encoded data removed]",
      "text/plain": [
       "<Figure size 432x288 with 1 Axes>"
      ]
     },
     "metadata": {
      "needs_background": "light"
     },
     "output_type": "display_data"
    }
   ],
   "source": [
    "# Revisiting random walks\n",
    "origin = np.array([[0], [0]])\n",
    "random_steps = np.random.normal(0, 1, (2, 50))\n",
    "cumm_steps = np.cumsum(random_steps, axis=1)\n",
    "random_walks = np.concatenate((origin, cumm_steps), axis=1)\n",
    "plt.plot(random_walks[0], random_walks[1], \"bo-\")\n"
   ]
  },
  {
   "cell_type": "code",
   "execution_count": 23,
   "metadata": {},
   "outputs": [
    {
     "data": {
      "text/plain": [
       "numpy.ndarray"
      ]
     },
     "execution_count": 23,
     "metadata": {},
     "output_type": "execute_result"
    }
   ],
   "source": []
  },
  {
   "cell_type": "markdown",
   "metadata": {},
   "source": [
    "# WEEK 3\n",
    "## In week 3, we'll be looking at three application points in using python for research which includes\n",
    "* DNA Translation\n",
    "* Language processing\n",
    "* Classification problems"
   ]
  },
  {
   "cell_type": "markdown",
   "metadata": {},
   "source": [
    "# DNA Translation"
   ]
  },
  {
   "cell_type": "markdown",
   "metadata": {},
   "source": [
    "### You can think of DNA as the dictionary of life. \n",
    "* Each DNA Consists of a sequence of characters, with each character called  nucleotide. The nucleotides can either be ACG or T \n",
    "* Each 3 sequence of characters (nucleotides) corresponds to an amino acid\n",
    "* A sequence of amino acids results in a protein molecule\n",
    "* Protein molecules serves as structural support, chemical catalysts etc for each cell"
   ]
  },
  {
   "cell_type": "markdown",
   "metadata": {},
   "source": [
    "## In this case studey, we'll\n",
    "* download a copy of a DNA strand.\n",
    "* Translate the DNA sequence into amino acids\n",
    "* Download the amino acid to check our solution\n",
    "#### so, given \n",
    "* ATA CAA TGG CAA -> I Q W Q\n"
   ]
  },
  {
   "cell_type": "markdown",
   "metadata": {},
   "source": [
    "## Manually download the  dna from NCBI -> All dtatabase -> Neucleotide, search -> NM_207618.2 \n",
    "## -> Go to the top of the page, click FASTA, and copy the resulting DNA sequence\n",
    "\n",
    "## To download the amino acid sequence, go back to the NM_20... page, and look for CDS.\n",
    "* Click on CDS and copy the resulting Amino acid result"
   ]
  },
  {
   "cell_type": "code",
   "execution_count": 41,
   "metadata": {},
   "outputs": [
    {
     "data": {
      "text/plain": [
       "'GGTCAGAAAAAGCCCTCTCCATGTCTACTCACGATACATCCCTGAAAACCACTGAGGAAGTGGCTTTTCAGATCATCTTGCTTTGCCAGTTTGGGGTTGGGACTTTTGCCAATGTATTTCTCTTTGTCTATAATTTCTCTCCAATCTCGACTGGTTCTAAACAGAGGCCCAGACAAGTGATTTTAAGACACATGGCTGTGGCCAATGCCTTAACTCTCTTCCTCACTATATTTCCAAACAACATGATGACTTTTGCTCCAATTATTCCTCAAACTGACCTCAAATGTAAATTAGAATTCTTCACTCGCCTCGTGGCAAGAAGCACAAACTTGTGTTCAACTTGTGTTCTGAGTATCCATCAGTTTGTCACACTTGTTCCTGTTAATTCAGGTAAAGGAATACTCAGAGCAAGTGTCACAAACATGGCAAGTTATTCTTGTTACAGTTGTTGGTTCTTCAGTGTCTTAAATAACATCTACATTCCAATTAAGGTCACTGGTCCACAGTTAACAGACAATAACAATAACTCTAAAAGCAAGTTGTTCTGTTCCACTTCTGATTTCAGTGTAGGCATTGTCTTCTTGAGGTTTGCCCATGATGCCACATTCATGAGCATCATGGTCTGGACCAGTGTCTCCATGGTACTTCTCCTCCATAGACATTGTCAGAGAATGCAGTACATATTCACTCTCAATCAGGACCCCAGGGGCCAAGCAGAGACCACAGCAACCCATACTATCCTGATGCTGGTAGTCACATTTGTTGGCTTTTATCTTCTAAGTCTTATTTGTATCATCTTTTACACCTATTTTATATATTCTCATCATTCCCTGAGGCATTGCAATGACATTTTGGTTTCGGGTTTCCCTACAATTTCTCCTTTACTGTTGACCTTCAGAGACCCTAAGGGTCCTTGTTCTGTGTTCTTCAACTGTTGAAAGCCAGAGTCACTAAAAATGCCAAACACAGAAGACAGCTTTGCTAATACCATTAAATACTTTATTCCATAAATATGTTTTTAAAAGCTTGTATGAACAAGGTATGGTGCTCACTGCTATACTTATAAAAGAGTAAGGTTATAATCACTTGTTGATATGAAAAGATTTCTGGTTGGAATCTGATTGAAACAGTGAGTTATTCACCACCCTCCATTCTCT'"
      ]
     },
     "execution_count": 41,
     "metadata": {},
     "output_type": "execute_result"
    }
   ],
   "source": [
    "# Downloading, reading and cleaning the dna sequence\n",
    "\n",
    "filename = \"dna.txt\"\n",
    "\n",
    "with open(filename, mode='r') as file:\n",
    "    # Remove unwantedd characters\n",
    "    seq = file.read().replace('\\n', '').replace('\\r', '')\n",
    "    \n",
    "seq"
   ]
  },
  {
   "cell_type": "markdown",
   "metadata": {},
   "source": []
  },
  {
   "cell_type": "code",
   "execution_count": null,
   "metadata": {},
   "outputs": [],
   "source": [
    "# Translating the DNA Sequence\n"
   ]
  },
  {
   "cell_type": "code",
   "execution_count": 4,
   "metadata": {},
   "outputs": [
    {
     "name": "stdout",
     "output_type": "stream",
     "text": [
      "[0, 0]\n"
     ]
    }
   ],
   "source": [
    "arr1 = [\n",
    "    [\n",
    "        [2, 3],\n",
    "        [7, 2]\n",
    "        ],\n",
    "    [\n",
    "        [3, 5],\n",
    "        [0, 7]\n",
    "    ]\n",
    "]\n",
    "matrix_sum = []\n",
    "for idx in range(len(arr1[0])):\n",
    "    row_vals = [0 for i in arr1[0][idx]]\n",
    "\n",
    "print(row_vals)\n",
    "            \n",
    "    \n",
    "    \n",
    "    "
   ]
  },
  {
   "cell_type": "code",
   "execution_count": 125,
   "metadata": {},
   "outputs": [
    {
     "data": {
      "text/plain": [
       "[[-2, -1], [2, 4]]"
      ]
     },
     "execution_count": 125,
     "metadata": {},
     "output_type": "execute_result"
    }
   ],
   "source": [
    "arr1 = [\n",
    "    (\n",
    "        [3, 1, -4],\n",
    "        [4, 3, 1],\n",
    "        [1, 4, -3]\n",
    "    ),\n",
    "    \n",
    "    (\n",
    "        [2, 7, -5],\n",
    "        [-2, 1, 0],\n",
    "        [6, 3, 4]\n",
    "    ),\n",
    "    \n",
    "    (\n",
    "        [4, -7, 5],\n",
    "        [2, 0, 9],\n",
    "        [3, 8, 1]\n",
    "    )\n",
    "]\n",
    "def sum_matrix(arr1: list) -> list:\n",
    "    matrix_sum = []\n",
    "    try:\n",
    "        for idx in range(len(arr1[0])):\n",
    "            row_vals = [0 for i in arr1[0][idx]]\n",
    "            \n",
    "            for matrix in arr1:\n",
    "                matrix_row = matrix[idx]\n",
    "                for i in range(len(matrix_row)):\n",
    "                    row_vals[i] += matrix_row[i]\n",
    "            matrix_sum.append(row_vals)\n",
    "            \n",
    "        return matrix_sum\n",
    "    except IndexError:\n",
    "        return []\n",
    "    except:\n",
    "        raise Exception(\"An error occured\")\n",
    "sum_matrix(arr1)\n",
    "\n",
    "\n",
    "def make_negative(matrix: list) -> list:\n",
    "    negated_matrix = []\n",
    "    for row in matrix:\n",
    "        negate_row = []\n",
    "        for num in row:\n",
    "            negated = -1 * num\n",
    "            negate_row.append(negated)\n",
    "        negated_matrix.append(negate_row)\n",
    "    return negated_matrix\n",
    "\n",
    "def subtract_matrix(matrix1: list, matrix2: list) -> list:\n",
    "    negate_matrix = make_negative(matrix2)\n",
    "    new_matrix =[ matrix1, negate_matrix]\n",
    "    \n",
    "    return sum_matrix(new_matrix)\n",
    "\n",
    "subtract_matrix([[2, 3], [4, 5]], [[1, 2], [3, 4]])\n",
    "\n",
    "A = [\n",
    "    [-3, 0],\n",
    "    [7, -4],\n",
    "]\n",
    "B = [\n",
    "    [2, -1],\n",
    "    [-7, 4]\n",
    "]\n",
    "C = [\n",
    "    [1, 0],\n",
    "    [-2, -4]\n",
    "]\n",
    "\n",
    "subtract_matrix(sum_matrix([A, B]), C)\n"
   ]
  },
  {
   "cell_type": "markdown",
   "metadata": {},
   "source": [
    "# Pandas\n",
    "* Pandas is the primary library for data visualization\n",
    "* Pandas allow us work with data using table like data structures which are  Panda Series and Pandas Dataframe\n"
   ]
  },
  {
   "cell_type": "markdown",
   "metadata": {},
   "source": [
    "## Panda series\n",
    "* Pandas Series Allow us to build a one dimensional data structure using a dictionary like approach where data is the value and index is the key\n",
    "* N/B index will always become row data whether it is Pandas series or pandas DataFrame"
   ]
  },
  {
   "cell_type": "code",
   "execution_count": 18,
   "metadata": {},
   "outputs": [],
   "source": [
    "import pandas as pd"
   ]
  },
  {
   "cell_type": "code",
   "execution_count": 117,
   "metadata": {},
   "outputs": [
    {
     "data": {
      "text/plain": [
       "Ubong    2790\n",
       "Ben      2697\n",
       "dtype: int64"
      ]
     },
     "execution_count": 117,
     "metadata": {},
     "output_type": "execute_result"
    }
   ],
   "source": [
    "\n",
    "# Pandas series are very similar to dictionaries \n",
    "\n",
    "# Creating a Panda Series\n",
    "# Assume we are creating a student/ result table with stdent Name as key and result as the data\n",
    "row_names = [\"Esther\", \"Ubong\", \"Ben\", \"Peter\", \"Raymond\"]\n",
    "student_results = pd.Series(\n",
    "    data = [100, 90, 87, 91, 63 ],\n",
    "    index = row_names\n",
    ")\n",
    "\n",
    "# You can write not as key word arguments and it will still be fine\n",
    "pd.Series(\n",
    "    [100, 90, 87, 91, 63 ], # Data\n",
    "    row_names # Indexes\n",
    ")\n",
    "\n",
    "\n",
    "#Accessing all indices\n",
    "\n",
    "student_results.index\n",
    "# Returns an iterable object\n",
    "for student in student_results.index:\n",
    "    # print(student)\n",
    "    pass\n",
    "\n",
    "\n",
    "# Accessing one index at a time (row data)\n",
    "student_results[\"Esther\"]\n",
    "# same as using loc. loc means data at LOCATION Index\n",
    "student_results.loc['Ubong']\n",
    "\n",
    "\n",
    "# Accessing more than one student_result (more than one row)\n",
    "student_results.loc[[\"Esther\", \"Ubong\"]]\n",
    "\n",
    "\n",
    "# Accessing using iloc\n",
    "    # iloc means accessing the data using their index Location instead of their key(index)\n",
    "student_results[1]\n",
    "# same aas \n",
    "student_results.iloc[1]\n",
    "\n",
    "\n",
    "# Check if index in series\n",
    "'Esther' in student_results\n",
    "\n",
    "\n",
    "# Mathematical operations with series\n",
    "    # very Analagous to mathematical operations with Numpy. Mostly done on the data not the index\n",
    "student_results ** 3\n",
    "\n",
    "\n",
    "# Carrying out operations on aa subset of data\n",
    "student_results.iloc[[1, 2]] * 31"
   ]
  },
  {
   "cell_type": "code",
   "execution_count": 132,
   "metadata": {},
   "outputs": [
    {
     "data": {
      "text/html": [
       "<div>\n",
       "<style scoped>\n",
       "    .dataframe tbody tr th:only-of-type {\n",
       "        vertical-align: middle;\n",
       "    }\n",
       "\n",
       "    .dataframe tbody tr th {\n",
       "        vertical-align: top;\n",
       "    }\n",
       "\n",
       "    .dataframe thead th {\n",
       "        text-align: right;\n",
       "    }\n",
       "</style>\n",
       "<table border=\"1\" class=\"dataframe\">\n",
       "  <thead>\n",
       "    <tr style=\"text-align: right;\">\n",
       "      <th></th>\n",
       "      <th>first_col</th>\n",
       "      <th>second_col</th>\n",
       "    </tr>\n",
       "  </thead>\n",
       "  <tbody>\n",
       "    <tr>\n",
       "      <th>John</th>\n",
       "      <td>97.0</td>\n",
       "      <td>86.0</td>\n",
       "    </tr>\n",
       "    <tr>\n",
       "      <th>Peter</th>\n",
       "      <td>98.0</td>\n",
       "      <td>93.0</td>\n",
       "    </tr>\n",
       "    <tr>\n",
       "      <th>Sam</th>\n",
       "      <td>NaN</td>\n",
       "      <td>91.0</td>\n",
       "    </tr>\n",
       "    <tr>\n",
       "      <th>Samuel</th>\n",
       "      <td>90.0</td>\n",
       "      <td>NaN</td>\n",
       "    </tr>\n",
       "  </tbody>\n",
       "</table>\n",
       "</div>"
      ],
      "text/plain": [
       "        first_col  second_col\n",
       "John         97.0        86.0\n",
       "Peter        98.0        93.0\n",
       "Sam           NaN        91.0\n",
       "Samuel       90.0         NaN"
      ]
     },
     "execution_count": 132,
     "metadata": {},
     "output_type": "execute_result"
    }
   ],
   "source": [
    "## DataFrames\n",
    "data_frame = pd.DataFrame({\n",
    "    'first_col': pd.Series(data=[97, 98, 90], index=[\"John\", \"Peter\", \"Samuel\"]),\n",
    "    'second_col': pd.Series(data=[86, 91, 93], index=[\"John\", \"Sam\", \"Peter\"])\n",
    "})\n",
    "data_frame"
   ]
  },
  {
   "cell_type": "code",
   "execution_count": 128,
   "metadata": {},
   "outputs": [
    {
     "data": {
      "text/plain": [
       "first_col     97.0\n",
       "second_col    86.0\n",
       "Name: John, dtype: float64"
      ]
     },
     "execution_count": 128,
     "metadata": {},
     "output_type": "execute_result"
    }
   ],
   "source": [
    "data_frame.index # More lIke data frame rows\n",
    "data_frame.columns # More like data frame columns\n",
    "data_frame.loc[\"John\"] # Returns data at row with index \"John\""
   ]
  },
  {
   "cell_type": "code",
   "execution_count": 60,
   "metadata": {},
   "outputs": [
    {
     "data": {
      "text/html": [
       "<div>\n",
       "<style scoped>\n",
       "    .dataframe tbody tr th:only-of-type {\n",
       "        vertical-align: middle;\n",
       "    }\n",
       "\n",
       "    .dataframe tbody tr th {\n",
       "        vertical-align: top;\n",
       "    }\n",
       "\n",
       "    .dataframe thead th {\n",
       "        text-align: right;\n",
       "    }\n",
       "</style>\n",
       "<table border=\"1\" class=\"dataframe\">\n",
       "  <thead>\n",
       "    <tr style=\"text-align: right;\">\n",
       "      <th></th>\n",
       "      <th>first_col</th>\n",
       "      <th>second_col</th>\n",
       "      <th>third_col</th>\n",
       "    </tr>\n",
       "  </thead>\n",
       "  <tbody>\n",
       "    <tr>\n",
       "      <th>John</th>\n",
       "      <td>97.0</td>\n",
       "      <td>86.0</td>\n",
       "      <td>NaN</td>\n",
       "    </tr>\n",
       "    <tr>\n",
       "      <th>Peter</th>\n",
       "      <td>98.0</td>\n",
       "      <td>93.0</td>\n",
       "      <td>NaN</td>\n",
       "    </tr>\n",
       "  </tbody>\n",
       "</table>\n",
       "</div>"
      ],
      "text/plain": [
       "       first_col  second_col  third_col\n",
       "John        97.0        86.0        NaN\n",
       "Peter       98.0        93.0        NaN"
      ]
     },
     "execution_count": 60,
     "metadata": {},
     "output_type": "execute_result"
    }
   ],
   "source": [
    "pd.DataFrame(data_frame, index=('John', \"Peter\"), columns=('first_col', 'second_col', \"third_col\"))"
   ]
  },
  {
   "cell_type": "code",
   "execution_count": 129,
   "metadata": {},
   "outputs": [
    {
     "data": {
      "text/html": [
       "<div>\n",
       "<style scoped>\n",
       "    .dataframe tbody tr th:only-of-type {\n",
       "        vertical-align: middle;\n",
       "    }\n",
       "\n",
       "    .dataframe tbody tr th {\n",
       "        vertical-align: top;\n",
       "    }\n",
       "\n",
       "    .dataframe thead th {\n",
       "        text-align: right;\n",
       "    }\n",
       "</style>\n",
       "<table border=\"1\" class=\"dataframe\">\n",
       "  <thead>\n",
       "    <tr style=\"text-align: right;\">\n",
       "      <th></th>\n",
       "      <th>name</th>\n",
       "      <th>age</th>\n",
       "      <th>height</th>\n",
       "    </tr>\n",
       "  </thead>\n",
       "  <tbody>\n",
       "    <tr>\n",
       "      <th>0</th>\n",
       "      <td>Samuel Atuma</td>\n",
       "      <td>23</td>\n",
       "      <td>1.76</td>\n",
       "    </tr>\n",
       "    <tr>\n",
       "      <th>1</th>\n",
       "      <td>Wilson Gregory</td>\n",
       "      <td>27</td>\n",
       "      <td>1.83</td>\n",
       "    </tr>\n",
       "  </tbody>\n",
       "</table>\n",
       "</div>"
      ],
      "text/plain": [
       "             name  age  height\n",
       "0    Samuel Atuma   23    1.76\n",
       "1  Wilson Gregory   27    1.83"
      ]
     },
     "execution_count": 129,
     "metadata": {},
     "output_type": "execute_result"
    }
   ],
   "source": [
    "List = [\n",
    "    {\n",
    "    \"name\": \"Samuel Atuma\",\n",
    "    \"age\": 23,\n",
    "    \"height\": 1.76\n",
    "},\n",
    "    {\n",
    "        \"name\": \"Wilson Gregory\",\n",
    "        \"age\": 27,\n",
    "        \"height\": 1.83\n",
    "    }\n",
    "]\n",
    "\n",
    "# Because you passed in a list, the list index will become the row index too\n",
    "pd.DataFrame(List)\n",
    "\n",
    "pd.DataFrame(List, index=[\"id_1\", \"id_2\"], columns=[\"name\", \"age\"])  "
   ]
  },
  {
   "cell_type": "code",
   "execution_count": 111,
   "metadata": {},
   "outputs": [],
   "source": [
    "data_frame = {\n",
    "    \"col_1\" : pd.Series(data = [10, 9, 8.5, 8, 7.6], index=[\"Sam\", \"Esther\", \"John\", \"Peter\", \"Semane\"]),\n",
    "    \"col_2\" : pd.Series(data=[8, 7.6, 9, 4], index=[\"Sam\", \"Esther\", \"John\", \"Peter\"])\n",
    "}\n",
    "\n",
    "user_scores = pd.DataFrame(data_frame)"
   ]
  },
  {
   "cell_type": "code",
   "execution_count": 112,
   "metadata": {},
   "outputs": [
    {
     "data": {
      "text/html": [
       "<div>\n",
       "<style scoped>\n",
       "    .dataframe tbody tr th:only-of-type {\n",
       "        vertical-align: middle;\n",
       "    }\n",
       "\n",
       "    .dataframe tbody tr th {\n",
       "        vertical-align: top;\n",
       "    }\n",
       "\n",
       "    .dataframe thead th {\n",
       "        text-align: right;\n",
       "    }\n",
       "</style>\n",
       "<table border=\"1\" class=\"dataframe\">\n",
       "  <thead>\n",
       "    <tr style=\"text-align: right;\">\n",
       "      <th></th>\n",
       "      <th>col_1</th>\n",
       "      <th>col_2</th>\n",
       "      <th>average_rating</th>\n",
       "      <th>score</th>\n",
       "    </tr>\n",
       "  </thead>\n",
       "  <tbody>\n",
       "    <tr>\n",
       "      <th>Esther</th>\n",
       "      <td>9.0</td>\n",
       "      <td>7.6</td>\n",
       "      <td>83.0</td>\n",
       "      <td>True</td>\n",
       "    </tr>\n",
       "    <tr>\n",
       "      <th>John</th>\n",
       "      <td>8.5</td>\n",
       "      <td>9.0</td>\n",
       "      <td>87.5</td>\n",
       "      <td>True</td>\n",
       "    </tr>\n",
       "    <tr>\n",
       "      <th>Peter</th>\n",
       "      <td>8.0</td>\n",
       "      <td>4.0</td>\n",
       "      <td>60.0</td>\n",
       "      <td>False</td>\n",
       "    </tr>\n",
       "    <tr>\n",
       "      <th>Sam</th>\n",
       "      <td>10.0</td>\n",
       "      <td>8.0</td>\n",
       "      <td>90.0</td>\n",
       "      <td>True</td>\n",
       "    </tr>\n",
       "    <tr>\n",
       "      <th>Semane</th>\n",
       "      <td>7.6</td>\n",
       "      <td>NaN</td>\n",
       "      <td>NaN</td>\n",
       "      <td>False</td>\n",
       "    </tr>\n",
       "  </tbody>\n",
       "</table>\n",
       "</div>"
      ],
      "text/plain": [
       "        col_1  col_2  average_rating  score\n",
       "Esther    9.0    7.6            83.0   True\n",
       "John      8.5    9.0            87.5   True\n",
       "Peter     8.0    4.0            60.0  False\n",
       "Sam      10.0    8.0            90.0   True\n",
       "Semane    7.6    NaN             NaN  False"
      ]
     },
     "execution_count": 112,
     "metadata": {},
     "output_type": "execute_result"
    }
   ],
   "source": [
    "user_scores[\"average_rating\"] = ((user_scores['col_1'] + user_scores[\"col_2\"]) / 2) * 10\n",
    "def give_rate(score):\n",
    "    try:\n",
    "        \n",
    "        if score > 79:\n",
    "            return \"Excellent\"\n",
    "        elif score < 80 and score > 69:\n",
    "            return \"very good\"\n",
    "        elif score < 69 and score > 59:\n",
    "            return 'good'\n",
    "        elif score <= 59 and score > 49:\n",
    "            return \"average\"\n",
    "        else:\n",
    "            return \"poor\"\n",
    "    except:\n",
    "        return \"Unevaluated\"\n",
    "user_scores[\"score\"] = user_scores[\"average_rating\"] > 60\n",
    "user_scores"
   ]
  },
  {
   "cell_type": "code",
   "execution_count": 113,
   "metadata": {},
   "outputs": [
    {
     "name": "stdout",
     "output_type": "stream",
     "text": [
      "False\n"
     ]
    },
    {
     "data": {
      "text/html": [
       "<div>\n",
       "<style scoped>\n",
       "    .dataframe tbody tr th:only-of-type {\n",
       "        vertical-align: middle;\n",
       "    }\n",
       "\n",
       "    .dataframe tbody tr th {\n",
       "        vertical-align: top;\n",
       "    }\n",
       "\n",
       "    .dataframe thead th {\n",
       "        text-align: right;\n",
       "    }\n",
       "</style>\n",
       "<table border=\"1\" class=\"dataframe\">\n",
       "  <thead>\n",
       "    <tr style=\"text-align: right;\">\n",
       "      <th></th>\n",
       "      <th>col_1</th>\n",
       "      <th>col_2</th>\n",
       "      <th>average_rating</th>\n",
       "      <th>score</th>\n",
       "    </tr>\n",
       "  </thead>\n",
       "  <tbody>\n",
       "    <tr>\n",
       "      <th>Esther</th>\n",
       "      <td>9.0</td>\n",
       "      <td>7.6</td>\n",
       "      <td>83.0</td>\n",
       "      <td>True</td>\n",
       "    </tr>\n",
       "    <tr>\n",
       "      <th>John</th>\n",
       "      <td>8.5</td>\n",
       "      <td>9.0</td>\n",
       "      <td>87.5</td>\n",
       "      <td>True</td>\n",
       "    </tr>\n",
       "    <tr>\n",
       "      <th>Peter</th>\n",
       "      <td>8.0</td>\n",
       "      <td>4.0</td>\n",
       "      <td>60.0</td>\n",
       "      <td>False</td>\n",
       "    </tr>\n",
       "    <tr>\n",
       "      <th>Sam</th>\n",
       "      <td>10.0</td>\n",
       "      <td>8.0</td>\n",
       "      <td>90.0</td>\n",
       "      <td>True</td>\n",
       "    </tr>\n",
       "    <tr>\n",
       "      <th>Semane</th>\n",
       "      <td>7.6</td>\n",
       "      <td>NaN</td>\n",
       "      <td>NaN</td>\n",
       "      <td>False</td>\n",
       "    </tr>\n",
       "  </tbody>\n",
       "</table>\n",
       "</div>"
      ],
      "text/plain": [
       "        col_1  col_2  average_rating  score\n",
       "Esther    9.0    7.6            83.0   True\n",
       "John      8.5    9.0            87.5   True\n",
       "Peter     8.0    4.0            60.0  False\n",
       "Sam      10.0    8.0            90.0   True\n",
       "Semane    7.6    NaN             NaN  False"
      ]
     },
     "execution_count": 113,
     "metadata": {},
     "output_type": "execute_result"
    }
   ],
   "source": [
    "val = \"user\" in user_scores and user_scores.pop(\"score\")\n",
    "print(val)\n",
    "user_scores\n"
   ]
  },
  {
   "cell_type": "code",
   "execution_count": 114,
   "metadata": {},
   "outputs": [],
   "source": [
    "# Insert\n",
    "# Inserting up to a fixed index \n",
    "user_scores.insert(0, 'inserted_at_col_0', user_scores[\"col_1\"][: 3])"
   ]
  },
  {
   "cell_type": "code",
   "execution_count": 17,
   "metadata": {},
   "outputs": [
    {
     "data": {
      "text/html": [
       "<div>\n",
       "<style scoped>\n",
       "    .dataframe tbody tr th:only-of-type {\n",
       "        vertical-align: middle;\n",
       "    }\n",
       "\n",
       "    .dataframe tbody tr th {\n",
       "        vertical-align: top;\n",
       "    }\n",
       "\n",
       "    .dataframe thead th {\n",
       "        text-align: right;\n",
       "    }\n",
       "</style>\n",
       "<table border=\"1\" class=\"dataframe\">\n",
       "  <thead>\n",
       "    <tr style=\"text-align: right;\">\n",
       "      <th></th>\n",
       "      <th>Name</th>\n",
       "      <th>age</th>\n",
       "      <th>Location</th>\n",
       "    </tr>\n",
       "  </thead>\n",
       "  <tbody>\n",
       "    <tr>\n",
       "      <th>0</th>\n",
       "      <td>Samul</td>\n",
       "      <td>21</td>\n",
       "      <td>Abuja</td>\n",
       "    </tr>\n",
       "    <tr>\n",
       "      <th>1</th>\n",
       "      <td>Esther</td>\n",
       "      <td>20</td>\n",
       "      <td>Lagos</td>\n",
       "    </tr>\n",
       "  </tbody>\n",
       "</table>\n",
       "</div>"
      ],
      "text/plain": [
       "     Name   age  Location\n",
       "0   Samul    21     Abuja\n",
       "1  Esther    20     Lagos"
      ]
     },
     "execution_count": 17,
     "metadata": {},
     "output_type": "execute_result"
    }
   ],
   "source": []
  },
  {
   "cell_type": "code",
   "execution_count": 138,
   "metadata": {},
   "outputs": [
    {
     "data": {
      "text/html": [
       "<div>\n",
       "<style scoped>\n",
       "    .dataframe tbody tr th:only-of-type {\n",
       "        vertical-align: middle;\n",
       "    }\n",
       "\n",
       "    .dataframe tbody tr th {\n",
       "        vertical-align: top;\n",
       "    }\n",
       "\n",
       "    .dataframe thead th {\n",
       "        text-align: right;\n",
       "    }\n",
       "</style>\n",
       "<table border=\"1\" class=\"dataframe\">\n",
       "  <thead>\n",
       "    <tr style=\"text-align: right;\">\n",
       "      <th></th>\n",
       "      <th>col_header1</th>\n",
       "      <th>col_header2</th>\n",
       "    </tr>\n",
       "  </thead>\n",
       "  <tbody>\n",
       "    <tr>\n",
       "      <th>row_1</th>\n",
       "      <td>Some Data</td>\n",
       "      <td>Some Data</td>\n",
       "    </tr>\n",
       "    <tr>\n",
       "      <th>row_2</th>\n",
       "      <td>Some more data</td>\n",
       "      <td>Some more data</td>\n",
       "    </tr>\n",
       "    <tr>\n",
       "      <th>row_3</th>\n",
       "      <td>Some more data</td>\n",
       "      <td>NaN</td>\n",
       "    </tr>\n",
       "    <tr>\n",
       "      <th>row_4</th>\n",
       "      <td>NaN</td>\n",
       "      <td>Some more data</td>\n",
       "    </tr>\n",
       "  </tbody>\n",
       "</table>\n",
       "</div>"
      ],
      "text/plain": [
       "          col_header1     col_header2\n",
       "row_1       Some Data       Some Data\n",
       "row_2  Some more data  Some more data\n",
       "row_3  Some more data             NaN\n",
       "row_4             NaN  Some more data"
      ]
     },
     "execution_count": 138,
     "metadata": {},
     "output_type": "execute_result"
    }
   ],
   "source": [
    "# All data used to build a build rows are gotten from a dictionary like object like a dictionary itself or a Pandas Series\n",
    "\n",
    "# So, if we build our dataframe using a dictionary, The dictionary Key will be the columns,\n",
    "# The value of the keys houses a dictionary like objecct, and the index of these keys become the rows, and their vakue the row data\n",
    "# e.g\n",
    "\n",
    "table = {\n",
    "    'col_header1' : {\n",
    "        \"row_1\": 'Some Data',\n",
    "        \"row_2\" : 'Some more data',\n",
    "        \"row_3\" : 'Some more data'\n",
    "    },\n",
    "    'col_header2' : {\n",
    "        \"row_1\": 'Some Data',\n",
    "        \"row_2\" : 'Some more data',\n",
    "        \"row_4\" : 'Some more data'\n",
    "    }\n",
    "}\n",
    "pd.DataFrame(table)"
   ]
  },
  {
   "cell_type": "code",
   "execution_count": 2,
   "metadata": {},
   "outputs": [
    {
     "data": {
      "text/html": [
       "<div>\n",
       "<style scoped>\n",
       "    .dataframe tbody tr th:only-of-type {\n",
       "        vertical-align: middle;\n",
       "    }\n",
       "\n",
       "    .dataframe tbody tr th {\n",
       "        vertical-align: top;\n",
       "    }\n",
       "\n",
       "    .dataframe thead th {\n",
       "        text-align: right;\n",
       "    }\n",
       "</style>\n",
       "<table border=\"1\" class=\"dataframe\">\n",
       "  <thead>\n",
       "    <tr style=\"text-align: right;\">\n",
       "      <th></th>\n",
       "      <th>col_data1</th>\n",
       "      <th>col_data2</th>\n",
       "      <th>col_data3</th>\n",
       "    </tr>\n",
       "  </thead>\n",
       "  <tbody>\n",
       "    <tr>\n",
       "      <th>0</th>\n",
       "      <td>Some data</td>\n",
       "      <td>Some more data</td>\n",
       "      <td>NaN</td>\n",
       "    </tr>\n",
       "    <tr>\n",
       "      <th>1</th>\n",
       "      <td>Some data</td>\n",
       "      <td>Some more data</td>\n",
       "      <td>Some moreee data</td>\n",
       "    </tr>\n",
       "  </tbody>\n",
       "</table>\n",
       "</div>"
      ],
      "text/plain": [
       "   col_data1       col_data2         col_data3\n",
       "0  Some data  Some more data               NaN\n",
       "1  Some data  Some more data  Some moreee data"
      ]
     },
     "execution_count": 2,
     "metadata": {},
     "output_type": "execute_result"
    }
   ],
   "source": [
    "# If we build our dataframe using a List,The list index number becomes the row and for its children, \n",
    "# The value of the keys become the column data. Please, note the distinction e.g\n",
    "import pandas as pd\n",
    "table = [\n",
    "        {\n",
    "            \"col_data1\": \"Some data\",\n",
    "            \"col_data2\": \"Some more data\"\n",
    "        },\n",
    "        {\n",
    "            \"col_data1\": \"Some data\",\n",
    "            \"col_data2\": \"Some more data\", \n",
    "            \"col_data3\": \"Some moreee data\"\n",
    "        },\n",
    "        \n",
    "]\n",
    "\n",
    "pd.DataFrame(table)"
   ]
  },
  {
   "cell_type": "code",
   "execution_count": 15,
   "metadata": {},
   "outputs": [
    {
     "data": {
      "text/html": [
       "<div>\n",
       "<style scoped>\n",
       "    .dataframe tbody tr th:only-of-type {\n",
       "        vertical-align: middle;\n",
       "    }\n",
       "\n",
       "    .dataframe tbody tr th {\n",
       "        vertical-align: top;\n",
       "    }\n",
       "\n",
       "    .dataframe thead th {\n",
       "        text-align: right;\n",
       "    }\n",
       "</style>\n",
       "<table border=\"1\" class=\"dataframe\">\n",
       "  <thead>\n",
       "    <tr style=\"text-align: right;\">\n",
       "      <th></th>\n",
       "      <th>zeroth</th>\n",
       "      <th>first</th>\n",
       "      <th>second</th>\n",
       "      <th>third</th>\n",
       "    </tr>\n",
       "  </thead>\n",
       "  <tbody>\n",
       "    <tr>\n",
       "      <th>Sam</th>\n",
       "      <td>500</td>\n",
       "      <td>100</td>\n",
       "      <td>150</td>\n",
       "      <td>125.0</td>\n",
       "    </tr>\n",
       "    <tr>\n",
       "      <th>Vic</th>\n",
       "      <td>1000</td>\n",
       "      <td>200</td>\n",
       "      <td>300</td>\n",
       "      <td>250.0</td>\n",
       "    </tr>\n",
       "    <tr>\n",
       "      <th>John</th>\n",
       "      <td>1600</td>\n",
       "      <td>350</td>\n",
       "      <td>450</td>\n",
       "      <td>400.0</td>\n",
       "    </tr>\n",
       "    <tr>\n",
       "      <th>Wilson</th>\n",
       "      <td>2000</td>\n",
       "      <td>400</td>\n",
       "      <td>600</td>\n",
       "      <td>500.0</td>\n",
       "    </tr>\n",
       "    <tr>\n",
       "      <th>Peter</th>\n",
       "      <td>2400</td>\n",
       "      <td>500</td>\n",
       "      <td>700</td>\n",
       "      <td>600.0</td>\n",
       "    </tr>\n",
       "  </tbody>\n",
       "</table>\n",
       "</div>"
      ],
      "text/plain": [
       "        zeroth  first  second  third\n",
       "Sam        500    100     150  125.0\n",
       "Vic       1000    200     300  250.0\n",
       "John      1600    350     450  400.0\n",
       "Wilson    2000    400     600  500.0\n",
       "Peter     2400    500     700  600.0"
      ]
     },
     "execution_count": 15,
     "metadata": {},
     "output_type": "execute_result"
    }
   ],
   "source": [
    "# Revision on Python pandas\n",
    "series = pd.Series(data=[100, 200, 300, 400, 500], index=[\"Sam\", \"Vic\", \"John\", \"Wilson\", \"Peter\"])\n",
    "series.iloc[2] = 350\n",
    "series2 = pd.Series(data=[150, 300, 450, 600, 700], index=[\"Sam\", \"Vic\", \"John\", \"Wilson\", \"Peter\"])\n",
    "y = pd.DataFrame({\n",
    "    'first': series,\n",
    "    \"second\": series2\n",
    "})\n",
    "\n",
    "y[\"third\"] = (y[\"first\"] + y[\"second\"] ) / 2\n",
    "indNew = (y[\"first\"] + y[\"second\"] ) * 2\n",
    "y.insert(0, \"zeroth\", indNew)\n",
    "y"
   ]
  },
  {
   "cell_type": "markdown",
   "metadata": {},
   "source": [
    "<h1 style=\"color: teal;\">Importing Data From Files in Pandas</h1>\n",
    "\n",
    "<p>\n",
    "Pandas provides us with ways of importing data from  different files.\n",
    "<br>The returned data is converted to one of pandas data structures (series, or datafame)\n",
    "<br>Some files that can be imported to Pandas include\n",
    "</p>\n",
    "<ul style=\"font-family: verdana\">\n",
    "\n",
    "<li>csv file using pd.read_csv(\"file_path.csv\", sep=\",\")</li>\n",
    "<li>sql file using pd.read_sql_query(\"SQL Query\", DataBase_Connection)</li>\n",
    "<li>json file using pd.read_json(\"file_path.json\")</li>\n",
    "<li>html file using pd.read_html(\"file_path.html\")</li>\n",
    "</ul>"
   ]
  },
  {
   "cell_type": "code",
   "execution_count": 7,
   "metadata": {},
   "outputs": [
    {
     "data": {
      "text/html": [
       "<div>\n",
       "<style scoped>\n",
       "    .dataframe tbody tr th:only-of-type {\n",
       "        vertical-align: middle;\n",
       "    }\n",
       "\n",
       "    .dataframe tbody tr th {\n",
       "        vertical-align: top;\n",
       "    }\n",
       "\n",
       "    .dataframe thead th {\n",
       "        text-align: right;\n",
       "    }\n",
       "</style>\n",
       "<table border=\"1\" class=\"dataframe\">\n",
       "  <thead>\n",
       "    <tr style=\"text-align: right;\">\n",
       "      <th></th>\n",
       "      <th>name</th>\n",
       "      <th>age</th>\n",
       "      <th>friends</th>\n",
       "    </tr>\n",
       "  </thead>\n",
       "  <tbody>\n",
       "    <tr>\n",
       "      <th>0</th>\n",
       "      <td>Samuel</td>\n",
       "      <td>22</td>\n",
       "      <td>[Peter, James, John]</td>\n",
       "    </tr>\n",
       "    <tr>\n",
       "      <th>1</th>\n",
       "      <td>Peter</td>\n",
       "      <td>21</td>\n",
       "      <td>[Peter, James, John]</td>\n",
       "    </tr>\n",
       "  </tbody>\n",
       "</table>\n",
       "</div>"
      ],
      "text/plain": [
       "     name  age               friends\n",
       "0  Samuel   22  [Peter, James, John]\n",
       "1   Peter   21  [Peter, James, John]"
      ]
     },
     "execution_count": 7,
     "metadata": {},
     "output_type": "execute_result"
    }
   ],
   "source": [
    "# e.g working with importing files with pandas\n",
    "\n",
    "pd.read_csv(\"./file.csv\", sep=',') # Returns a pd dataframe \n",
    "pd.read_json(\"./file.json\")"
   ]
  },
  {
   "cell_type": "code",
   "execution_count": 24,
   "metadata": {},
   "outputs": [],
   "source": [
    "import pandas as pd\n",
    "import os\n",
    "os.chdir('c:\\\\Users\\\\USER\\\\Desktop\\\\PyForRx\\\\ml-25m\\\\')\n",
    "os.getcwd()\n",
    "read_me = open(r'c:\\Users\\USER\\Desktop\\PyForRx\\ml-25m\\README.txt', 'r')\n"
   ]
  },
  {
   "cell_type": "markdown",
   "metadata": {},
   "source": [
    "<h1>Data Ingestion is the process of taking in (importing) data from a source into python</h1>\n",
    "<p style=\"font-family: Arial; font-size:1.75em;color:#2462C0; font-style:bold\">\n",
    "Use Pandas to Read the Dataset<br>\n",
    "</p>\n",
    "<br>\n",
    "In this notebook, we will be using three CSV files:\n",
    "* **ratings.csv :** *userId*,*movieId*,*rating*, *timestamp*\n",
    "* **tags.csv :** *userId*,*movieId*, *tag*, *timestamp*\n",
    "* **movies.csv :** *movieId*, *title*, *genres* <br>\n",
    "\n",
    "Using the *read_csv* function in pandas, we will ingest these three files."
   ]
  },
  {
   "cell_type": "code",
   "execution_count": 9,
   "metadata": {},
   "outputs": [],
   "source": [
    "# Importing the data\n",
    "movies = pd.read_csv('C:/Users/USER/Desktop/PyForRx/PythonForRx/Week-4-Pandas/movielens/ml-25m/movies.csv', sep=',')\n",
    "# pd.read_csv('C:/Users/USER/Desktop/PyForRx/PythonForRx/Week-4-Pandas/movielens/ml-25m/links.csv', sep=',')\n",
    "tags = pd.read_csv('C:/Users/USER/Desktop/PyForRx/PythonForRx/Week-4-Pandas/movielens/ml-25m/tags.csv', sep=',')\n",
    "ratings = pd.read_csv('C:/Users/USER/Desktop/PyForRx/PythonForRx/Week-4-Pandas/movielens/ml-25m/ratings.csv', sep=',')"
   ]
  },
  {
   "cell_type": "code",
   "execution_count": 11,
   "metadata": {},
   "outputs": [
    {
     "data": {
      "text/html": [
       "<div>\n",
       "<style scoped>\n",
       "    .dataframe tbody tr th:only-of-type {\n",
       "        vertical-align: middle;\n",
       "    }\n",
       "\n",
       "    .dataframe tbody tr th {\n",
       "        vertical-align: top;\n",
       "    }\n",
       "\n",
       "    .dataframe thead th {\n",
       "        text-align: right;\n",
       "    }\n",
       "</style>\n",
       "<table border=\"1\" class=\"dataframe\">\n",
       "  <thead>\n",
       "    <tr style=\"text-align: right;\">\n",
       "      <th></th>\n",
       "      <th>userId</th>\n",
       "      <th>movieId</th>\n",
       "      <th>tag</th>\n",
       "      <th>timestamp</th>\n",
       "    </tr>\n",
       "  </thead>\n",
       "  <tbody>\n",
       "    <tr>\n",
       "      <th>0</th>\n",
       "      <td>3</td>\n",
       "      <td>260</td>\n",
       "      <td>classic</td>\n",
       "      <td>1439472355</td>\n",
       "    </tr>\n",
       "    <tr>\n",
       "      <th>1</th>\n",
       "      <td>3</td>\n",
       "      <td>260</td>\n",
       "      <td>sci-fi</td>\n",
       "      <td>1439472256</td>\n",
       "    </tr>\n",
       "    <tr>\n",
       "      <th>2</th>\n",
       "      <td>4</td>\n",
       "      <td>1732</td>\n",
       "      <td>dark comedy</td>\n",
       "      <td>1573943598</td>\n",
       "    </tr>\n",
       "    <tr>\n",
       "      <th>3</th>\n",
       "      <td>4</td>\n",
       "      <td>1732</td>\n",
       "      <td>great dialogue</td>\n",
       "      <td>1573943604</td>\n",
       "    </tr>\n",
       "    <tr>\n",
       "      <th>4</th>\n",
       "      <td>4</td>\n",
       "      <td>7569</td>\n",
       "      <td>so bad it's good</td>\n",
       "      <td>1573943455</td>\n",
       "    </tr>\n",
       "    <tr>\n",
       "      <th>5</th>\n",
       "      <td>4</td>\n",
       "      <td>44665</td>\n",
       "      <td>unreliable narrators</td>\n",
       "      <td>1573943619</td>\n",
       "    </tr>\n",
       "  </tbody>\n",
       "</table>\n",
       "</div>"
      ],
      "text/plain": [
       "   userId  movieId                   tag   timestamp\n",
       "0       3      260               classic  1439472355\n",
       "1       3      260                sci-fi  1439472256\n",
       "2       4     1732           dark comedy  1573943598\n",
       "3       4     1732        great dialogue  1573943604\n",
       "4       4     7569      so bad it's good  1573943455\n",
       "5       4    44665  unreliable narrators  1573943619"
      ]
     },
     "execution_count": 11,
     "metadata": {},
     "output_type": "execute_result"
    }
   ],
   "source": [
    "# Viewing a couple of the data\n",
    "movies.head()\n",
    "tags.head(6) # has columns -> \tuserId  |\tmovieId\t |  tag\t |  timestamp"
   ]
  },
  {
   "cell_type": "code",
   "execution_count": 12,
   "metadata": {},
   "outputs": [],
   "source": [
    "# Removing the timestamps columns from ratings and tags\n",
    "del tags[\"timestamp\"]\n",
    "del ratings[\"timestamp\"]"
   ]
  },
  {
   "cell_type": "code",
   "execution_count": 20,
   "metadata": {},
   "outputs": [
    {
     "data": {
      "text/plain": [
       "True"
      ]
     },
     "execution_count": 20,
     "metadata": {},
     "output_type": "execute_result"
    }
   ],
   "source": [
    "# Accessing data in a row\n",
    "row_0 = tags.iloc[0] # Returns the data of row 0\n",
    "\n",
    "row_0.index # Returns the column name for each data on the specified row\n",
    "\n",
    "row_0['userId'] # Returns data at index location userId\n",
    "\n",
    "multiple_rows = tags.iloc[ [0, 5, 10] ] # Extract rows 0, 5 and 10\n",
    "multiple_rows\n",
    "\n",
    "'userId' in multiple_rows # Checks if userId is a column in the returned rows\n"
   ]
  },
  {
   "cell_type": "code",
   "execution_count": 22,
   "metadata": {},
   "outputs": [
    {
     "data": {
      "text/html": [
       "<div>\n",
       "<style scoped>\n",
       "    .dataframe tbody tr th:only-of-type {\n",
       "        vertical-align: middle;\n",
       "    }\n",
       "\n",
       "    .dataframe tbody tr th {\n",
       "        vertical-align: top;\n",
       "    }\n",
       "\n",
       "    .dataframe thead th {\n",
       "        text-align: right;\n",
       "    }\n",
       "</style>\n",
       "<table border=\"1\" class=\"dataframe\">\n",
       "  <thead>\n",
       "    <tr style=\"text-align: right;\">\n",
       "      <th></th>\n",
       "      <th>userId</th>\n",
       "      <th>movieId</th>\n",
       "      <th>rating</th>\n",
       "    </tr>\n",
       "  </thead>\n",
       "  <tbody>\n",
       "    <tr>\n",
       "      <th>0</th>\n",
       "      <td>1</td>\n",
       "      <td>296</td>\n",
       "      <td>5.0</td>\n",
       "    </tr>\n",
       "    <tr>\n",
       "      <th>1</th>\n",
       "      <td>1</td>\n",
       "      <td>306</td>\n",
       "      <td>3.5</td>\n",
       "    </tr>\n",
       "    <tr>\n",
       "      <th>2</th>\n",
       "      <td>1</td>\n",
       "      <td>307</td>\n",
       "      <td>5.0</td>\n",
       "    </tr>\n",
       "  </tbody>\n",
       "</table>\n",
       "</div>"
      ],
      "text/plain": [
       "   userId  movieId  rating\n",
       "0       1      296     5.0\n",
       "1       1      306     3.5\n",
       "2       1      307     5.0"
      ]
     },
     "execution_count": 22,
     "metadata": {},
     "output_type": "execute_result"
    }
   ],
   "source": [
    "ratings.head(3)"
   ]
  },
  {
   "cell_type": "code",
   "execution_count": 24,
   "metadata": {},
   "outputs": [
    {
     "data": {
      "text/plain": [
       "count    2.500010e+07\n",
       "mean     3.533854e+00\n",
       "std      1.060744e+00\n",
       "min      5.000000e-01\n",
       "25%      3.000000e+00\n",
       "50%      3.500000e+00\n",
       "75%      4.000000e+00\n",
       "max      5.000000e+00\n",
       "Name: rating, dtype: float64"
      ]
     },
     "execution_count": 24,
     "metadata": {},
     "output_type": "execute_result"
    }
   ],
   "source": [
    "ratings[\"rating\"].describe()"
   ]
  },
  {
   "cell_type": "code",
   "execution_count": null,
   "metadata": {},
   "outputs": [],
   "source": []
  }
 ],
 "metadata": {
  "interpreter": {
   "hash": "ac59ebe37160ed0dfa835113d9b8498d9f09ceb179beaac4002f036b9467c963"
  },
  "kernelspec": {
   "display_name": "Python 3.9.4 64-bit",
   "name": "python3"
  },
  "language_info": {
   "codemirror_mode": {
    "name": "ipython",
    "version": 3
   },
   "file_extension": ".py",
   "mimetype": "text/x-python",
   "name": "python",
   "nbconvert_exporter": "python",
   "pygments_lexer": "ipython3",
   "version": "3.9.4"
  },
  "orig_nbformat": 4
 },
 "nbformat": 4,
 "nbformat_minor": 2
}
